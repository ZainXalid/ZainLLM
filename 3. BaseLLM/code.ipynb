{
 "cells": [
  {
   "cell_type": "markdown",
   "id": "a651517d",
   "metadata": {},
   "source": [
    "## 1 Downloading The Dataset"
   ]
  },
  {
   "cell_type": "code",
   "execution_count": 1,
   "id": "ceba926b",
   "metadata": {},
   "outputs": [],
   "source": [
    "#Downloading dataset to train on.\n",
    "\n",
    "#!wget https://raw.githubusercontent.com/karpathy/char-rnn/master/data/tinyshakespeare/input.txt"
   ]
  },
  {
   "cell_type": "code",
   "execution_count": 2,
   "id": "4b8f5af0",
   "metadata": {},
   "outputs": [
    {
     "name": "stdout",
     "output_type": "stream",
     "text": [
      "Total number of characters in the dataset :  1115394\n"
     ]
    }
   ],
   "source": [
    "with open('../dataset.txt','r',encoding='utf-8') as data:\n",
    "    text = data.read()\n",
    "    \n",
    "print(\"Total number of characters in the dataset : \",len(text))"
   ]
  },
  {
   "cell_type": "code",
   "execution_count": 3,
   "id": "3834c1d0",
   "metadata": {},
   "outputs": [
    {
     "name": "stdout",
     "output_type": "stream",
     "text": [
      "First 100 characters :  First Citizen:\n",
      "Before we proceed any further, hear me speak.\n",
      "\n",
      "All:\n",
      "Speak, speak.\n",
      "\n",
      "First Citizen:\n",
      "You\n"
     ]
    }
   ],
   "source": [
    "print('First 100 characters : ', text[:100])"
   ]
  },
  {
   "cell_type": "markdown",
   "id": "7acbfc01",
   "metadata": {},
   "source": [
    "## 2 Processing The Dataset "
   ]
  },
  {
   "cell_type": "markdown",
   "id": "4edc1c45",
   "metadata": {},
   "source": [
    "### 2.1 Building Vocabulary "
   ]
  },
  {
   "cell_type": "code",
   "execution_count": 4,
   "id": "b5eb3c15",
   "metadata": {},
   "outputs": [
    {
     "name": "stdout",
     "output_type": "stream",
     "text": [
      "Number of unique characters in the dataset = 65\n",
      "\n",
      "Which are following : \n",
      " \n",
      " !$&',-.3:;?ABCDEFGHIJKLMNOPQRSTUVWXYZabcdefghijklmnopqrstuvwxyz\n"
     ]
    }
   ],
   "source": [
    "chars = sorted(list(set(text)))\n",
    "vocab_size = len(chars)\n",
    "\n",
    "print('Number of unique characters in the dataset =',vocab_size)\n",
    "print('\\nWhich are following : \\n',''.join(chars))"
   ]
  },
  {
   "cell_type": "markdown",
   "id": "197eb0ad",
   "metadata": {},
   "source": [
    "### 2.2 Building Tokenizer  (Custom Encoder, Decoder)"
   ]
  },
  {
   "cell_type": "code",
   "execution_count": 5,
   "id": "b7bb59d7",
   "metadata": {},
   "outputs": [],
   "source": [
    "#mapping individual charaters to integers \n",
    "\n",
    "encoder = { char:i for i,char in enumerate(chars)}\n",
    "decoder = { i:char for i,char in enumerate(chars)}\n",
    "\n",
    "encode = lambda string: [encoder[char] for char in string]\n",
    "decode = lambda integers: [decoder[i] for i in integers]"
   ]
  },
  {
   "cell_type": "code",
   "execution_count": 6,
   "id": "9e9e1325",
   "metadata": {},
   "outputs": [
    {
     "name": "stdout",
     "output_type": "stream",
     "text": [
      "Encoded Zain Khalid \n",
      "=  [38, 39, 47, 52, 1, 23, 46, 39, 50, 47, 42]\n",
      "\n",
      "Decoded  [38, 39, 47, 52, 1, 23, 46, 39, 50, 47, 42] \n",
      "= Zain Khalid\n"
     ]
    }
   ],
   "source": [
    "zk = encode('Zain Khalid')\n",
    "print('Encoded Zain Khalid \\n= ',zk)\n",
    "print('\\nDecoded ',zk,'\\n=', ''.join(decode(zk)))"
   ]
  },
  {
   "cell_type": "markdown",
   "id": "9112e836",
   "metadata": {},
   "source": [
    "### 2.3 Encoding The Dataset "
   ]
  },
  {
   "cell_type": "code",
   "execution_count": 7,
   "id": "7bfe348c",
   "metadata": {},
   "outputs": [],
   "source": [
    "import tensorflow as tf"
   ]
  },
  {
   "cell_type": "code",
   "execution_count": 8,
   "id": "b29a47e8",
   "metadata": {},
   "outputs": [
    {
     "name": "stdout",
     "output_type": "stream",
     "text": [
      "(1115394,) <dtype: 'int64'>\n"
     ]
    }
   ],
   "source": [
    "data = tf.convert_to_tensor(encode(text), dtype=tf.int64)\n",
    "print(data.shape, data.dtype)"
   ]
  },
  {
   "cell_type": "code",
   "execution_count": 9,
   "id": "f587ca05",
   "metadata": {},
   "outputs": [
    {
     "name": "stdout",
     "output_type": "stream",
     "text": [
      "tf.Tensor(\n",
      "[18 47 56 57 58  1 15 47 58 47 64 43 52 10  0 14 43 44 53 56 43  1 61 43\n",
      "  1 54 56 53 41 43 43 42  1 39 52 63  1 44 59 56 58 46 43 56  6  1 46 43\n",
      " 39 56  1 51 43  1 57 54 43 39 49  8  0  0 13 50 50 10  0 31 54 43 39 49\n",
      "  6  1 57 54 43 39 49  8  0  0 18 47 56 57 58  1 15 47 58 47 64 43 52 10\n",
      "  0 37 53 59], shape=(100,), dtype=int64)\n"
     ]
    }
   ],
   "source": [
    "print(data[:100])"
   ]
  },
  {
   "cell_type": "markdown",
   "id": "93bd1204",
   "metadata": {},
   "source": [
    "### 2.4 Splitting the dataset (Train,Validate) "
   ]
  },
  {
   "cell_type": "code",
   "execution_count": 10,
   "id": "21c6932b",
   "metadata": {},
   "outputs": [],
   "source": [
    "limit = int(0.9 * len(data))\n",
    "\n",
    "train_data = data[:limit]\n",
    "val_data = data[limit:]"
   ]
  },
  {
   "cell_type": "code",
   "execution_count": 11,
   "id": "405e9d36",
   "metadata": {},
   "outputs": [
    {
     "name": "stdout",
     "output_type": "stream",
     "text": [
      "tf.Tensor(\n",
      "[18 47 56 57 58  1 15 47 58 47 64 43 52 10  0 14 43 44 53 56 43  1 61 43\n",
      "  1 54 56 53 41 43 43 42  1 39 52 63  1 44 59 56 58 46 43 56  6  1 46 43\n",
      " 39 56  1 51 43  1 57 54 43 39 49  8  0  0 13 50 50 10  0 31 54 43 39 49\n",
      "  6  1 57 54 43 39 49  8  0  0 18 47 56 57 58  1 15 47 58 47 64 43 52 10\n",
      "  0 37 53 59], shape=(100,), dtype=int64)\n"
     ]
    }
   ],
   "source": [
    "print(train_data[:100])"
   ]
  },
  {
   "cell_type": "markdown",
   "id": "e9ebe61f",
   "metadata": {},
   "source": [
    "### 2.5 Chunking Dataset in Blocks (x,y) (To Train Transformer) "
   ]
  },
  {
   "cell_type": "markdown",
   "id": "13bd0c0e",
   "metadata": {},
   "source": [
    "#### Concept "
   ]
  },
  {
   "cell_type": "code",
   "execution_count": 12,
   "id": "75a35f22",
   "metadata": {},
   "outputs": [
    {
     "data": {
      "text/plain": [
       "<tf.Tensor: shape=(9,), dtype=int64, numpy=array([18, 47, 56, 57, 58,  1, 15, 47, 58], dtype=int64)>"
      ]
     },
     "execution_count": 12,
     "metadata": {},
     "output_type": "execute_result"
    }
   ],
   "source": [
    "block_size = 8\n",
    "train_data[:block_size+1]"
   ]
  },
  {
   "cell_type": "code",
   "execution_count": 13,
   "id": "9f8feb5c",
   "metadata": {},
   "outputs": [
    {
     "name": "stdout",
     "output_type": "stream",
     "text": [
      "for input:  [18]   target is:  47\n",
      "for input:  [18, 47]   target is:  56\n",
      "for input:  [18, 47, 56]   target is:  57\n",
      "for input:  [18, 47, 56, 57]   target is:  58\n",
      "for input:  [18, 47, 56, 57, 58]   target is:  1\n",
      "for input:  [18, 47, 56, 57, 58, 1]   target is:  15\n",
      "for input:  [18, 47, 56, 57, 58, 1, 15]   target is:  47\n",
      "for input:  [18, 47, 56, 57, 58, 1, 15, 47]   target is:  58\n"
     ]
    }
   ],
   "source": [
    "x = train_data[:block_size]\n",
    "y = train_data[1:block_size+1]\n",
    "\n",
    "for token in range(block_size):\n",
    "    context = x[:token+1]\n",
    "    target = y[token]\n",
    "    print('for input: ',context.numpy().tolist(),'  target is: ',target.numpy().tolist())"
   ]
  },
  {
   "cell_type": "markdown",
   "id": "d7e38556",
   "metadata": {},
   "source": [
    "#### Implementation "
   ]
  },
  {
   "cell_type": "code",
   "execution_count": 14,
   "id": "818ec1e7",
   "metadata": {},
   "outputs": [
    {
     "name": "stdout",
     "output_type": "stream",
     "text": [
      "inputs:\n",
      "(4, 8)\n",
      "tf.Tensor(\n",
      "[[ 1 21  1 39 51  1 45 39]\n",
      " [14 59 58  1 39 57  1 58]\n",
      " [ 0 32 46 53 59  1 42 43]\n",
      " [42  1 54 56 53 57 54 43]], shape=(4, 8), dtype=int64)\n",
      "targets:\n",
      "(4, 8)\n",
      "tf.Tensor(\n",
      "[[21  1 39 51  1 45 39 50]\n",
      " [59 58  1 39 57  1 58 46]\n",
      " [32 46 53 59  1 42 43 57]\n",
      " [ 1 54 56 53 57 54 43 56]], shape=(4, 8), dtype=int64)\n"
     ]
    }
   ],
   "source": [
    "batch_size = 4 #Number of independent input sequences to process in parallel for GPU\n",
    "block_size = 8 #Maximum context length to make predictions\n",
    "n_embd = 32\n",
    "\n",
    "def get_batch(split):\n",
    "    #generate small batches of input x & target y\n",
    "    data = train_data if split == 'train' else val_data\n",
    "    randPos = tf.dtypes.cast(tf.random.uniform((batch_size,), minval=0, maxval=(len(data)-block_size)), dtype=tf.int32)\n",
    "    #print(randPos) # random positions in the whole datasets to grab block size chunks\n",
    "    xbatch = tf.stack([data[i:i+block_size] for i in randPos])\n",
    "    ybatch = tf.stack([data[i+1:i+block_size+1] for i in randPos])\n",
    "    \n",
    "    return xbatch, ybatch\n",
    "\n",
    "xbatch, ybatch = get_batch('train')\n",
    "\n",
    "print('inputs:')\n",
    "print(xbatch.shape)\n",
    "print(xbatch)\n",
    "\n",
    "print('targets:')\n",
    "print(ybatch.shape)\n",
    "print(ybatch)"
   ]
  },
  {
   "cell_type": "code",
   "execution_count": 15,
   "id": "08f42ea7",
   "metadata": {},
   "outputs": [
    {
     "name": "stdout",
     "output_type": "stream",
     "text": [
      "for input:  [1]   target is:  21\n",
      "for input:  [1, 21]   target is:  1\n",
      "for input:  [1, 21, 1]   target is:  39\n",
      "for input:  [1, 21, 1, 39]   target is:  51\n",
      "for input:  [1, 21, 1, 39, 51]   target is:  1\n",
      "for input:  [1, 21, 1, 39, 51, 1]   target is:  45\n",
      "for input:  [1, 21, 1, 39, 51, 1, 45]   target is:  39\n",
      "for input:  [1, 21, 1, 39, 51, 1, 45, 39]   target is:  50\n",
      "for input:  [14]   target is:  59\n",
      "for input:  [14, 59]   target is:  58\n",
      "for input:  [14, 59, 58]   target is:  1\n",
      "for input:  [14, 59, 58, 1]   target is:  39\n",
      "for input:  [14, 59, 58, 1, 39]   target is:  57\n",
      "for input:  [14, 59, 58, 1, 39, 57]   target is:  1\n",
      "for input:  [14, 59, 58, 1, 39, 57, 1]   target is:  58\n",
      "for input:  [14, 59, 58, 1, 39, 57, 1, 58]   target is:  46\n",
      "for input:  [0]   target is:  32\n",
      "for input:  [0, 32]   target is:  46\n",
      "for input:  [0, 32, 46]   target is:  53\n",
      "for input:  [0, 32, 46, 53]   target is:  59\n",
      "for input:  [0, 32, 46, 53, 59]   target is:  1\n",
      "for input:  [0, 32, 46, 53, 59, 1]   target is:  42\n",
      "for input:  [0, 32, 46, 53, 59, 1, 42]   target is:  43\n",
      "for input:  [0, 32, 46, 53, 59, 1, 42, 43]   target is:  57\n",
      "for input:  [42]   target is:  1\n",
      "for input:  [42, 1]   target is:  54\n",
      "for input:  [42, 1, 54]   target is:  56\n",
      "for input:  [42, 1, 54, 56]   target is:  53\n",
      "for input:  [42, 1, 54, 56, 53]   target is:  57\n",
      "for input:  [42, 1, 54, 56, 53, 57]   target is:  54\n",
      "for input:  [42, 1, 54, 56, 53, 57, 54]   target is:  43\n",
      "for input:  [42, 1, 54, 56, 53, 57, 54, 43]   target is:  56\n"
     ]
    }
   ],
   "source": [
    "for row in range(batch_size):\n",
    "    for token in range(block_size):\n",
    "        context = xbatch[row, :token+1]\n",
    "        target = ybatch[row, token]\n",
    "        print('for input: ',context.numpy().tolist(),'  target is: ',target.numpy().tolist())"
   ]
  },
  {
   "cell_type": "markdown",
   "id": "6f997f8d",
   "metadata": {},
   "source": [
    "## 3 Bigram Language Model "
   ]
  },
  {
   "cell_type": "markdown",
   "id": "058ec6df",
   "metadata": {},
   "source": [
    "### 3.1 Model Architecture  "
   ]
  },
  {
   "cell_type": "code",
   "execution_count": 16,
   "id": "e913b0a7",
   "metadata": {
    "scrolled": false
   },
   "outputs": [],
   "source": [
    "\n",
    "class BigramLanguageModel(tf.keras.Model):\n",
    "\n",
    "    def __init__(self, vocab_size, n_embd):\n",
    "        super(BigramLanguageModel, self).__init__()\n",
    "        self.token_embedding_table = tf.keras.layers.Embedding(vocab_size, n_embd)\n",
    "        self.position_embedding_table = tf.keras.layers.Embedding(block_size, n_embd)\n",
    "        self.lm_head = tf.keras.layers.linear(n_embd, vocab_size)\n",
    "\n",
    "    def call(self, idx, targets=None, training=False):\n",
    "        B, T = idx.shape\n",
    "        \n",
    "        tok_emd = self.token_embedding_table(idx)  # (B, T, C)\n",
    "        pos_emd = self.position_embedding_table(tf.range(T)) #(T, C)\n",
    "        x = tok_emd + pos_emd #(B,T,C) # Holds Token identities & position\n",
    "        logits = self.lm_head(x) # (B, T, vocab_size) say C=n_embd\n",
    "\n",
    "        if targets is None:\n",
    "            loss = None\n",
    "        else:\n",
    "            B, T, C = logits.shape\n",
    "            logits = tf.reshape(logits, (B*T, C))\n",
    "            targets = tf.reshape(targets, (B*T,))\n",
    "            loss = tf.reduce_mean(\n",
    "                tf.nn.sparse_softmax_cross_entropy_with_logits(logits=logits, labels=targets)\n",
    "            )\n",
    "\n",
    "        return logits, loss\n",
    "\n",
    "    def generate(self, idx, max_new_tokens):\n",
    "        for _ in range(max_new_tokens):\n",
    "            logits, _ = self(idx)\n",
    "            logits = logits[:, -1, :]  # (B, C)\n",
    "            probs = tf.nn.softmax(logits, axis=-1)  # (B, C)\n",
    "            idx_next = tf.random.categorical(tf.math.log(probs), 1)  # (B, 1)\n",
    "            idx = tf.concat([idx, idx_next], axis=1)  # (B, T+1)\n",
    "        return idx\n"
   ]
  },
  {
   "cell_type": "markdown",
   "id": "debbb799",
   "metadata": {},
   "source": [
    "### 3.2 Model Initialization  "
   ]
  },
  {
   "cell_type": "code",
   "execution_count": 17,
   "id": "c9a011d9",
   "metadata": {},
   "outputs": [
    {
     "name": "stdout",
     "output_type": "stream",
     "text": [
      "(32, 65)\n",
      "tf.Tensor(4.1730795, shape=(), dtype=float32)\n"
     ]
    }
   ],
   "source": [
    "model = BigramLanguageModel(vocab_size)\n",
    "\n",
    "\n",
    "logits, loss = model(xbatch, ybatch)\n",
    "print(logits.shape)\n",
    "print(loss)"
   ]
  },
  {
   "cell_type": "markdown",
   "id": "9478e8f6",
   "metadata": {},
   "source": [
    "#### Untrained Model Results "
   ]
  },
  {
   "cell_type": "code",
   "execution_count": 18,
   "id": "83424ec4",
   "metadata": {
    "scrolled": true
   },
   "outputs": [
    {
     "name": "stdout",
     "output_type": "stream",
     "text": [
      "\n",
      "vEz\n",
      "O.ZpziNV3!;QfmrpUUh&RSP.A\n",
      "U,jdMjQXxXAZiQctAIxtUibxqgjs,kVjS3:?lKK,cDmMU ;rNYVS\n",
      "!-&wVd-tL;'YBN-:D\n"
     ]
    }
   ],
   "source": [
    "print(''.join(decode(model.generate(idx=tf.zeros((1, 1), dtype=tf.int64), max_new_tokens=100).numpy()[0].tolist())))\n",
    "\n",
    "#Total Garbage"
   ]
  },
  {
   "cell_type": "markdown",
   "id": "db9987a7",
   "metadata": {},
   "source": [
    "### 3.3 Model Training "
   ]
  },
  {
   "cell_type": "code",
   "execution_count": 19,
   "id": "0eab8339",
   "metadata": {},
   "outputs": [],
   "source": [
    "optimizer = tf.keras.optimizers.Adam(learning_rate=1e-3)"
   ]
  },
  {
   "cell_type": "code",
   "execution_count": 22,
   "id": "c24ad6c4",
   "metadata": {},
   "outputs": [
    {
     "name": "stdout",
     "output_type": "stream",
     "text": [
      "2.5484118\n"
     ]
    }
   ],
   "source": [
    "batch_size = 32\n",
    "num_steps = 10000\n",
    "\n",
    "for step in range(num_steps):\n",
    "    # Sample a batch of data\n",
    "    xbatch, ybatch = get_batch('train')  # Assuming you have a function get_batch\n",
    "\n",
    "    # Evaluate the loss\n",
    "    with tf.GradientTape() as tape:\n",
    "        logits, loss = model(xbatch, ybatch)\n",
    "\n",
    "    # Compute gradients and update weights\n",
    "    gradients = tape.gradient(loss, model.trainable_variables)\n",
    "    optimizer.apply_gradients(zip(gradients, model.trainable_variables))\n",
    "\n",
    "print('Loss = 'loss.numpy())\n"
   ]
  },
  {
   "cell_type": "code",
   "execution_count": 20,
   "id": "625bff1e",
   "metadata": {},
   "outputs": [
    {
     "name": "stdout",
     "output_type": "stream",
     "text": [
      "\n",
      "GRLiKWlrD.oVShwTA?lWEGrNUYtmccK;GQ:!aQ,e$gL3 K\n",
      "zz MGh!K;?,cFg?QdGoO:jnDswzqbuHcv?GClPAimtN$fBEz3jlr!d.qfzavAaaG$OHSdykcIJZCyPlOZ.$'kDFReW\n",
      "WVQVG!apWROy;\n",
      "BVSJ\n",
      "K.fB!KKMdOZgvroDgtATz'soNXSGQXScLayV$vQ:Zqp,FQ,uI&KP?CAsdHhFfHzRzFTiX&tEcfOYgLOEH,.pl w'TDbei,FlYNrFwIOlHjscx3QWSr.GL\n",
      "vFGltYBkFhiYAH.GBr'.T.ULFdAphl'yFAtm',TtdRLKAiCCtWQY?zOVmaMEyM&jRP!LxDtizrMoFk,TSb!yvUMDuKU.a'sDT?3vAHOxE!G\n",
      "IFB&WvC SMJTfAQ.stMFlgrnAX:MUCTtggWAifhF:D;LYzRFP\n",
      "yFXO,iT$Cc.VgBHjHC?;iv wIZkDi w$NgfkHpeQpactdN::vNF:-y$eajBjIMcUgZV\n"
     ]
    }
   ],
   "source": [
    "#Somewhat stuctured results\n",
    "\n",
    "print(''.join(decode(model.generate(idx=tf.zeros((1, 1), dtype=tf.int64), max_new_tokens=500).numpy()[0].tolist())))"
   ]
  },
  {
   "cell_type": "markdown",
   "id": "e2410eb5",
   "metadata": {},
   "source": [
    "# Adding Transformer  "
   ]
  },
  {
   "cell_type": "markdown",
   "id": "dc3a84d1",
   "metadata": {},
   "source": [
    "## 4 Maths for self-attention mechanism"
   ]
  },
  {
   "cell_type": "code",
   "execution_count": 81,
   "id": "bbaf7fc9",
   "metadata": {},
   "outputs": [],
   "source": [
    "#We want a method to preserve context for each word and it's former words in the time block"
   ]
  },
  {
   "cell_type": "code",
   "execution_count": 88,
   "id": "3fd07592",
   "metadata": {
    "scrolled": false
   },
   "outputs": [
    {
     "name": "stdout",
     "output_type": "stream",
     "text": [
      "for input:  [1]   target is:  21\n",
      "for input:  [1, 21]   target is:  1\n",
      "for input:  [1, 21, 1]   target is:  39\n",
      "for input:  [1, 21, 1, 39]   target is:  51\n",
      "for input:  [1, 21, 1, 39, 51]   target is:  1\n",
      "for input:  [1, 21, 1, 39, 51, 1]   target is:  45\n",
      "for input:  [1, 21, 1, 39, 51, 1, 45]   target is:  39\n",
      "for input:  [1, 21, 1, 39, 51, 1, 45, 39]   target is:  50\n"
     ]
    }
   ],
   "source": [
    "# example of words and their context\n",
    "\n",
    "for row in range(batch_size-3):\n",
    "    for token in range(block_size):\n",
    "        context = xbatch[row, :token+1]\n",
    "        target = ybatch[row, token]\n",
    "        print('for input: ',context.numpy().tolist(),'  target is: ',target.numpy().tolist())"
   ]
  },
  {
   "cell_type": "markdown",
   "id": "b5b86ce3",
   "metadata": {},
   "source": [
    "### 4.1 Aggregating for context (simplest method) "
   ]
  },
  {
   "cell_type": "markdown",
   "id": "ccce9828",
   "metadata": {},
   "source": [
    "#### Version 1 "
   ]
  },
  {
   "cell_type": "code",
   "execution_count": 132,
   "id": "4db80732",
   "metadata": {},
   "outputs": [
    {
     "name": "stdout",
     "output_type": "stream",
     "text": [
      "(4, 8, 2)\n"
     ]
    }
   ],
   "source": [
    "B, T, C = 4, 8, 2  # batch, time, channels\n",
    "x = tf.random.normal((B, T, C), dtype=tf.float64)\n",
    "print(x.shape)\n"
   ]
  },
  {
   "cell_type": "code",
   "execution_count": 133,
   "id": "302fe80d",
   "metadata": {},
   "outputs": [],
   "source": [
    "xbow = tf.zeros((B, T, C), dtype=tf.float64)\n",
    "for b in range(B):\n",
    "    for t in range(T):\n",
    "        xprev = x[b, :t+1, :]  # (t, C)\n",
    "        mean_value = tf.reduce_mean(xprev, axis=0)\n",
    "        xbow = tf.tensor_scatter_nd_add(xbow, indices=[[b, t]], updates=[mean_value])\n"
   ]
  },
  {
   "cell_type": "code",
   "execution_count": 134,
   "id": "bd53de82",
   "metadata": {},
   "outputs": [
    {
     "data": {
      "text/plain": [
       "<tf.Tensor: shape=(8, 2), dtype=float64, numpy=\n",
       "array([[-1.32613346, -0.09177541],\n",
       "       [-0.88821307, -0.95390373],\n",
       "       [-0.53244129,  2.39326375],\n",
       "       [-0.59578473, -1.95157164],\n",
       "       [-0.22948155, -0.74213509],\n",
       "       [ 0.23734349, -1.18848048],\n",
       "       [ 0.12768125, -0.54226973],\n",
       "       [ 0.09396947,  0.55996733]])>"
      ]
     },
     "execution_count": 134,
     "metadata": {},
     "output_type": "execute_result"
    }
   ],
   "source": [
    "x[0]\n",
    "#original data"
   ]
  },
  {
   "cell_type": "code",
   "execution_count": 135,
   "id": "81ec73df",
   "metadata": {
    "scrolled": false
   },
   "outputs": [
    {
     "data": {
      "text/plain": [
       "<tf.Tensor: shape=(8, 2), dtype=float64, numpy=\n",
       "array([[-1.32613346, -0.09177541],\n",
       "       [-1.10717326, -0.52283957],\n",
       "       [-0.91559594,  0.44919487],\n",
       "       [-0.83564314, -0.15099676],\n",
       "       [-0.71441082, -0.26922442],\n",
       "       [-0.5557851 , -0.42243377],\n",
       "       [-0.45814705, -0.43955319],\n",
       "       [-0.38913249, -0.31461312]])>"
      ]
     },
     "execution_count": 135,
     "metadata": {},
     "output_type": "execute_result"
    }
   ],
   "source": [
    "#aggregated data\n",
    "xbow[0]\n",
    "#each upcoming row is contains the aggregate of all previous "
   ]
  },
  {
   "cell_type": "markdown",
   "id": "5c3f7a7c",
   "metadata": {},
   "source": [
    "### 4.2 Efficient aggregating for context (simplest method) "
   ]
  },
  {
   "cell_type": "markdown",
   "id": "abaeb533",
   "metadata": {},
   "source": [
    "#### Concept (Same achived through matrix multiplication trick)"
   ]
  },
  {
   "cell_type": "code",
   "execution_count": 136,
   "id": "bff12d2b",
   "metadata": {},
   "outputs": [
    {
     "name": "stdout",
     "output_type": "stream",
     "text": [
      "a=\n",
      "[[1.         0.         0.        ]\n",
      " [0.5        0.5        0.        ]\n",
      " [0.33333333 0.33333333 0.33333333]]\n",
      "--\n",
      "b=\n",
      "[[8. 9.]\n",
      " [1. 7.]\n",
      " [7. 1.]]\n",
      "--\n",
      "c=\n",
      "[[8.         9.        ]\n",
      " [4.5        8.        ]\n",
      " [5.33333333 5.66666667]]\n"
     ]
    }
   ],
   "source": [
    "# import numpy as np\n",
    "\n",
    "# Create a lower triangular matrix\n",
    "a = tf.linalg.band_part(tf.ones((3, 3), dtype=tf.float64), -1, 0)\n",
    "a = a / tf.reduce_sum(a, axis=1, keepdims=True)\n",
    "\n",
    "# Create a random matrix with integer values between 0 and 10\n",
    "b = tf.constant(np.random.randint(0, 10, size=(3, 2)).astype(np.float64))\n",
    "\n",
    "# Perform matrix multiplication\n",
    "c = tf.matmul(a, b)\n",
    "\n",
    "# Print the results\n",
    "print('a=')\n",
    "print(a.numpy())\n",
    "print('--')\n",
    "print('b=')\n",
    "print(b.numpy())\n",
    "print('--')\n",
    "print('c=')\n",
    "print(c.numpy())"
   ]
  },
  {
   "cell_type": "markdown",
   "id": "31ae5f41",
   "metadata": {},
   "source": [
    "#### Version 2 (Reproducing xbow via matrix mulitplication instead of loop multiplication)"
   ]
  },
  {
   "cell_type": "code",
   "execution_count": 144,
   "id": "804426e0",
   "metadata": {},
   "outputs": [
    {
     "data": {
      "text/plain": [
       "array([[1.   , 0.   , 0.   , 0.   , 0.   , 0.   , 0.   , 0.   ],\n",
       "       [0.5  , 0.5  , 0.   , 0.   , 0.   , 0.   , 0.   , 0.   ],\n",
       "       [0.333, 0.333, 0.333, 0.   , 0.   , 0.   , 0.   , 0.   ],\n",
       "       [0.25 , 0.25 , 0.25 , 0.25 , 0.   , 0.   , 0.   , 0.   ],\n",
       "       [0.2  , 0.2  , 0.2  , 0.2  , 0.2  , 0.   , 0.   , 0.   ],\n",
       "       [0.167, 0.167, 0.167, 0.167, 0.167, 0.167, 0.   , 0.   ],\n",
       "       [0.143, 0.143, 0.143, 0.143, 0.143, 0.143, 0.143, 0.   ],\n",
       "       [0.125, 0.125, 0.125, 0.125, 0.125, 0.125, 0.125, 0.125]])"
      ]
     },
     "execution_count": 144,
     "metadata": {},
     "output_type": "execute_result"
    }
   ],
   "source": [
    "weights = tf.linalg.band_part(tf.ones((T, T), dtype=tf.float64), -1, 0) \n",
    "weights = weights / tf.reduce_sum(weights, axis=1, keepdims=True)\n",
    "\n",
    "# Round each value to 3 decimal points for better visibility\n",
    "weights_numpy_rounded = np.round(weights.numpy().tolist(), decimals=3)\n",
    "weights_numpy_rounded"
   ]
  },
  {
   "cell_type": "code",
   "execution_count": 145,
   "id": "305918a0",
   "metadata": {},
   "outputs": [],
   "source": [
    "xbow2 = tf.matmul(weights, x) # Here (B,T,T) x (B,T,C) = (B,T,C).   where B in (B,T,T) was automatically created by tf"
   ]
  },
  {
   "cell_type": "code",
   "execution_count": 146,
   "id": "9f42a906",
   "metadata": {},
   "outputs": [
    {
     "name": "stdout",
     "output_type": "stream",
     "text": [
      "xbow =  [[-1.32613346 -0.09177541]\n",
      " [-1.10717326 -0.52283957]\n",
      " [-0.91559594  0.44919487]\n",
      " [-0.83564314 -0.15099676]\n",
      " [-0.71441082 -0.26922442]\n",
      " [-0.5557851  -0.42243377]\n",
      " [-0.45814705 -0.43955319]\n",
      " [-0.38913249 -0.31461312]]\n",
      "\n",
      "Same as\n",
      "\n",
      "xbow2 =  [[-1.32613346 -0.09177541]\n",
      " [-1.10717326 -0.52283957]\n",
      " [-0.91559594  0.44919487]\n",
      " [-0.83564314 -0.15099676]\n",
      " [-0.71441082 -0.26922442]\n",
      " [-0.5557851  -0.42243377]\n",
      " [-0.45814705 -0.43955319]\n",
      " [-0.38913249 -0.31461312]]\n"
     ]
    }
   ],
   "source": [
    "print('xbow = ',xbow[0].numpy())\n",
    "print('\\nSame as\\n')\n",
    "print('xbow2 = ',xbow2[0].numpy())"
   ]
  },
  {
   "cell_type": "markdown",
   "id": "5f75aafe",
   "metadata": {},
   "source": [
    "#### Version 3 (Using softmax) "
   ]
  },
  {
   "cell_type": "code",
   "execution_count": 147,
   "id": "375d8d0d",
   "metadata": {},
   "outputs": [],
   "source": [
    "# Create lower triangular matrix and initialize wei with zeros\n",
    "tril = tf.linalg.band_part(tf.ones((T, T), dtype=tf.float64), -1, 0)\n",
    "weights = tf.zeros((T, T), dtype=tf.float64)\n",
    "\n",
    "# Mask the upper triangular part with -inf\n",
    "weights = tf.where(tf.equal(tril, 0), float('-inf'), weights)\n",
    "\n",
    "# Apply softmax along the last dimension\n",
    "weights = tf.nn.softmax(weights, axis=-1)\n",
    "\n",
    "# Perform matrix multiplication\n",
    "xbow3 = tf.matmul(weights, x)"
   ]
  },
  {
   "cell_type": "code",
   "execution_count": 148,
   "id": "67e83936",
   "metadata": {},
   "outputs": [
    {
     "name": "stdout",
     "output_type": "stream",
     "text": [
      "xbow =  [[-1.32613346 -0.09177541]\n",
      " [-1.10717326 -0.52283957]\n",
      " [-0.91559594  0.44919487]\n",
      " [-0.83564314 -0.15099676]\n",
      " [-0.71441082 -0.26922442]\n",
      " [-0.5557851  -0.42243377]\n",
      " [-0.45814705 -0.43955319]\n",
      " [-0.38913249 -0.31461312]]\n",
      "\n",
      "Same as\n",
      "\n",
      "xbow2 =  [[-1.32613346 -0.09177541]\n",
      " [-1.10717326 -0.52283957]\n",
      " [-0.91559594  0.44919487]\n",
      " [-0.83564314 -0.15099676]\n",
      " [-0.71441082 -0.26922442]\n",
      " [-0.5557851  -0.42243377]\n",
      " [-0.45814705 -0.43955319]\n",
      " [-0.38913249 -0.31461312]]\n"
     ]
    }
   ],
   "source": [
    "print('xbow = ',xbow[0].numpy())\n",
    "print('\\nSame as\\n')\n",
    "print('xbow2 = ',xbow3[0].numpy())"
   ]
  },
  {
   "cell_type": "code",
   "execution_count": null,
   "id": "d8a968bc",
   "metadata": {},
   "outputs": [],
   "source": []
  }
 ],
 "metadata": {
  "kernelspec": {
   "display_name": "Python 3.8 (tensorflow-gpu)",
   "language": "python",
   "name": "tensorflow-gpu"
  },
  "language_info": {
   "codemirror_mode": {
    "name": "ipython",
    "version": 3
   },
   "file_extension": ".py",
   "mimetype": "text/x-python",
   "name": "python",
   "nbconvert_exporter": "python",
   "pygments_lexer": "ipython3",
   "version": "3.8.18"
  }
 },
 "nbformat": 4,
 "nbformat_minor": 5
}
