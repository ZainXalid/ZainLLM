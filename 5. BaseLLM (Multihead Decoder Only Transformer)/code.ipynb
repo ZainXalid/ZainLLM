{
 "cells": [
  {
   "cell_type": "markdown",
   "id": "8732cc4c",
   "metadata": {},
   "source": [
    "# 1 Download & Read Dataset "
   ]
  },
  {
   "cell_type": "code",
   "execution_count": 1,
   "id": "e8aaa863",
   "metadata": {
    "scrolled": true
   },
   "outputs": [
    {
     "name": "stdout",
     "output_type": "stream",
     "text": [
      "Total number of characters in the dataset :  1115394\n",
      "\n",
      "\n",
      "First 100 characters :  First Citizen:\n",
      "Before we proceed any further, hear me speak.\n",
      "\n",
      "All:\n",
      "Speak, speak.\n",
      "\n",
      "First Citizen:\n",
      "You\n"
     ]
    }
   ],
   "source": [
    "# wget https://raw.githubusercontent.com/karpathy/char-rnn/master/data/tinyshakespeare/input.txt\n",
    "\n",
    "with open('../dataset.txt', 'r', encoding='utf-8') as f:\n",
    "    text = f.read()\n",
    "\n",
    "        \n",
    "print(\"Total number of characters in the dataset : \",len(text))\n",
    "\n",
    "print('\\n\\nFirst 100 characters : ', text[:100])"
   ]
  },
  {
   "cell_type": "markdown",
   "id": "63173913",
   "metadata": {},
   "source": [
    "# ------------------------------------------- "
   ]
  },
  {
   "cell_type": "code",
   "execution_count": 2,
   "id": "0300a0de",
   "metadata": {},
   "outputs": [],
   "source": [
    "import tensorflow as tf\n",
    "from tensorflow.keras import layers"
   ]
  },
  {
   "cell_type": "markdown",
   "id": "62d24f22",
   "metadata": {},
   "source": [
    "### For reproducibility  "
   ]
  },
  {
   "cell_type": "code",
   "execution_count": 3,
   "id": "034f8ca4",
   "metadata": {},
   "outputs": [],
   "source": [
    "tf.random.set_seed(1337)"
   ]
  },
  {
   "cell_type": "markdown",
   "id": "3f59e722",
   "metadata": {},
   "source": [
    "# --------------------------------------------"
   ]
  },
  {
   "cell_type": "markdown",
   "id": "4a8d2d53",
   "metadata": {},
   "source": [
    "# 2 Data Preprocessing "
   ]
  },
  {
   "cell_type": "markdown",
   "id": "ae8adeb0",
   "metadata": {},
   "source": [
    "## 2.1 Tokenization  (1st)"
   ]
  },
  {
   "cell_type": "code",
   "execution_count": 158,
   "id": "57172c47",
   "metadata": {},
   "outputs": [
    {
     "name": "stdout",
     "output_type": "stream",
     "text": [
      "Vocabulary Size :  65\n",
      "\n",
      "Whole Vocabulary :-\n",
      "\n",
      " \n",
      " !$&',-.3:;?ABCDEFGHIJKLMNOPQRSTUVWXYZabcdefghijklmnopqrstuvwxyz\n"
     ]
    }
   ],
   "source": [
    "#all the unique characters that occur in this text\n",
    "chars = sorted(list(set(text)))\n",
    "vocab_size = len(chars)\n",
    "print('Vocabulary Size : ',vocab_size)\n",
    "\n",
    "print('\\nWhole Vocabulary :-\\n\\n',''.join(chars))"
   ]
  },
  {
   "cell_type": "code",
   "execution_count": 159,
   "id": "c59cb009",
   "metadata": {},
   "outputs": [],
   "source": [
    "# mapping characters to integers\n",
    "stoi = {ch: i for i, ch in enumerate(chars)}\n",
    "itos = {i: ch for i, ch in enumerate(chars)}\n",
    "encode = lambda s: [stoi[c] for c in s]  # encoder: take a string, output a list of integers\n",
    "decode = lambda l: ''.join([itos[i] for i in l])  # decoder: take a list of integers, output a string"
   ]
  },
  {
   "cell_type": "code",
   "execution_count": 160,
   "id": "f03409c4",
   "metadata": {
    "scrolled": true
   },
   "outputs": [
    {
     "name": "stdout",
     "output_type": "stream",
     "text": [
      "Encoded Zain Khalid \n",
      "=  [38, 39, 47, 52, 1, 23, 46, 39, 50, 47, 42]\n",
      "\n",
      "Decoded  [38, 39, 47, 52, 1, 23, 46, 39, 50, 47, 42] \n",
      "= Zain Khalid\n"
     ]
    }
   ],
   "source": [
    "# Encode & Decode Example\n",
    "\n",
    "zk = encode('Zain Khalid')\n",
    "print('Encoded Zain Khalid \\n= ',zk)\n",
    "print('\\nDecoded ',zk,'\\n=', ''.join(decode(zk)))"
   ]
  },
  {
   "cell_type": "markdown",
   "id": "6b9ad501",
   "metadata": {},
   "source": [
    "## 2.2 Tokenization  (2nd)"
   ]
  },
  {
   "cell_type": "markdown",
   "id": "ebd6f68f",
   "metadata": {},
   "source": [
    "### 1 "
   ]
  },
  {
   "cell_type": "code",
   "execution_count": null,
   "id": "99dafe5f",
   "metadata": {},
   "outputs": [],
   "source": [
    "from transformers import AutoTokenizer\n",
    "\n",
    "tokenizer = AutoTokenizer.from_pretrained(\"gpt2\")"
   ]
  },
  {
   "cell_type": "code",
   "execution_count": null,
   "id": "2ef00626",
   "metadata": {},
   "outputs": [],
   "source": [
    "from collections import defaultdict\n",
    "\n",
    "word_freqs = defaultdict(int)\n",
    "\n",
    "for text in dataset:\n",
    "    words_with_offsets = tokenizer.backend_tokenizer.pre_tokenizer.pre_tokenize_str(text)\n",
    "    new_words = [word for word, offset in words_with_offsets]\n",
    "    for word in new_words:\n",
    "        word_freqs[word] += 1\n",
    "\n",
    "print(len(word_freqs))        \n",
    "print(word_freqs)"
   ]
  },
  {
   "cell_type": "code",
   "execution_count": null,
   "id": "c1aa35bc",
   "metadata": {},
   "outputs": [],
   "source": [
    "alphabet = []\n",
    "\n",
    "for word in word_freqs.keys():\n",
    "    for letter in word:\n",
    "        if letter not in alphabet:\n",
    "            alphabet.append(letter)\n",
    "alphabet.sort()\n",
    "\n",
    "print(len(alphabet))\n",
    "print(alphabet)"
   ]
  },
  {
   "cell_type": "code",
   "execution_count": null,
   "id": "b3ee0a93",
   "metadata": {},
   "outputs": [],
   "source": [
    "splits = {word: [c for c in word] for word in word_freqs.keys()}"
   ]
  },
  {
   "cell_type": "code",
   "execution_count": null,
   "id": "815e3019",
   "metadata": {},
   "outputs": [],
   "source": [
    "def compute_pair_freqs(splits):\n",
    "    pair_freqs = defaultdict(int)\n",
    "    for word, freq in word_freqs.items():\n",
    "        split = splits[word]\n",
    "        if len(split) == 1:\n",
    "            continue\n",
    "        for i in range(len(split) - 1):\n",
    "            pair = (split[i], split[i + 1])\n",
    "            pair_freqs[pair] += freq\n",
    "    return pair_freqs"
   ]
  },
  {
   "cell_type": "code",
   "execution_count": null,
   "id": "7145f543",
   "metadata": {},
   "outputs": [],
   "source": [
    "pair_freqs = compute_pair_freqs(splits)\n",
    "\n",
    "for i, key in enumerate(pair_freqs.keys()):\n",
    "    print(f\"{key}: {pair_freqs[key]}\")\n",
    "    if i >= 5:\n",
    "        break"
   ]
  },
  {
   "cell_type": "code",
   "execution_count": null,
   "id": "d315b090",
   "metadata": {},
   "outputs": [],
   "source": [
    "best_pair = \"\"\n",
    "max_freq = None\n",
    "\n",
    "for pair, freq in pair_freqs.items():\n",
    "    if max_freq is None or max_freq < freq:\n",
    "        best_pair = pair\n",
    "        max_freq = freq\n",
    "\n",
    "print(best_pair, max_freq)"
   ]
  },
  {
   "cell_type": "code",
   "execution_count": null,
   "id": "2223f782",
   "metadata": {},
   "outputs": [],
   "source": [
    "merges = {(\"Ġ\", \"t\"): \"Ġt\"}\n",
    "vocab.append(\"Ġt\")"
   ]
  },
  {
   "cell_type": "code",
   "execution_count": null,
   "id": "7c97bdd7",
   "metadata": {},
   "outputs": [],
   "source": [
    "def merge_pair(a, b, splits):\n",
    "    for word in word_freqs:\n",
    "        split = splits[word]\n",
    "        if len(split) == 1:\n",
    "            continue\n",
    "\n",
    "        i = 0\n",
    "        while i < len(split) - 1:\n",
    "            if split[i] == a and split[i + 1] == b:\n",
    "                split = split[:i] + [a + b] + split[i + 2 :]\n",
    "            else:\n",
    "                i += 1\n",
    "        splits[word] = split\n",
    "    return splits"
   ]
  },
  {
   "cell_type": "code",
   "execution_count": null,
   "id": "0b504666",
   "metadata": {},
   "outputs": [],
   "source": [
    "splits = merge_pair(\"Ġ\", \"t\", splits)\n",
    "print(splits[\"Ġtrained\"])"
   ]
  },
  {
   "cell_type": "code",
   "execution_count": null,
   "id": "58ba9366",
   "metadata": {},
   "outputs": [],
   "source": [
    "vocab_size = 10000\n",
    "\n",
    "while len(vocab) < vocab_size:\n",
    "    pair_freqs = compute_pair_freqs(splits)\n",
    "    best_pair = \"\"\n",
    "    max_freq = None\n",
    "    for pair, freq in pair_freqs.items():\n",
    "        if max_freq is None or max_freq < freq:\n",
    "            best_pair = pair\n",
    "            max_freq = freq\n",
    "    splits = merge_pair(*best_pair, splits)\n",
    "    merges[best_pair] = best_pair[0] + best_pair[1]\n",
    "    vocab.append(best_pair[0] + best_pair[1])"
   ]
  },
  {
   "cell_type": "code",
   "execution_count": null,
   "id": "14a75aca",
   "metadata": {},
   "outputs": [],
   "source": [
    "print(merges)"
   ]
  },
  {
   "cell_type": "markdown",
   "id": "97975761",
   "metadata": {},
   "source": [
    "### or 2 "
   ]
  },
  {
   "cell_type": "code",
   "execution_count": 4,
   "id": "c8402f6b",
   "metadata": {},
   "outputs": [],
   "source": [
    "from tokenizers import ByteLevelBPETokenizer"
   ]
  },
  {
   "cell_type": "code",
   "execution_count": 5,
   "id": "1f0298b6",
   "metadata": {},
   "outputs": [],
   "source": [
    "tokenizer = ByteLevelBPETokenizer()\n",
    "tokenizer.train_from_iterator([text], vocab_size=10000, min_frequency=3, special_tokens=[\"[PAD]\", \"[CLS]\", \"[SEP]\", \"[MASK]\"])\n"
   ]
  },
  {
   "cell_type": "code",
   "execution_count": 6,
   "id": "1e37e8e7",
   "metadata": {},
   "outputs": [],
   "source": [
    "# Get vocabulary from the trained tokenizer\n",
    "vocab = tokenizer.get_vocab()\n",
    "vocab_size = len(vocab)"
   ]
  },
  {
   "cell_type": "code",
   "execution_count": 7,
   "id": "a548a091",
   "metadata": {},
   "outputs": [
    {
     "name": "stdout",
     "output_type": "stream",
     "text": [
      "Number of unique tokens in the dataset = 9787\n",
      "\n",
      "Which are following : \n",
      " ! !' !-- \" # $ % & ' '! '-- '? 'd 'll 're 's 't ( ) * + , ,' ,-- - -- . .' .-- / 0 1 2 3 4 5 6 7 8 9 : :' :-- ; ;' ;-- < = > ? ?' ?-- @ A AB ABHOR ABHORSON ABRA ABRAHAM AD ADRIAN AEd AEdile AGE AL ALIS ALO ALONS ALONSO AM AMIL AN AND ANGE ANGELO ANIEL ANLEY ANT ANTIGON ANTIGONUS ANTONIO APULET AR ARCH ARCHBISHOP ARCHIDAM ARCHIDAMUS ARD ARENCE ARIEL ARINA ARLIS AS ATER ATH AU AUDIO AUFID AUFIDIUS AUTOL AUTOLYCUS Ab About Above Ac Acc Accursed Acquaint Ad Add Adieu Advance Af Aff Affection After Again Against Ah Al Alack Alas All Alone Although Am Amen Among Amongst An And Angelo Anon Another Any Apollo Apothecary App Appear Ar Are Arise Arm Art As At Attend Aufidius Aumerle Aw Awaked Away Ay B BA BAGO BAGOT BAL BALT BALTHAS BALTHASAR BAN BAPTIS BAPTISTA BAR BARNARD BARNARDINE BAST BEN BENVOLIO BER BIAN BIANCA BION BIONDEL BIONDELLO BIS BISHOP BL BLUNT BON BONA BOW BR BRA BRAKEN BRAKENBURY BRAY BRO BRUT BRUTUS BU BUCKINGHAM BURY BUS BUSHY BY Back Bad Ban Banish Be Bear Bearing Bec Because Become Becomes Before Beg Behold Being Bel Believe Belike Bes Beseech Beshrew Besides Best Bet Better Betw Between Betwixt Bid Bl Bless Blind Boat Boatswain Bohemia Bold Bore Both Bound Boy Br Bra Brave Bre Break Breat Breathe Bring Brother Brought But By C CA CALIBAN CAMIL CAMILLO CAPULET CAS CATES CATESBY CE CH CIS CIUS CL CLARENCE CLAUDIO CLE CLEOMEN CLEOMENES CLI CLIFF CLIFFORD COM COMINIUS CORIOLANUS CRO CU CURTIS CUS CY Ca Caius Call Came Camillo Can Cannot Canst Care Carry Cast Catesby Ch Charge Che Chi Children Citizen Citizens Cl Clarence Claudio Cle Clifford Clown Cold Com Come Comes Comfort Comm Command Commend Commit Con Cond Condemn Conf Confess Cons Consider Cont Content Coriol Coriolanus Could Courage Cousin Cry Cursed Cut D DA DEL DER DERBY DI DIN DINAND DIO DION DON DONE DOR DORCAS DORSET DU DUCH DUCHESS DUKE DW DWARD DY Dare Darest De Dear Death Def Den Deny Dep Des Desp Dest Destroy Did Didst Die Direct Dis Disp Dispatch Div Do Does Dost Doth Dou Down Draw Dro E EAR EARL EDWARD EL ELAND ELBOW ELLA EMI EMILIA EN ENCE ENIUS ENRY ENTIO EO EPH ER ERCY ERIA ERSET ES ESCA ESCALUS ESS ET ETER ETH EW EX EXETER EXTON EY Each Ed Edward Either Ele Else En End Enforce Eng England Enough Envir Er Ere Err Even Ever Evermore Every Ex Except F FER FERDINAND FF FID FL FLORIZ FLORIZEL FOL FORD FRAN FRANCIS FRI FRIAR FRO FROTH Fa Fair Faith Fall False Far Farewell Father Fear Fell Fellow Fetch Fie Fill Find Fine First Fit Five Fl Fly Follow Fool For Forbear Forbid Fore Forget Forgive Forth Forthwith Foul Found Fourth Fri Friar From Full G GAR GE GEORGE GH GI GILIA GLO GLOUCES GLOUCESTER GO GON GONZALO GOR GR GRE GREEN GREGOR GREGORY GREMIO GREY GRUMIO GUE Ga Gain Gainst Gaoler Gard Gardener Gentle Gentleman Gentlemen Get Ghost Girl Give Given Gives Gl Glad Gloucester Go God Gold Good Gra Grace Grand Grandam Great Groom Grumio Gu H HA HAM HASTINGS HENRY HER HERMIONE HN HOMAS HOP HOR HORTEN HORTENS HORTENSIO HY Ha Had Hadst Hail Hang Hap Happ Happily Happy Har Hard Hark Harp Harry Has Hast Hath Have Having He Hear Heart Heaven Heavens Help Hence Henry Her Here Hermione Hic Hie High His Ho Hold Holy Hortensio Host Hostess How Huntsman I IA IAN IANA IC ICH ICHARD ID IDAM IEL IGON IL IN INA INC INCE INCENTIO INE ING INGBRO INGBROKE INGS INIUS IO IOLAN ION IR IS ISAB ISABELLA IST IT IUS IZ If Ill Im Imagine Imp In Ind Indeed Inf Infer Ins Int Into Is It J JOHN JU JULIET Jesu Join Jul Juliet Just Justice K KATH KATHARINA KE KEN KING Katharina Keep Keeper Kind King Kn Knock Know Knows L LA LADY LAN LAND LAR LARTIUS LE LEONTES LET LEY LI LIA LIBAN LIET LINA LIS LIUS LO LORD LORDS LOUGH LOUGHBY LUC LUCENTIO LUCIO LUS LY Lady Last Lay Lead Leave Left Lend Less Lest Let Lie Lies Lieutenant Like Little Live Lives Lo Long Look Lord Lords Love Loved Lu Lucentio M MAMIL MAMILLIUS MAR MARCIUS MARIANA MEN MENENIUS MEO MER MERCU MERCUTIO MERLE MI MIL MIO MIONE MIRANDA MIST MISTRESS MON MOND MONTAGUE MOP MOPSA MOR MP Madam Made Make Makes Making Man Many Mar March Marcius Mariner Mark Marry Master Masters May Mayor Me Meaning Meantime Measure Men Mercy Mere Merely Messenger Methinks Methought Might Mine Mis Mist Mistake Mistress More Most Mount Much Mur Murder Music Must My Myself N NARD NATH NATHANIEL NE NIA NOR NORFOL NORFOLK NORTHUMBER NORTHUMBERLAND NS NT Name Nay Ne Near Neither Never Night Nine No Noble None Nor Norfolk Northumberland Not Nothing Now Nurse O OHN OL OLI OM OMAS OMEN ON ONIO ONTES OP OR ORD ORGE ORIOLAN ORIOLANUS ORIZ ORK OS OW OX OXFORD Obey Of Off Officer Oh Old On Once One Only Open Opp Or Our Out Oxford P PAGE PAR PARIS PAU PAULINA PER PERDI PERDITA PET PETER PETRUCH PETRUCHIO PH POLI POLIXEN POLIXENES POM POMP POMPEY PR PRINCE PRO PROSPER PROSPERO PTIS PU PULET Page Pale Pardon Part Patience Peace Pedant Per Perc Perchance Perhaps Persu Persuade Persuades Peter Petruchio Pit Pl Plain Plantagenet Play Please Pluck Poor Post Pr Pray Pre Prepare Pres Prithee Pro Proceed Proclaim Prosper Proud Prove Provost Pur Pursu Pursuivant Put Q QUE QUEEN Qu Que Queen Quick R RA RAN RANDA RATCLIFF RENCE RESS REY RI RIAN RICH RICHARD RICHMOND RIVERS RO ROMEO RR RTIS RUCH RUT RUTLAND RY Ratcliff Rather Re Read Ready Red Ref Rel Rem Remember Ren Renowned Rep Repair Repent Res Rescue Rest Ret Return Revol Ri Rich Richard Richmond Right Roman Rome Romeo Run S SA SAMP SAMPSON SE SEBAST SEBASTIAN SET SIC SICINIUS SIR SLY SOM SOMERSET SON SPER ST STANLEY STINGS Sad Save Saw Say Sc Se Seal Sec Second See Seeking Seize Sel Sen Senators Send Sent Servant Set Setting Sh Sha Shall Shalt Shame She Shepherd Should Show Showing Sic Signior Sin Since Sir Sirrah Sit Six Sland Sleep Sm Small Smile So Soft Some Somet Sometime Son Sorrow Soul Souls Sound Sp Speak Spoke St Stand Standing Stands Stanley Stay Still Stir Sto Stop Stri Strike Su Such Supp Suppose Sus Sw Swear Sweet T TA TAGUE TCLIFF TEN TER TES TH THAS THOMAS THUMBER TIO TIS TIUS TMOR TMORELAND TOL TON TRAN TRANIO TY TYBALT TYRR TYRREL Tailor Take Takes Talk Teach Tell Ten Th Than Thank Thanks That The Their Then There Therefore These They Thine Things Think Thinking Third This Thither Those Thou Though Thoughts Three Throng Through Throw Thus Thy Thyself Till Time Tis To Together Told Tong Tongue Too Touch Touching Toward Towards Tra Tran Tranio Trem True Truly Trust Tullus Turn Tush Tut Tw Twas Twenty Twere Twice Twill Twixt Two Tybalt U UC UCES UCH UCKING UCKINGHAM UE UGH UM UMBER UMIO UMNIA UNT UR URREY US UT Un Unb Uncle Under Unless Unt Until Unto Unw Up Upon Ur Urge V VAL VALERIA VER VERS VINCENTIO VIR VIRGILIA VOL VOLIO VOLUMNIA Verily Very Villain Virt Virtue Vols Volsce Vouchsafe W WAR WARWIC WARWICK WATER WES WESTMORELAND WIC Warwick Was We Welcome Well Went Were Wert Wh What Whate Whe When Whence Where Wherefore Wherein Whereof Whereto Whether Whi Which While Whiles Whilst Whither Who Whom Whoop Whose Why Widow Wife Will Wilt Wit With Withal Withdraw Within Without Witness Woe Women Worse Worthy Would Wouldst Wr Write X XEN Y YCUS YORK Ye Yea Yes Yet Yield Yonder You Young Your Yourself Z ZAB ZABETH ZALO ZWATER Zounds [ [CLS] [MASK] [PAD] [SEP] \\ ] ^ _ ` a ab abb able ables ably abour ac acc ace aced aces ach acher aches aching acious ack acket ackey acks acle acles acre act action actors acy ad adam ade aded adem ades adise ado ads adua adv advent adventure advised ady af afe aff after ag against agate age aged agems ages agine agot ague agues aid ail ailing ailor aily aim ain aining ains aint aintain ainted aints ainty air ais ait ak ake aked aken aker akes akest aking al alance ald ale aled ales alf aline alisbury alk alks all allel allow ally alm alo als alse alt alter alth alty am amb ambio ame amed ament aments ames amill amillo aming amity amp ams amy an anc ance ances anch ancy and andal ander anders ane ang ange angled angling aning ank anks anley another anous ans answer ant antag antage antagen antagenet antime ants antua anus any ap apable ape aper app appare apt aptain aptist ar arch ard arded ardel arden ardine ardon ards are ared arence arent arers ares areth arewell aries aring aris arison ark arl arling arlisle arm arn arry ars art arted arth arthage artius arts arwick ary as asant asci ascivious ase ased ases ash ashi ashy asing asion asite ask ason asonable asp ass assad ast astard aste asted aster asters astian asure asures asy at atch atching atcl atcliff ate ated ately ater ates atesby atest ath athan athaniel athar atharina athe athed ather athom atiate atic atience atient atin ating ation ations ative ato ator ators atory atri ats att atter attern attery attling ature au aud audio aughan aught aughter aughters aul ault aunt aus ause av ave aved aven avery aves aving avish avoided aw awd awful awn aws ax ay ayed ayer aying az aze azed azon b back ball balt ban band banished bat bation bb bble bborn be bear bearer bed beha being bel bell ber bered bering bert bery bes beseeming best bey bham bhors bid bit bject bl blance ble bled bles blind bling blood blown bly board bod boding bon book born bot bour bow boy br bra brain bray bre bred bri bric bro broke bs bt bur bury business but by c ca cal call called cals can cannot cap cape car cary cas cast cat cats cc cceed ce ced ceed ceit ceive ceived ceives ceiving cel cell cels cence cency cend cent centio cept certain ces cess cession cest cester ch cha chan chance change changing chard che ched chelor cher chers ches cheth chief child chio chm chmond cho chool ci cially cian cians cible cience cient cies cing cio cious cip cipl cis cius ck cks cl claim clam cle clock co cock com comb come comes comfort comp con cond cons constable cont content contin cor core corn corner could coun count counter cour cra craft creat creature cri ct cted ction ctions ctise ctor cts cue cued cure cured cus custom cy d dal dan danger daughter day dd dden dds de death ded deed deem deliver den dent der ders des dge dict dig ding dis dish dist dle do doing dom done door doubt down dra draw dro ds duce duke dur dward dy e ea eace each ead eak eal ealous eap ear earer earest earn ears ease eases east eat eave eaven eb ec ech echer eches ect ected ed edant eder ediment eding edious ednes ednesday eds edy ee eech eed eel eem eeming een eep eeper ees eet eeth ef eft eg ek eks el elcome eld ele eless eliver ell ella ellion ello ellow ellows elpho els elsh elt elting elve em ember embroke ement eminate emn emper empt en enance enant enator ence ences ench enches ency end ended ending endom ends ene ened enen enenius ener enerate enes eness enge enger ening enn enry ens ension ent enting entious entle entleman ently ents enture enty envol envolio eorge eous ep eping ept eptune er erby erc ercing ercy erd ere ered erer eress erest eria erily ering erity erle erman ern erns erona erous ers erset ersha ershire ersu ert ertain ertainty erv ervant ervation erve erved erves erving erwhelm ery es esar esh eshrew ess essed essel essenger est ested ester estion estiv estival esty esu esy et etch eter eth ethinks ethought etite etition etru etruchio ets ety eve ever every eves ew ewis ex exec ext ey eye eyed f fa faced fall fan father favour fe fect fection feel feit feits fellow fellows fend fer fess ff ffect ffer ffic fid fix fl fly fold folk foot for force forced ford fore form fort forth fortune forward found franch fret fri from ft fter fts ful fully fulness g gage gain gainst gar gare garet ge gea geal ged gelo gentle geon ger gers ges get gether gg gged gh ghan gher ght ghts gic ging give gl glass gle gled gment gnant go gom gone good got govern gra grace great greed grim groom grown gs gu guard gue gues gy h ha habit had haeth hage hal hall hallow ham hamed han hance hand hanging hant happ happy haps har hard harge harged has hast hat hath have haw he head headed heard heart hearted hed held hem hematic hen hence her here herit herited hern hertsey hes hest hi hich hile hilip hill him himself hind hing hip hire his hn ho hoeb hold holds honour hood hop hor hore hors horse host house how hra hur hy hyme hysic i ia iable ial iam ian ianca iance ians iant iar ias iate ib iban iber ible iby ic ical ican icate ication ice iced icer ices icester ichard icial icide icing icio icious ick icked ickle icle icles ict iction icular icy id idd ide ided idence ident ider idered iders ides iding idings idow ie iece ied ief iege iel ield ieldy ience ienn ienna ient ier iers ies iest iet iety ieu ieve ieved if ife iff iffe ifford ified ift ifter ifth iful ify ig igation ige igeia igence igent igh ighb ighbours ighs ight ighton ign igned ignior ignty igonus ike il ild ile iled ilence iles ilful ilia iliar ility ill illain illed illing ills illy ils ilt ilty ily im imble ime imely iment iments imes imo imois imple ims in ina inable inal inance inate ination inc ince incentio inces inct inctly ind ine ined iner iners ines iness inet ing ingbroke inger ingers ingham ingly ings inies ining inite inius ink inks inous ins int inu iny io iod iol ion iond iondello ions ior ious iously ip ipe ipp ips ipt iqu iquity ir ird ire irect ired ires irg iring irl irm irst irt irth iry is isa isbury isc ise ised isement ises isf ish ished isher ishes ishop ising ision isk isle isome ison isper iss ission ist ister isterous isting istress isure it ita itable itae ital itan itation itch itche ite ited iteous iter ites ith ithe ithee ither ities itiff ition itiz itizen itizens itol itor itories itors its itt ittany itted itten itting ittle itude itus ity ius iv ivant ive ived ively iven iveness iver ivered ivers ives iving ivity ix ixt ixture iz izab izard ize j ject join joy jud just k ke ked keep keley ken kens ker kes kest key kin kind king kn know ks ksbury ky l lace lain lanch land lar last lause law lay ld ldom ldren le lease lect led ledge leep lehill len leness ler les lesome less let lex ley lf li liament lic liction lied lier light like liness ling lip lish live livion ll lling llow lly lm lo lock long longs look lor lord lorn loso lou loucester lous love loved loves low lp ls lse lst lt lu lves ly lying lysses m made maid maids mak make makers mal man mand mar married mas mast master matter may mb mber mbles me meant med mediate men ment ments mer met min mind minded mion mione miss mission mistress mit mity mn mo mon mong mongst monstrous mony more morrow mory most mp mpet mph ms much my n nal name nant nat nce nd nder nders ne need nel ner ners nes ness net never new ney ng nib nicious night ning nk nken no none noon not nothing now nowledge nown ns nt nty nut ny o oa oard oat ob oble oc occ ock od odity oe oes oever of off oft og ohem ohemia ohn oin oint ointed oke ol ola olar old oldier oler olingbroke olix olixenes olk olks oll ollow oln olour ols olute olve olved oly om omach oman omans omas ome omen omenes omerset omes omet oming omp on ona onation once onci ond onder one oned ones onest oney ong ongs onio onounce onour ons onstant ont ontent ontes onus ony oo ood oof ooing ook ool oon oop oops oor oose oot op ope open opher ople ops or ord order ords ore orge oricles ories oriol orious oriz ork orn orney orough orous orrow orry ors orse orses orset ort ortal ortens ortensio orth orthy ory os ose osed oses osing osition oss ossess ost ot ote oted oth othe othecary other othes othing oting otion otland ots ott otted ou oubt oubted ouch ouches ouchs ouchsafe oud ough oughby ought oul ould oun ounce ound ounds ount ounty our ourage oured ourish ourn ours ourse ourth ous ouse ouses ousin ousins out outh outs ove oved over overed overy ow oward owbray ower owers owick owing owl own owned ows oy oyal oz ozine p par paration pardon pare part pass past pe pecially pect ped peian pen pence pense people per perate peration perience peror pers person pery pes pet pey ph phan phe pher pherd pho phy pic picion picious piece pin ping pinion pir pire piring pite pl place plain ple ples pling plish ploy po point poll pollo poor por port portion pose posed poses post posterous pothecary pp pped pper ppet pping ppy pr pray pre pres pret pretation pril pro proud ps pse pt pted pter ption ptory pture pul pular put q qu qua quaint qual que quess quet quiet quin quis r ra rac race ract rage rah raid raign rails raken rament ran rance ranch rand range ranio rank rant rat ratch rate rateful rates ratitude raw ray re read ready reant rease reat red ree reed reef reement reen rees reet reg regory rehe rehend rel reland rem reme remio ren rence rench rent repare report rer res resh ress ressed ressing ression rest ret reth retion rew rey ri riage rial riam rian riar rib ribe rible ribunes rich ricians rick ried rief riel ries rieve rif rift right ril rim ring rings rion rious rip ris rish rison rist rity ro roach rog roke roll rom ron rong ront roof room roop ror rosby ross roth rough rous row rown rows roy rs rt ru ruction rue ruised ruly rum rumio run runes rung rupt rust ry s same sand say sby sc scal scalus scap scape scaped school score se sea sec sed see seem seeming sel seless self sell selves sem semary sen sent sequ ser serv ses set seth settled sey sh sha shall shapen she shearing sheathe shell shepherd shi shine shining ship shire should show sia sic sick side sign sil since sing sion sir sire sist sl so soe soever some somet sometimes son song sorrow sp spe speak sper spo spurgh ss sses st stable stand standing stant stantial staring ster stery stit stone stood stool stra strel strong strous strue su such sue sues suing sw swain swear sweet swer sworn t ta take te ted teen tell ten tend ter terate tered tering ternal ters th than that the thee their them then ther there therefore these they thi thing things think this thou though thought three thren thrift throw thumber thumberland thw thy tic tied ties time tin tinent ting tis tised tle tled tles to together ton tong too tree trees trick true ts tsey tune tw twas twere twill twixt two twould ty u ua ual ually uary ub ubs uc uce uced uch uck uckingham ud uddy ude ue ued ueless ues uff ufid ufidius ug uge ugg ught uild uing uish uity uke ukes ul ular ulate ulation ule ules ulet ulf ull ulls ullus ully ulous ult ulting um umb umber umble umbling ume umed ument uments umerle umes umn umny ump umps ums un unate unch und unday under undred undy une uned unes ung unis unning uns unt unts untsman uous up upid upon upt ur ura ural urance urb urbs urch urde urderer ure ured ures urg urgh uries uring urious urity urn urope urp urps urrey urs ursday urse ursed urther urtis urvy ury us usale usc use used uses ush ushes ushi ushing ushy usic usiness using usion ussia ust usters ustice ustom usual ut utation utch utches ute uted utenant uteous utes uth uthor utio ution utland uto uts utus uty v vail val vance ve ved vel vell ven vener venient vent ventry ver verdone vere vering vern verns vers verse versy verty very ves vest vet vey vice vided vied vil vill ving viol vion vior vious vir vish vity vive vo voc voided voke vol vost vour vours voury vy w war ward warn warrant was water way ways wd we weal wear weary ween weet well wench wer were wh what whe whelm when where which who why wick widow wife will wind wing wise wit with withal witted wn woman women work worn worth would wr x xe xeter xford xt xton y yal yally yard ybalt ycor yet ying ymph yond you your yp yr yrrel z ze zed zen zwater zz { | } ~ ¡ ¢ £ ¤ ¥ ¦ § ¨ © ª « ¬ ® ¯ ° ± ² ³ ´ µ ¶ · ¸ ¹ º » ¼ ½ ¾ ¿ À Á Â Ã Ä Å Æ Ç È É Ê Ë Ì Í Î Ï Ð Ñ Ò Ó Ô Õ Ö × Ø Ù Ú Û Ü Ý Þ ß à á â ã ä å æ ç è é ê ë ì í î ï ð ñ ò ó ô õ ö ÷ ø ù ú û ü ý þ ÿ Ā ā Ă ă Ą ą Ć ć Ĉ ĉ Ċ ċ Č č Ď ď Đ đ Ē ē Ĕ ĕ Ė ė Ę ę Ě ě Ĝ ĝ Ğ ğ Ġ Ġ& Ġ' ĠA ĠAE ĠAN ĠANNE ĠAU ĠAUMERLE ĠAbhors ĠAbhorson ĠAd ĠAdam ĠAdieu ĠAfri ĠAg ĠAh ĠAl ĠAlas ĠAlban ĠAll ĠAm ĠAmazon ĠAn ĠAnd ĠAngelo ĠAnne ĠAnswer ĠAnt ĠAnti ĠAntiates ĠAntigonus ĠAntium ĠAntonio ĠApollo ĠApril ĠAr ĠAriel ĠAs ĠAt ĠAufidius ĠAumerle ĠAway ĠB ĠBOL ĠBOLINGBROKE ĠBagot ĠBaptist ĠBaptista ĠBarn ĠBarnardine ĠBe ĠBel ĠBenvolio ĠBer ĠBerkeley ĠBes ĠBianca ĠBiondello ĠBishop ĠBl ĠBlunt ĠBohemia ĠBolingbroke ĠBona ĠBoy ĠBr ĠBraken ĠBrakenbury ĠBrand ĠBrandon ĠBret ĠBrist ĠBristol ĠBrittany ĠBuckingham ĠBurg ĠBurgundy ĠBushy ĠBut ĠBy ĠC ĠCAPULET ĠCARLIS ĠCARLISLE ĠCa ĠCaesar ĠCaius ĠCal ĠCalais ĠCaliban ĠCall ĠCambio ĠCamillo ĠCan ĠCap ĠCapitol ĠCaptain ĠCapulet ĠCapulets ĠCarthage ĠCast ĠCastle ĠCatesby ĠCh ĠChertsey ĠChrist ĠChristendom ĠChristian ĠChristopher ĠChurch ĠCitizen ĠCl ĠClarence ĠClaudio ĠCle ĠCleomenes ĠClifford ĠCo ĠCobham ĠCom ĠCome ĠCominius ĠCons ĠConspir ĠConspirator ĠCoriol ĠCoriolanus ĠCorioli ĠCot ĠCounty ĠCoventry ĠCrosby ĠCupid ĠCurtis ĠCy ĠD ĠDe ĠDeath ĠDelpho ĠDelphos ĠDerby ĠDian ĠDid ĠDido ĠDion ĠDo ĠDoricles ĠDorset ĠDuke ĠE ĠEDWARD ĠELI ĠELIZABETH ĠELY ĠEarl ĠEdward ĠEl ĠElbow ĠElizab ĠElizabeth ĠEly ĠEm ĠEmilia ĠEng ĠEngland ĠEnglish ĠEnglishman ĠEscalus ĠEurope ĠEven ĠExeter ĠF ĠFIT ĠFITZWATER ĠFare ĠFarewell ĠFear ĠFifth ĠFirst ĠFl ĠFlore ĠFloriz ĠFlorizel ĠFor ĠForrest ĠFortune ĠFourth ĠFran ĠFrance ĠFrancis ĠFrench ĠFriar ĠFroth ĠG ĠGAU ĠGAUNT ĠGREY ĠGaunt ĠGentle ĠGentleman ĠGeorge ĠGive ĠGloucester ĠGo ĠGod ĠGood ĠGree ĠGreece ĠGreen ĠGregory ĠGremio ĠGrey ĠGrumio ĠGuild ĠH ĠHENRY ĠHa ĠHad ĠHallow ĠHallowmas ĠHappy ĠHark ĠHarry ĠHas ĠHast ĠHastings ĠHave ĠHe ĠHear ĠHeaven ĠHector ĠHelp ĠHenry ĠHer ĠHerc ĠHercules ĠHere ĠHereford ĠHermione ĠHim ĠHis ĠHortensio ĠHow ĠHuntsman ĠI ĠII ĠIII ĠIV ĠIf ĠIn ĠIreland ĠIrish ĠIs ĠIsab ĠIsabel ĠIsabella ĠIt ĠIta ĠItaly ĠJ ĠJOHN ĠJack ĠJer ĠJerusale ĠJerusalem ĠJesu ĠJohn ĠJove ĠJud ĠJul ĠJule ĠJuliet ĠJulius ĠJun ĠJuno ĠJup ĠJupiter ĠK ĠKING ĠKate ĠKatharina ĠKeeper ĠKent ĠKing ĠL ĠLAU ĠLAURENCE ĠLEW ĠLEWIS ĠLady ĠLam ĠLammas ĠLanc ĠLancaster ĠLartius ĠLatin ĠLau ĠLaurence ĠLay ĠLe ĠLeave ĠLeontes ĠLet ĠLewis ĠLicio ĠLod ĠLodowick ĠLond ĠLondon ĠLook ĠLord ĠLords ĠLove ĠLovel ĠLu ĠLucentio ĠLucio ĠLud ĠLudlow ĠM ĠMAR ĠMARGAR ĠMARGARET ĠMOW ĠMOWBRAY ĠMab ĠMadam ĠMantua ĠMar ĠMarch ĠMarcius ĠMargaret ĠMarian ĠMariana ĠMark ĠMars ĠMarshal ĠMaster ĠMay ĠMayor ĠMenenius ĠMerc ĠMercury ĠMercutio ĠMessenger ĠMil ĠMilan ĠMin ĠMinola ĠMistress ĠMont ĠMontague ĠMontagues ĠMontgom ĠMontgomery ĠMowbray ĠMurderer ĠMusic ĠMusician ĠMy ĠN ĠNap ĠNaples ĠNature ĠNay ĠNed ĠNeptune ĠNo ĠNor ĠNorfolk ĠNorthumberland ĠNot ĠNow ĠO ĠOF ĠOVER ĠOVERDONE ĠOf ĠOff ĠOfficer ĠOnce ĠOr ĠOur ĠOverdone ĠOxford ĠP ĠPERCY ĠPETER ĠPadua ĠParis ĠPatri ĠPatrician ĠPaul ĠPaulina ĠPembroke ĠPercy ĠPerd ĠPerdita ĠPeter ĠPetruchio ĠPhaeth ĠPhaethon ĠPhilip ĠPhoeb ĠPhoebus ĠPil ĠPisa ĠPl ĠPlace ĠPlantagenet ĠPlashy ĠPlayer ĠPlease ĠPolixenes ĠPom ĠPomfret ĠPompey ĠPoor ĠPr ĠPray ĠPriam ĠPrince ĠPrithee ĠPro ĠProceed ĠPut ĠQueen ĠR ĠRICHARD ĠROS ĠROSS ĠRag ĠRagozine ĠRatcliff ĠRaven ĠRavenspurgh ĠRi ĠRichard ĠRichmond ĠRivers ĠRo ĠRoman ĠRomans ĠRome ĠRomeo ĠRos ĠRosaline ĠRoss ĠRussia ĠRutland ĠS ĠSALIS ĠSALISBURY ĠSCRO ĠSCROOP ĠST ĠSTANLEY ĠSTEPH ĠSTEPHEN ĠSURREY ĠSaint ĠSalisbury ĠSay ĠSc ĠScotland ĠSeb ĠSebastian ĠSee ĠSenator ĠServant ĠServing ĠServingman ĠShall ĠShe ĠShore ĠShow ĠSic ĠSicilia ĠSignior ĠSir ĠSix ĠSixth ĠSly ĠSo ĠSoldier ĠSome ĠSomerset ĠSp ĠSpeak ĠSt ĠStaff ĠStafford ĠStand ĠStanley ĠSunday ĠSurrey ĠSweet ĠSycor ĠSycorax ĠT ĠTHOMAS ĠTake ĠTar ĠTarpeian ĠTell ĠTew ĠTewksbury ĠTh ĠThe ĠTheir ĠThen ĠThere ĠTherefore ĠThese ĠThey ĠThink ĠThis ĠThomas ĠThou ĠThursday ĠThus ĠThy ĠTime ĠTitus ĠTo ĠTower ĠTranio ĠTribunes ĠTroy ĠTullus ĠTunis ĠTur ĠTurks ĠTybalt ĠTyrrel ĠU ĠUlysses ĠV ĠVI ĠVINCENTIO ĠVal ĠValent ĠValeria ĠVaughan ĠVen ĠVenice ĠVerona ĠVienna ĠVincentio ĠVols ĠVolsces ĠVolscian ĠVolscians ĠW ĠWIL ĠWILLOUGHBY ĠWales ĠWalter ĠWarwick ĠWas ĠWatch ĠWatchman ĠWe ĠWednesday ĠWelcome ĠWell ĠWelsh ĠWelshmen ĠWest ĠWestmin ĠWestminster ĠWh ĠWhat ĠWhen ĠWhere ĠWherefore ĠWho ĠWhy ĠWife ĠWill ĠWilliam ĠWilloughby ĠWilt ĠWiltshire ĠWould ĠX ĠXI ĠY ĠYORK ĠYes ĠYet ĠYork ĠYou ĠYour Ġa Ġab Ġabhor Ġabhorr Ġabide Ġability Ġable Ġaboard Ġabod Ġabout Ġabove Ġabro Ġabroad Ġabs Ġabsence Ġabsent Ġabsolute Ġabst Ġabund Ġabundance Ġabundant Ġabuse Ġabused Ġabuses Ġac Ġacc Ġaccept Ġaccess Ġaccident Ġaccom Ġaccomp Ġaccompany Ġaccomplish Ġaccord Ġaccording Ġaccount Ġaccursed Ġaccus Ġaccusation Ġaccusations Ġaccuse Ġaccused Ġach Ġaches Ġachieve Ġachieved Ġack Ġacknowledge Ġacqu Ġacquaint Ġacquaintance Ġacquainted Ġact Ġacting Ġaction Ġactions Ġactor Ġacts Ġad Ġadd Ġadded Ġadder Ġadieu Ġadm Ġadmir Ġadmit Ġadmitted Ġado Ġadorn Ġadul Ġadult Ġadulteress Ġadv Ġadvance Ġadvanced Ġadvancement Ġadvantage Ġadventure Ġadver Ġadvers Ġadversaries Ġadverse Ġadvertised Ġadvice Ġadvise Ġadvised Ġadvoc Ġadvocate Ġaery Ġaf Ġafe Ġafeard Ġaff Ġaffair Ġaffairs Ġaffect Ġaffected Ġaffection Ġaffections Ġaffli Ġafflict Ġaffliction Ġafford Ġaffords Ġaffright Ġafoot Ġafore Ġafraid Ġafter Ġafternoon Ġafterward Ġafterwards Ġag Ġagain Ġagainst Ġage Ġaged Ġages Ġago Ġagony Ġagree Ġagreed Ġagreement Ġah Ġaid Ġaim Ġaims Ġair Ġairy Ġal Ġalack Ġalar Ġalas Ġale Ġalike Ġalive Ġall Ġallay Ġalleg Ġallegiance Ġalliance Ġallies Ġallow Ġalmost Ġalms Ġalone Ġalong Ġaloof Ġaloud Ġalready Ġalso Ġalter Ġalteration Ġalthough Ġaltogether Ġalways Ġam Ġamain Ġamaz Ġamazed Ġamazement Ġamb Ġambassad Ġambit Ġambition Ġambitious Ġambush Ġamen Ġamend Ġamended Ġamends Ġamiss Ġamity Ġamong Ġamongst Ġamorous Ġan Ġancest Ġancestors Ġanch Ġanchor Ġancient Ġand Ġang Ġange Ġangel Ġangels Ġanger Ġangry Ġangu Ġanguish Ġann Ġannoy Ġanointed Ġanon Ġanother Ġansw Ġanswer Ġant Ġantic Ġany Ġap Ġapace Ġapart Ġape Ġapothecary Ġapp Ġappare Ġapparel Ġapparent Ġappea Ġappeal Ġappear Ġappeared Ġappears Ġappell Ġappellant Ġappetite Ġapplause Ġapply Ġappoint Ġappointed Ġapprehe Ġapprehend Ġapprehens Ġapprehension Ġappro Ġapproach Ġapproaches Ġapprobation Ġapproved Ġapt Ġar Ġarbit Ġarch Ġare Ġarg Ġargos Ġargosy Ġargu Ġargument Ġarguments Ġarise Ġarm Ġarmed Ġarmour Ġarms Ġarmy Ġarray Ġarrest Ġarri Ġarrival Ġarrived Ġart Ġarticle Ġarticles Ġas Ġascend Ġashamed Ġashes Ġashore Ġaside Ġask Ġasked Ġasking Ġasleep Ġaspect Ġaspiring Ġass Ġassault Ġassem Ġassist Ġassistance Ġassurance Ġassure Ġassured Ġat Ġatone Ġatt Ġattach Ġattain Ġattempt Ġattend Ġattended Ġattent Ġattorney Ġattorneys Ġau Ġaud Ġaught Ġaunt Ġaust Ġauthor Ġauthorities Ġauthority Ġavo Ġavoid Ġavoided Ġaw Ġawake Ġaway Ġawe Ġawful Ġawhile Ġawry Ġaxe Ġay Ġb Ġba Ġbab Ġbabe Ġbabes Ġbaby Ġbachelor Ġback Ġbacks Ġbackward Ġbad Ġbade Ġbag Ġbaggage Ġbail Ġbait Ġbald Ġbale Ġball Ġballad Ġbalm Ġban Ġband Ġbands Ġbandy Ġbanish Ġbanished Ġbanishment Ġbank Ġbankrupt Ġbanquet Ġbar Ġbarb Ġbare Ġbargain Ġbark Ġbarr Ġbarren Ġbas Ġbase Ġbaseness Ġbash Ġbashful Ġbasil Ġbastard Ġbastards Ġbastardy Ġbat Ġbate Ġbats Ġbattle Ġbattles Ġbau Ġbauble Ġbaw Ġbawd Ġbawdy Ġbay Ġbe Ġbea Ġbeads Ġbeams Ġbear Ġbeard Ġbearing Ġbears Ġbeast Ġbeastly Ġbeasts Ġbeat Ġbeaten Ġbeating Ġbeats Ġbeaut Ġbeauteous Ġbeauties Ġbeautiful Ġbeauty Ġbec Ġbecame Ġbecause Ġbecom Ġbecome Ġbecomes Ġbed Ġbeef Ġbeen Ġbeet Ġbeetle Ġbef Ġbefal Ġbefall Ġbefits Ġbefore Ġbeg Ġbegan Ġbeget Ġbegg Ġbeggar Ġbeggarly Ġbeggars Ġbeggary Ġbegging Ġbegin Ġbegins Ġbegot Ġbegu Ġbeguiled Ġbegun Ġbeha Ġbehalf Ġbehavior Ġbeheld Ġbehind Ġbeho Ġbehold Ġbeholding Ġbeing Ġbel Ġbelieve Ġbelieved Ġbelike Ġbell Ġbelly Ġbelong Ġbelongs Ġbeloved Ġbelow Ġben Ġbench Ġbend Ġbending Ġbenef Ġbenefit Ġbent Ġbere Ġbereft Ġbes Ġbeseech Ġbeseem Ġbeside Ġbesides Ġbesiege Ġbest Ġbestow Ġbestri Ġbet Ġbethink Ġbetide Ġbetimes Ġbetray Ġbetter Ġbetw Ġbetween Ġbetwixt Ġbew Ġbeware Ġbewray Ġbeyond Ġbid Ġbidding Ġbide Ġbids Ġbier Ġbig Ġbigger Ġbill Ġbills Ġbind Ġbir Ġbird Ġbirds Ġbirth Ġbirths Ġbishop Ġbit Ġbite Ġbites Ġbiting Ġbitter Ġbitterly Ġbl Ġblack Ġblade Ġblame Ġblasp Ġblast Ġblasts Ġblaze Ġble Ġbleed Ġbleeding Ġbleeds Ġblem Ġblemish Ġbless Ġblessed Ġblessing Ġblessings Ġblest Ġblind Ġbliss Ġblister Ġblock Ġblocks Ġblood Ġbloody Ġblot Ġblots Ġblow Ġblown Ġblows Ġblue Ġblunt Ġblush Ġblushing Ġbo Ġboar Ġboast Ġboat Ġbod Ġbodes Ġbodies Ġbody Ġboisterous Ġbol Ġbold Ġboldly Ġboldness Ġbon Ġbond Ġbondage Ġbone Ġbones Ġbonny Ġbook Ġbooks Ġboon Ġboot Ġbootless Ġboots Ġbore Ġborn Ġborne Ġborrow Ġbos Ġbosom Ġbosoms Ġbot Ġboth Ġbott Ġbottom Ġbought Ġbound Ġbount Ġbounty Ġbow Ġbowels Ġbowl Ġbows Ġbox Ġboy Ġboys Ġbr Ġbra Ġbrace Ġbragg Ġbrain Ġbrains Ġbran Ġbranch Ġbranches Ġbrand Ġbrass Ġbrat Ġbrave Ġbraved Ġbraw Ġbrawl Ġbrawling Ġbrazen Ġbre Ġbread Ġbreak Ġbreaking Ġbreaks Ġbreast Ġbreasts Ġbreat Ġbreath Ġbreathe Ġbreathed Ġbreathes Ġbreathing Ġbreaths Ġbred Ġbreed Ġbreeding Ġbrethren Ġbri Ġbribe Ġbridal Ġbride Ġbridegroom Ġbrief Ġbriefly Ġbright Ġbrine Ġbring Ġbringing Ġbrings Ġbrittle Ġbro Ġbroad Ġbroils Ġbroke Ġbroken Ġbrook Ġbrother Ġbrotherhood Ġbrothers Ġbrought Ġbrow Ġbrown Ġbrows Ġbru Ġbu Ġbuck Ġbuckle Ġbud Ġbudge Ġbuild Ġbuilt Ġbul Ġbulk Ġbur Ġburden Ġburial Ġburied Ġburn Ġburning Ġburns Ġburnt Ġburst Ġburthen Ġbury Ġbus Ġbush Ġbusied Ġbusiness Ġbust Ġbustle Ġbusy Ġbut Ġbutcher Ġbutchers Ġbutt Ġbutter Ġbuy Ġbuzz Ġbuzzard Ġby Ġc Ġca Ġcab Ġcabin Ġcaitiff Ġcal Ġcalamity Ġcalf Ġcall Ġcalled Ġcalling Ġcalls Ġcalm Ġcalumny Ġcam Ġcame Ġcamest Ġcan Ġcand Ġcandle Ġcanker Ġcannib Ġcannot Ġcanop Ġcanopy Ġcanst Ġcap Ġcapable Ġcaparison Ġcapital Ġcaps Ġcapt Ġcaptain Ġcaptive Ġcar Ġcard Ġcare Ġcareful Ġcareless Ġcares Ġcarried Ġcarries Ġcarrion Ġcarry Ġcas Ġcase Ġcast Ġcastle Ġcat Ġcatch Ġcaught Ġcaus Ġcause Ġcaused Ġcauses Ġcave Ġcease Ġced Ġcele Ġcell Ġcens Ġcensure Ġcent Ġcentre Ġcere Ġceremon Ġceremonious Ġceremony Ġcertain Ġcertainly Ġch Ġcha Ġchaf Ġchafed Ġchaff Ġchain Ġchains Ġchair Ġchall Ġchallenge Ġchamber Ġchamberlain Ġchamp Ġchampion Ġchan Ġchance Ġchances Ġchange Ġchanged Ġchangeling Ġchanges Ġchanging Ġchap Ġchar Ġcharac Ġcharacter Ġcharge Ġcharged Ġcharges Ġcharitable Ġcharity Ġcharm Ġcharms Ġcharters Ġchase Ġchast Ġchaste Ġchastisement Ġchastity Ġchat Ġche Ġcheap Ġchee Ġcheek Ġcheeks Ġcheer Ġcheerful Ġcheerfully Ġcheerly Ġcheers Ġcheque Ġcher Ġcherish Ġchest Ġchi Ġchid Ġchide Ġchides Ġchief Ġchiefest Ġchild Ġchildish Ġchildren Ġchival Ġchivalry Ġcho Ġchoice Ġchoke Ġcholer Ġcholeric Ġchoose Ġchop Ġchose Ġchosen Ġchron Ġchurch Ġchurchyard Ġcir Ġcirc Ġcircum Ġcircumst Ġcircumstance Ġcircumstances Ġcitizens Ġcity Ġciv Ġcivil Ġcl Ġclaim Ġclam Ġclamorous Ġclamour Ġclap Ġcle Ġclean Ġclear Ġcleft Ġcler Ġclergy Ġclim Ġclimate Ġclimb Ġclo Ġcloak Ġclock Ġclose Ġclosed Ġclosely Ġclothe Ġclothes Ġcloud Ġclouded Ġclouds Ġcloudy Ġco Ġcoal Ġcoals Ġcoast Ġcoat Ġcoats Ġcock Ġcoff Ġcoffers Ġcoffin Ġcol Ġcold Ġcolder Ġcoldly Ġcoll Ġcolour Ġcolours Ġcom Ġcomb Ġcombat Ġcome Ġcomes Ġcomest Ġcomfort Ġcomfortable Ġcomforts Ġcoming Ġcomm Ġcommand Ġcommanded Ġcommanding Ġcommandment Ġcommands Ġcommend Ġcommends Ġcommission Ġcommit Ġcommitted Ġcommodity Ġcommon Ġcommons Ġcommonweal Ġcommonwealth Ġcomp Ġcompan Ġcompanion Ġcompany Ġcompare Ġcompass Ġcompassion Ġcompell Ġcompl Ġcomplain Ġcomplaint Ġcomple Ġcomplete Ġcomplex Ġcomplexion Ġcomplexions Ġcomplices Ġcomposition Ġcompound Ġcon Ġconc Ġconce Ġconceal Ġconceit Ġconceive Ġconcerns Ġconcl Ġconclud Ġconclude Ġconcluded Ġconclusion Ġcond Ġcondemn Ġcondemned Ġcondition Ġconditions Ġcondu Ġconduct Ġconf Ġconfe Ġconfeder Ġconfederate Ġconfer Ġconference Ġconfess Ġconfession Ġconfessor Ġconfidence Ġconfined Ġconfines Ġconfirm Ġconfound Ġconfusion Ġconj Ġconjure Ġconqu Ġconquer Ġconqueror Ġconquest Ġcons Ġconscience Ġconsent Ġconsented Ġconsequ Ġconsequence Ġconserves Ġconsider Ġconsidered Ġconsort Ġconsorted Ġconspir Ġconspiracy Ġconstable Ġconstant Ġconsul Ġconsuls Ġconsume Ġconsumed Ġcont Ġcontem Ġcontempt Ġcontent Ġcontented Ġcontents Ġcontin Ġcontinue Ġcontr Ġcontract Ġcontrad Ġcontrary Ġcontri Ġcontro Ġcontrol Ġcontroversy Ġconvent Ġconver Ġconvers Ġconvey Ġcook Ġcool Ġcop Ġcor Ġcord Ġcordial Ġcords Ġcorn Ġcorners Ġcoronation Ġcorre Ġcorrection Ġcorrupt Ġcorruption Ġcorse Ġcost Ġcou Ġcould Ġcouldst Ġcoun Ġcounc Ġcouncil Ġcouncils Ġcounsel Ġcounsell Ġcounsellor Ġcounsels Ġcount Ġcounted Ġcountenance Ġcounter Ġcounterfeit Ġcountermand Ġcounterpo Ġcountry Ġcountryman Ġcountrymen Ġcounty Ġcouple Ġcour Ġcourage Ġcourse Ġcourses Ġcourt Ġcourteous Ġcourtesy Ġcourtier Ġcourts Ġcousin Ġcousins Ġcover Ġcovert Ġcoward Ġcowardice Ġcowardly Ġcoz Ġcozen Ġcr Ġcra Ġcrab Ġcrack Ġcracking Ġcrad Ġcraft Ġcram Ġcrave Ġcraves Ġcre Ġcreat Ġcreate Ġcreated Ġcreation Ġcreature Ġcreatures Ġcred Ġcredit Ġcrept Ġcrest Ġcrew Ġcried Ġcries Ġcrim Ġcrimes Ġcriminal Ġcro Ġcrook Ġcropp Ġcross Ġcrow Ġcrown Ġcrowned Ġcrowns Ġcrows Ġcru Ġcruel Ġcrush Ġcrutch Ġcry Ġcrying Ġcuck Ġcuckold Ġcunning Ġcup Ġcur Ġcurbs Ġcure Ġcurious Ġcurrent Ġcurs Ġcurse Ġcursed Ġcurses Ġcurst Ġcurt Ġcurtain Ġcushi Ġcustom Ġcut Ġd Ġdag Ġdagger Ġdaily Ġdaint Ġdainty Ġdam Ġdame Ġdamn Ġdamnable Ġdamned Ġdan Ġdance Ġdances Ġdancing Ġdanger Ġdangerous Ġdangers Ġdare Ġdared Ġdares Ġdarest Ġdaring Ġdark Ġdarken Ġdarkly Ġdarkness Ġdash Ġdastard Ġdate Ġdaughter Ġdaughters Ġday Ġdaylight Ġdays Ġde Ġdead Ġdeadly Ġdeaf Ġdeal Ġdealing Ġdear Ġdeare Ġdearer Ġdearest Ġdearly Ġdearth Ġdeath Ġdeaths Ġdeb Ġdebase Ġdebt Ġdec Ġdecay Ġdece Ġdeceased Ġdeceit Ġdeceive Ġdeceived Ġdeck Ġdecl Ġdecree Ġdecrees Ġded Ġdeed Ġdeeds Ġdeep Ġdeeper Ġdeeply Ġdeer Ġdef Ġdefect Ġdefence Ġdefend Ġdeform Ġdeformity Ġdefy Ġdeg Ġdegenerate Ġdegree Ġdegrees Ġdel Ġdelay Ġdeli Ġdelicate Ġdelight Ġdelights Ġdeliver Ġdeliverance Ġdelivery Ġdem Ġdemand Ġdemands Ġden Ġdenial Ġdenied Ġdeny Ġdep Ġdepart Ġdeparture Ġdepend Ġdepose Ġdeposed Ġdepth Ġdeputy Ġder Ġderived Ġdes Ġdesc Ġdescend Ġdescent Ġdeser Ġdesert Ġdeserts Ġdeserve Ġdeserved Ġdeserves Ġdesign Ġdesigns Ġdesire Ġdesired Ġdesires Ġdesp Ġdespair Ġdesperate Ġdesperately Ġdespised Ġdespite Ġdest Ġdestiny Ġdestroy Ġdestruction Ġdet Ġdeter Ġdeterm Ġdetermine Ġdetermined Ġdetest Ġdetestable Ġdetested Ġdev Ġdevice Ġdevil Ġdevilish Ġdevils Ġdevise Ġdevotion Ġdevour Ġdew Ġdi Ġdiadem Ġdid Ġdidst Ġdie Ġdied Ġdies Ġdiest Ġdiet Ġdiffe Ġdifferen Ġdifference Ġdig Ġdigest Ġdign Ġdignity Ġdil Ġdiligence Ġdim Ġdimm Ġdin Ġdine Ġdined Ġdinner Ġdire Ġdirect Ġdirection Ġdirectly Ġdireful Ġdis Ġdisc Ġdischarge Ġdischarged Ġdiscipl Ġdiscontent Ġdiscontented Ġdiscords Ġdiscourse Ġdiscover Ġdiscovery Ġdiscred Ġdiscreet Ġdiscretion Ġdisd Ġdisdain Ġdisease Ġdiseases Ġdisgra Ġdisgrace Ġdisgraced Ġdisgu Ġdisguise Ġdisguised Ġdish Ġdishes Ġdishon Ġdishonour Ġdisin Ġdisinherit Ġdisinherited Ġdisl Ġdislike Ġdisloyal Ġdism Ġdismal Ġdismiss Ġdiso Ġdisobed Ġdisorder Ġdisp Ġdispatch Ġdisper Ġdisperse Ġdispersed Ġdisple Ġdispleased Ġdispleasure Ġdisposed Ġdisposition Ġdispro Ġdiss Ġdissem Ġdissemble Ġdissembling Ġdist Ġdistemper Ġdisting Ġdistinguish Ġdistra Ġdistress Ġdistressed Ġdisturb Ġdiv Ġdivers Ġdivide Ġdivided Ġdivine Ġdivines Ġdivision Ġdivor Ġdivorce Ġdo Ġdoct Ġdoes Ġdog Ġdogs Ġdoing Ġdoings Ġdoit Ġdol Ġdole Ġdoleful Ġdom Ġdone Ġdoom Ġdooms Ġdoor Ġdoors Ġdost Ġdot Ġdoth Ġdou Ġdouble Ġdoublet Ġdoubt Ġdoubted Ġdoubtful Ġdove Ġdoves Ġdow Ġdower Ġdown Ġdownfall Ġdownright Ġdowry Ġdozen Ġdr Ġdra Ġdrag Ġdragon Ġdram Ġdraw Ġdrawn Ġdraws Ġdre Ġdread Ġdreadful Ġdream Ġdreams Ġdreamt Ġdress Ġdrew Ġdri Ġdried Ġdrift Ġdrink Ġdrinking Ġdrinks Ġdriven Ġdro Ġdroop Ġdrooping Ġdrop Ġdropp Ġdrops Ġdrown Ġdrowning Ġdrows Ġdrowsy Ġdru Ġdrum Ġdrums Ġdrunk Ġdrunkard Ġdrunken Ġdry Ġdu Ġducats Ġdue Ġdug Ġduke Ġduked Ġdukedom Ġdukes Ġdull Ġdumb Ġdun Ġdur Ġdurst Ġdust Ġduteous Ġduty Ġdwell Ġdwelling Ġdwells Ġdying Ġe Ġeach Ġeag Ġeager Ġeagle Ġear Ġearl Ġearldom Ġearly Ġearn Ġearnest Ġears Ġearth Ġearthly Ġeas Ġease Ġeasily Ġeast Ġeasy Ġeat Ġeaten Ġeating Ġebb Ġed Ġedge Ġedict Ġeff Ġeffect Ġeffects Ġeffeminate Ġeg Ġegg Ġeight Ġeither Ġel Ġeld Ġelder Ġelders Ġeldest Ġele Ġelection Ġelements Ġeleven Ġelo Ġeloqu Ġeloquence Ġelse Ġelsewhere Ġem Ġemb Ġembass Ġembra Ġembrace Ġembraced Ġembracements Ġemploy Ġempt Ġempty Ġemulation Ġen Ġenc Ġencounter Ġencourage Ġend Ġendea Ġended Ġendow Ġends Ġendure Ġendured Ġenem Ġenemies Ġenemy Ġenforce Ġenforced Ġenforcement Ġenfranch Ġeng Ġengross Ġenjoin Ġenjoy Ġenjoys Ġenmity Ġenough Ġenrich Ġenroll Ġensue Ġent Ġenter Ġenterpr Ġenterprise Ġentertain Ġentertainment Ġentire Ġentrails Ġentrance Ġentreat Ġentreated Ġentreaties Ġentreaty Ġenvious Ġenvy Ġequ Ġequal Ġer Ġere Ġerrand Ġerror Ġes Ġescap Ġescape Ġest Ġestate Ġesteem Ġestim Ġestimation Ġeter Ġeternal Ġev Ġeven Ġevent Ġevents Ġever Ġeverlast Ġeverlasting Ġevery Ġevident Ġevil Ġevils Ġew Ġex Ġexact Ġexam Ġexample Ġexc Ġexceed Ġexcell Ġexcellent Ġexcept Ġexchange Ġexclaim Ġexclaims Ġexcuse Ġexec Ġexecut Ġexecute Ġexecuted Ġexecution Ġexecutioner Ġexerc Ġexercise Ġexha Ġexile Ġexp Ġexpect Ġexped Ġexpedition Ġexperience Ġexpost Ġexpress Ġexpressly Ġext Ġexternal Ġextrem Ġextreme Ġextremes Ġextremest Ġextremity Ġey Ġeye Ġeyes Ġf Ġfa Ġfabric Ġface Ġfaced Ġfaces Ġfact Ġfaction Ġfactious Ġfail Ġfails Ġfain Ġfaint Ġfaintly Ġfair Ġfaire Ġfairer Ġfairest Ġfairies Ġfairly Ġfaith Ġfaithful Ġfal Ġfalcon Ġfall Ġfallen Ġfalling Ġfalls Ġfalse Ġfalsehood Ġfalsely Ġfam Ġfame Ġfamiliar Ġfamish Ġfamous Ġfan Ġfancy Ġfant Ġfantast Ġfantastical Ġfar Ġfardel Ġfare Ġfares Ġfarewell Ġfarm Ġfart Ġfarther Ġfarthest Ġfashi Ġfashion Ġfashions Ġfast Ġfasting Ġfat Ġfatal Ġfate Ġfather Ġfathers Ġfathom Ġfault Ġfaults Ġfavour Ġfavourable Ġfavours Ġfawn Ġfe Ġfear Ġfearful Ġfearing Ġfearless Ġfears Ġfeast Ġfeasting Ġfeasts Ġfeat Ġfeather Ġfed Ġfee Ġfeeble Ġfeed Ġfeeding Ġfeel Ġfeeling Ġfees Ġfeet Ġfell Ġfellow Ġfellows Ġfelt Ġfem Ġfemale Ġfen Ġfence Ġfester Ġfestival Ġfet Ġfetch Ġfever Ġfew Ġfi Ġfickle Ġfie Ġfield Ġfiend Ġfiends Ġfier Ġfierce Ġfiery Ġfif Ġfift Ġfifteen Ġfifty Ġfig Ġfight Ġfighting Ġfights Ġfigure Ġfil Ġfile Ġfill Ġfills Ġfilthy Ġfin Ġfind Ġfinds Ġfine Ġfinger Ġfingers Ġfire Ġfires Ġfirm Ġfirmly Ġfirst Ġfish Ġfit Ġfits Ġfitted Ġfitter Ġfitting Ġfive Ġfix Ġfl Ġflag Ġflame Ġflat Ġflatt Ġflatter Ġflatterer Ġflatterers Ġflattering Ġfle Ġfled Ġfleet Ġflesh Ġfliers Ġflies Ġflight Ġflint Ġflinty Ġflock Ġflood Ġfloods Ġflour Ġflourish Ġflow Ġflower Ġflowers Ġfly Ġfo Ġfoaming Ġfoe Ġfoes Ġfoil Ġfold Ġfolks Ġfoll Ġfollies Ġfollow Ġfollowers Ġfollowing Ġfollows Ġfolly Ġfond Ġfondly Ġfood Ġfool Ġfooling Ġfoolish Ġfools Ġfoot Ġfooting Ġfootman Ġfor Ġforb Ġforbear Ġforbid Ġforce Ġforced Ġforces Ġfore Ġforefather Ġforehead Ġforeign Ġforerun Ġforest Ġforetell Ġforfeit Ġforg Ġforget Ġforgive Ġforgiveness Ġforgot Ġforlorn Ġform Ġformer Ġforms Ġforn Ġfors Ġforsake Ġforso Ġforsook Ġforsooth Ġforsw Ġforswear Ġforsworn Ġfort Ġforth Ġforthwith Ġfortnight Ġfortunate Ġfortune Ġfortunes Ġforty Ġforward Ġfought Ġfoul Ġfouler Ġfound Ġfount Ġfour Ġfourteen Ġfourth Ġfowl Ġfox Ġfra Ġfrail Ġframe Ġframed Ġfrank Ġfrant Ġfrantic Ġfray Ġfre Ġfree Ġfreed Ġfreedom Ġfreely Ġfres Ġfresh Ġfresher Ġfreshest Ġfret Ġfretting Ġfri Ġfriar Ġfriend Ġfriendly Ġfriends Ġfriendship Ġfright Ġfrighted Ġfro Ġfrom Ġfront Ġfrost Ġfrow Ġfroward Ġfrown Ġfrowning Ġfrowns Ġfrozen Ġfru Ġfruit Ġfruitful Ġfruits Ġfulf Ġfull Ġfully Ġfun Ġfunction Ġfur Ġfurn Ġfurnish Ġfurther Ġfury Ġfut Ġfuture Ġg Ġga Ġgage Ġgain Ġgains Ġgainsay Ġgait Ġgall Ġgallant Ġgam Ġgame Ġgamut Ġgaol Ġgaoler Ġgap Ġgape Ġgar Ġgarden Ġgarland Ġgarlic Ġgarments Ġgate Ġgates Ġgather Ġgaunt Ġgave Ġgay Ġgaz Ġgaze Ġgear Ġgeld Ġgener Ġgeneral Ġgent Ġgentle Ġgentleman Ġgentlemen Ġgentler Ġgentlewoman Ġgently Ġgentry Ġget Ġgetting Ġghost Ġghostly Ġgi Ġgiant Ġgid Ġgiddy Ġgift Ġgifts Ġgild Ġgilt Ġginger Ġgir Ġgirl Ġgirls Ġgive Ġgiven Ġgives Ġgiving Ġgl Ġglad Ġgladly Ġglass Ġglasses Ġgle Ġglister Ġglories Ġglorious Ġglory Ġglove Ġgloves Ġgn Ġgnaw Ġgo Ġgod Ġgodd Ġgoddess Ġgods Ġgoes Ġgoest Ġgoing Ġgold Ġgolden Ġgone Ġgood Ġgoodly Ġgoodman Ġgoodness Ġgoods Ġgoose Ġgorge Ġgoss Ġgossips Ġgot Ġgotten Ġgovern Ġgovernment Ġgovernor Ġgown Ġgr Ġgra Ġgrace Ġgraced Ġgraces Ġgracious Ġgraft Ġgrain Ġgrand Ġgrandam Ġgrandfather Ġgrandsire Ġgrant Ġgranted Ġgrass Ġgrat Ġgratis Ġgrave Ġgraves Ġgre Ġgreat Ġgreater Ġgreatest Ġgreatly Ġgreatness Ġgreen Ġgreet Ġgreeting Ġgreetings Ġgreets Ġgrew Ġgrey Ġgreyh Ġgri Ġgrie Ġgrief Ġgriefs Ġgriev Ġgrieve Ġgrieved Ġgrieves Ġgrievous Ġgrim Ġgro Ġgroan Ġgroans Ġgroom Ġgross Ġground Ġgrove Ġgrow Ġgrowing Ġgrown Ġgrows Ġgrowth Ġgru Ġgrub Ġgrum Ġgu Ġguard Ġguess Ġguest Ġguests Ġguilt Ġguiltless Ġguilty Ġgulf Ġgust Ġh Ġha Ġhab Ġhabit Ġhad Ġhadst Ġhag Ġhail Ġhair Ġhalf Ġhall Ġhalt Ġhand Ġhandle Ġhands Ġhandsome Ġhang Ġhanged Ġhanging Ġhangman Ġhangs Ġhap Ġhaply Ġhapp Ġhappier Ġhappily Ġhappiness Ġhappy Ġhar Ġharbour Ġhard Ġharder Ġhardly Ġhardy Ġhare Ġhark Ġharl Ġharlot Ġharm Ġharmless Ġharmony Ġharms Ġharsh Ġharvest Ġhas Ġhast Ġhaste Ġhasty Ġhat Ġhatch Ġhatches Ġhate Ġhated Ġhateful Ġhath Ġhatred Ġhaught Ġhaughty Ġhaunt Ġhave Ġhaven Ġhaving Ġhaw Ġhaz Ġhazard Ġhazel Ġhe Ġhea Ġhead Ġheads Ġheadstrong Ġheal Ġhealth Ġheap Ġhear Ġheard Ġhearing Ġhears Ġheart Ġhearth Ġheartily Ġhearts Ġheat Ġheav Ġheaven Ġheavenly Ġheavens Ġheavier Ġheavily Ġheaviness Ġheavy Ġhedge Ġheed Ġheel Ġheels Ġheigh Ġheight Ġheinous Ġheir Ġheirs Ġhel Ġheld Ġhell Ġhelm Ġhelmets Ġhelms Ġhelp Ġhelping Ġhelps Ġhen Ġhence Ġhenceforth Ġher Ġhera Ġherald Ġherbs Ġherd Ġherds Ġhere Ġhereafter Ġherein Ġhers Ġherself Ġhew Ġhid Ġhide Ġhideous Ġhie Ġhig Ġhigh Ġhigher Ġhighest Ġhighness Ġhighway Ġhill Ġhills Ġhilt Ġhim Ġhimself Ġhind Ġhinder Ġhint Ġhire Ġhis Ġhist Ġhistory Ġhit Ġhither Ġho Ġhoar Ġhol Ġhold Ġholding Ġholds Ġhole Ġholid Ġhollow Ġholp Ġholy Ġhom Ġhomage Ġhome Ġhomely Ġhomicide Ġhon Ġhonest Ġhonesty Ġhoney Ġhonour Ġhonourable Ġhonours Ġhood Ġhook Ġhop Ġhope Ġhoped Ġhopeful Ġhopeless Ġhopes Ġhor Ġhorn Ġhorrible Ġhorror Ġhorse Ġhorses Ġhost Ġhostess Ġhot Ġhounds Ġhour Ġhourly Ġhours Ġhouse Ġhousehold Ġhouses Ġhow Ġhowl Ġhum Ġhuman Ġhumane Ġhumble Ġhumbly Ġhumility Ġhumour Ġhundred Ġhung Ġhunger Ġhungry Ġhunt Ġhur Ġhurl Ġhurried Ġhurt Ġhus Ġhusband Ġhusbands Ġhush Ġi Ġibat Ġice Ġid Ġidle Ġidly Ġif Ġign Ġignoble Ġignor Ġignorance Ġignorant Ġill Ġim Ġimag Ġimage Ġimagination Ġimagine Ġimm Ġimmediate Ġimmediately Ġimmortal Ġimp Ġimpart Ġimpatience Ġimpatient Ġimpeach Ġimpediment Ġimper Ġimperial Ġimport Ġimportune Ġimpose Ġimposs Ġimpossible Ġimpression Ġimprison Ġimprisonment Ġimpud Ġin Ġinc Ġincapable Ġincen Ġincense Ġincensed Ġinch Ġincl Ġinclination Ġinclined Ġinconstant Ġincrease Ġincur Ġind Ġindeed Ġindiffe Ġindifferent Ġindirect Ġinf Ġinfamy Ġinfancy Ġinfant Ġinfect Ġinfected Ġinfection Ġinfer Ġinferior Ġinfinite Ġinfirm Ġinfirmity Ġinflu Ġinform Ġinfring Ġinfringe Ġing Ġinhabit Ġinherit Ġinheritance Ġinj Ġinjured Ġinjuries Ġinjurious Ġinjury Ġinjustice Ġink Ġinno Ġinnocence Ġinnocency Ġinnocent Ġinnocents Ġinqu Ġinquire Ġins Ġinsinu Ġinsinuate Ġinsol Ġinsolence Ġinst Ġinstance Ġinstant Ġinstantly Ġinstead Ġinstru Ġinstruct Ġinstruction Ġinstrument Ġinstruments Ġinsulting Ġint Ġinteg Ġintegrity Ġintell Ġintelligence Ġintend Ġintended Ġintends Ġintent Ġintents Ġinter Ġintercept Ġintercession Ġinterchange Ġinterest Ġinterrupt Ġinto Ġinv Ġinve Ġinvent Ġinvention Ġinveterate Ġinward Ġir Ġire Ġiron Ġis Ġisland Ġisle Ġissu Ġissue Ġissued Ġissues Ġit Ġits Ġitself Ġj Ġjade Ġjar Ġjealous Ġjealousies Ġjest Ġjew Ġjewel Ġjewels Ġjoc Ġjocund Ġjoin Ġjoint Ġjoints Ġjointure Ġjoll Ġjot Ġjour Ġjourney Ġjoy Ġjoyful Ġjoys Ġjud Ġjudge Ġjudgment Ġjump Ġjust Ġjustice Ġjustify Ġjustly Ġk Ġke Ġkeen Ġkeep Ġkeeper Ġkeeping Ġkeeps Ġkenn Ġkennel Ġkept Ġkern Ġkey Ġkeys Ġkill Ġkilled Ġkin Ġkind Ġkindly Ġkindness Ġkindred Ġking Ġkingdom Ġkingly Ġkings Ġkins Ġkinsman Ġkinsmen Ġkiss Ġkisses Ġkissing Ġkites Ġkn Ġknave Ġknavery Ġknaves Ġknee Ġkneel Ġknees Ġknell Ġknew Ġknife Ġknight Ġknighthood Ġknightly Ġknit Ġknock Ġknocks Ġknot Ġknow Ġknowest Ġknowing Ġknowledge Ġknown Ġknows Ġl Ġlab Ġlabour Ġlace Ġlack Ġlacks Ġlad Ġladies Ġlads Ġlady Ġladyship Ġlaid Ġlain Ġlam Ġlamb Ġlambs Ġlame Ġlament Ġlamentable Ġlamentation Ġlamentations Ġlamp Ġlan Ġlance Ġland Ġlanded Ġlands Ġlane Ġlangu Ġlanguage Ġlap Ġlar Ġlarge Ġlark Ġlass Ġlast Ġlasting Ġlate Ġlately Ġlatest Ġlau Ġlaugh Ġlaughter Ġlaw Ġlawful Ġlaws Ġlay Ġlaz Ġlazy Ġle Ġlea Ġlead Ġleaden Ġleader Ġleads Ġleague Ġlean Ġleanness Ġleap Ġlearn Ġlearned Ġlearning Ġleast Ġleave Ġleaves Ġleaving Ġlecher Ġlect Ġlecture Ġled Ġleft Ġleg Ġlegs Ġleisure Ġlen Ġlend Ġlends Ġleng Ġlength Ġlengthen Ġlengthens Ġlenity Ġlent Ġless Ġlesser Ġlesson Ġlest Ġlet Ġlets Ġletter Ġletters Ġlevel Ġlevied Ġlevy Ġlewd Ġli Ġliar Ġliars Ġliber Ġliberal Ġliberties Ġliberty Ġlick Ġlie Ġlief Ġliege Ġlies Ġliest Ġlieutenant Ġlife Ġlift Ġlight Ġlightly Ġlightness Ġlightning Ġlights Ġlike Ġlikeli Ġlikelihood Ġlikely Ġliken Ġlikeness Ġlikes Ġlikewise Ġliking Ġlim Ġlimb Ġlimbs Ġlimit Ġlimits Ġlin Ġline Ġlinea Ġlineal Ġlineaments Ġlinen Ġlinger Ġlink Ġlion Ġlions Ġlip Ġlips Ġliqu Ġlist Ġlists Ġlittle Ġlive Ġlived Ġlively Ġlivery Ġlives Ġlivest Ġliving Ġlo Ġload Ġloath Ġloathed Ġloathsome Ġlock Ġlocks Ġlod Ġlodge Ġlodged Ġlodging Ġloins Ġlong Ġlonger Ġlongest Ġlonging Ġlongs Ġlook Ġlooked Ġlooker Ġlooking Ġlooks Ġloose Ġlord Ġlords Ġlordship Ġlose Ġloss Ġlost Ġloud Ġlouder Ġlour Ġlove Ġloved Ġlovely Ġlover Ġlovers Ġloves Ġlovest Ġloving Ġlow Ġlower Ġlowly Ġloyal Ġloyalty Ġluck Ġlun Ġlunatic Ġlung Ġlungs Ġlur Ġlurk Ġlurking Ġlust Ġlustful Ġlusty Ġlute Ġlying Ġm Ġma Ġmad Ġmadam Ġmade Ġmadest Ġmadly Ġmadman Ġmadness Ġmag Ġmagic Ġmagist Ġmagistrate Ġmaid Ġmaiden Ġmaidenhead Ġmaids Ġmain Ġmaintain Ġmaj Ġmajesty Ġmake Ġmakes Ġmaking Ġmal Ġmale Ġmalice Ġmalicious Ġmalign Ġmalignant Ġman Ġmanacles Ġmanage Ġmangled Ġmanhood Ġmanif Ġmanifest Ġmankind Ġmanly Ġmanner Ġmanners Ġmant Ġmantle Ġmany Ġmap Ġmar Ġmarble Ġmarch Ġmariners Ġmark Ġmarket Ġmarks Ġmarquess Ġmarr Ġmarriage Ġmarried Ġmarry Ġmarrying Ġmars Ġmarshal Ġmart Ġmarvel Ġmarvell Ġmarvellous Ġmas Ġmask Ġmasqu Ġmass Ġmast Ġmaster Ġmasters Ġmat Ġmatch Ġmates Ġmathematic Ġmathematics Ġmatter Ġmatters Ġmay Ġmayor Ġmayst Ġme Ġmeal Ġmean Ġmeaner Ġmeaning Ġmeans Ġmeant Ġmeasure Ġmeat Ġmed Ġmeddle Ġmedic Ġmedicine Ġmeditation Ġmeed Ġmeet Ġmeeting Ġmelanch Ġmelancholy Ġmellow Ġmelt Ġmemb Ġmembers Ġmemory Ġmen Ġmend Ġmer Ġmerc Ġmerchant Ġmerciful Ġmercy Ġmere Ġmerely Ġmerit Ġmerri Ġmerrily Ġmerrim Ġmerriment Ġmerry Ġmess Ġmessage Ġmessenger Ġmet Ġmetal Ġmete Ġmethinks Ġmethought Ġmew Ġmid Ġmiddle Ġmidnight Ġmidst Ġmidwife Ġmight Ġmightily Ġmightst Ġmighty Ġmil Ġmild Ġmildly Ġmildness Ġmile Ġmiles Ġmilk Ġmill Ġmillions Ġmin Ġmind Ġminded Ġminds Ġmine Ġming Ġminister Ġministers Ġminstrel Ġminstrels Ġminute Ġminutes Ġmir Ġmirror Ġmirth Ġmis Ġmiscar Ġmischance Ġmischief Ġmiser Ġmiserable Ġmiseries Ġmisery Ġmisfortune Ġmiss Ġmist Ġmistake Ġmistaking Ġmistook Ġmistress Ġmistrust Ġmo Ġmoan Ġmoans Ġmock Ġmockery Ġmocking Ġmod Ġmodel Ġmodest Ġmodesty Ġmoe Ġmoiety Ġmolehill Ġmom Ġmoment Ġmomentary Ġmon Ġmonarch Ġmoney Ġmonster Ġmonstrous Ġmonth Ġmonths Ġmonument Ġmood Ġmoody Ġmoon Ġmor Ġmoral Ġmore Ġmorn Ġmorning Ġmorrow Ġmorsel Ġmortal Ġmost Ġmot Ġmother Ġmothers Ġmotion Ġmould Ġmount Ġmountain Ġmounting Ġmour Ġmourn Ġmourning Ġmouse Ġmouth Ġmouths Ġmove Ġmoveables Ġmoved Ġmoves Ġmoving Ġmow Ġmuch Ġmuff Ġmult Ġmultitude Ġmum Ġmur Ġmurde Ġmurder Ġmurdered Ġmurderer Ġmurdering Ġmurderous Ġmurders Ġmuse Ġmusic Ġmusician Ġmusicians Ġmust Ġmustard Ġmuster Ġmusty Ġmut Ġmute Ġmutinous Ġmutiny Ġmy Ġmyself Ġmystery Ġn Ġnail Ġnails Ġnaked Ġname Ġnamed Ġnames Ġnap Ġnapkin Ġnar Ġnarrow Ġnat Ġnative Ġnatural Ġnature Ġnatures Ġnaught Ġnay Ġne Ġnear Ġnearer Ġnearest Ġneat Ġnecess Ġnecessary Ġnecessities Ġnecessity Ġneck Ġneed Ġneedful Ġneedle Ġneedless Ġneeds Ġneedy Ġnegl Ġnegle Ġneglect Ġneighb Ġneighbour Ġneighbours Ġneither Ġnerves Ġnest Ġnet Ġnettle Ġnever Ġnew Ġnewly Ġnews Ġnext Ġnice Ġniece Ġnigh Ġnight Ġnighting Ġnightingale Ġnightly Ġnights Ġnimble Ġnine Ġninet Ġnineteen Ġno Ġnob Ġnobility Ġnobl Ġnoble Ġnobleman Ġnobleness Ġnobler Ġnobles Ġnobly Ġnod Ġnoise Ġnon Ġnone Ġnoon Ġnor Ġnort Ġnorth Ġnorthern Ġnose Ġnoses Ġnot Ġnote Ġnoted Ġnotes Ġnothing Ġnotice Ġnotorious Ġnotwith Ġnotwithstanding Ġnought Ġnourish Ġnow Ġnumb Ġnumber Ġnumbers Ġnuns Ġnupt Ġnuptial Ġnurse Ġnursed Ġnymph Ġo Ġoak Ġoath Ġoaths Ġob Ġobdur Ġobdurate Ġobed Ġobedience Ġobedient Ġobey Ġobject Ġoblivion Ġobs Ġobscured Ġobsequ Ġobsequies Ġobst Ġobt Ġobtain Ġocc Ġoccasion Ġoccup Ġoccupation Ġoce Ġodd Ġodds Ġof Ġoff Ġoffence Ġoffences Ġoffend Ġoffended Ġoffenders Ġoffer Ġoffic Ġoffice Ġofficer Ġofficers Ġoffices Ġoft Ġoften Ġold Ġom Ġominous Ġomit Ġon Ġonce Ġone Ġones Ġonly Ġope Ġopen Ġopening Ġopinion Ġopp Ġoppos Ġopposed Ġopposite Ġoppression Ġor Ġoracle Ġorator Ġorchard Ġord Ġordain Ġorder Ġordering Ġorderly Ġordinance Ġorn Ġornaments Ġorphan Ġorphans Ġost Ġother Ġothers Ġotherwise Ġought Ġour Ġours Ġourself Ġourselves Ġout Ġoutrage Ġoutst Ġoutward Ġover Ġoverheard Ġoverthrow Ġow Ġowe Ġowes Ġown Ġox Ġp Ġpace Ġpack Ġpage Ġpaid Ġpain Ġpainful Ġpains Ġpaint Ġpainted Ġpainting Ġpair Ġpal Ġpalace Ġpale Ġpalm Ġpals Ġpant Ġpaper Ġpar Ġparadise Ġparasite Ġparch Ġpardon Ġpardons Ġparent Ġparents Ġpark Ġparliament Ġparlous Ġpart Ġpartake Ġparted Ġpartial Ġparticular Ġparties Ġparting Ġpartly Ġpartner Ġparts Ġparty Ġpass Ġpassage Ġpasses Ġpassing Ġpassion Ġpast Ġpastime Ġpat Ġpate Ġpath Ġpatience Ġpatient Ġpatiently Ġpatricians Ġpatron Ġpattern Ġpause Ġpawn Ġpay Ġpays Ġpe Ġpeace Ġpeaceful Ġpear Ġpearl Ġpeasant Ġpeck Ġped Ġpedant Ġpedlar Ġpee Ġpeer Ġpeers Ġpeevish Ġpen Ġpenit Ġpenitence Ġpenitent Ġpenny Ġpens Ġpent Ġpenury Ġpeople Ġper Ġperceive Ġperd Ġperem Ġperemptory Ġperf Ġperfect Ġperfection Ġperforce Ġperform Ġperhaps Ġperil Ġperiod Ġperish Ġperj Ġperjured Ġperjury Ġpermit Ġpernicious Ġperpet Ġperpetual Ġpers Ġperson Ġpersons Ġpersu Ġpersuade Ġpersuaded Ġperused Ġpest Ġpestilence Ġpet Ġpetition Ġpetitions Ġpetty Ġphe Ġphi Ġphiloso Ġphilosophy Ġphysic Ġphysician Ġphysicians Ġpi Ġpick Ġpict Ġpicture Ġpie Ġpiece Ġpieces Ġpier Ġpierce Ġpiercing Ġpikes Ġpil Ġpiled Ġpilgrim Ġpilgrimage Ġpill Ġpilot Ġpin Ġpinch Ġpine Ġpines Ġpir Ġpit Ġpitch Ġpiteous Ġpith Ġpitied Ġpitiful Ġpity Ġpl Ġplace Ġplaced Ġplaces Ġplague Ġplain Ġplainly Ġplaints Ġplan Ġplanet Ġplant Ġplants Ġplate Ġplay Ġplays Ġple Ġplead Ġpleas Ġpleasant Ġplease Ġpleased Ġpleaseth Ġpleasing Ġpleasure Ġpleasures Ġplebe Ġplebeians Ġpledge Ġplent Ġplot Ġplotted Ġpluck Ġplucked Ġplucks Ġpo Ġpock Ġpocket Ġpoint Ġpoints Ġpoison Ġpoisonous Ġpol Ġpolicy Ġpoll Ġpomp Ġpoo Ġpoor Ġpoorest Ġpopular Ġpor Ġport Ġporter Ġportion Ġports Ġposs Ġpossess Ġpossessed Ġpossession Ġpossible Ġpost Ġposterity Ġposterns Ġposts Ġpot Ġpotion Ġpound Ġpounds Ġpour Ġpoverty Ġpow Ġpowder Ġpower Ġpowerful Ġpowers Ġpox Ġpr Ġpra Ġpractise Ġpraise Ġpraised Ġpraises Ġprate Ġprating Ġpray Ġprayer Ġprayers Ġprays Ġpre Ġprec Ġpreced Ġprecedent Ġprecious Ġprecise Ġprefer Ġpregnant Ġpreparation Ġprepare Ġprepared Ġprerog Ġprerogative Ġpres Ġprescri Ġpresence Ġpresent Ġpresently Ġpreserve Ġpreserved Ġpress Ġpresses Ġpresum Ġpresume Ġpret Ġprett Ġprettiest Ġpretty Ġprevail Ġprevails Ġprevent Ġprevented Ġprey Ġpri Ġprice Ġprick Ġpricks Ġpride Ġpriest Ġprime Ġprin Ġprince Ġprincely Ġprinces Ġprincess Ġprint Ġprison Ġprisoner Ġprisoners Ġprithee Ġpriv Ġprivate Ġprivately Ġprivile Ġprivilege Ġprivy Ġprize Ġpro Ġproceed Ġproceedings Ġprocess Ġproclaim Ġproclam Ġproclamation Ġprocure Ġprodig Ġprodigal Ġprodigy Ġproduce Ġprof Ġprofan Ġprofane Ġprofess Ġprofession Ġproffer Ġprofit Ġprofits Ġprofound Ġprog Ġprom Ġpromise Ġpromised Ġprompt Ġpronounce Ġpronounced Ġproof Ġproofs Ġprop Ġproper Ġprophe Ġprophecies Ġprophecy Ġprophes Ġprophesy Ġprophet Ġproport Ġproportion Ġprosper Ġprosperity Ġprosperous Ġprot Ġprotect Ġprotector Ġprotest Ġproud Ġproudest Ġprov Ġprove Ġproved Ġprover Ġprovide Ġprovided Ġprovo Ġprovoked Ġprovost Ġprunes Ġpry Ġpu Ġpubl Ġpublic Ġpublicly Ġpuff Ġpuiss Ġpuissant Ġpul Ġpull Ġpun Ġpunish Ġpunishment Ġpup Ġpupil Ġpuppet Ġpur Ġpurcha Ġpurchase Ġpure Ġpurge Ġpurged Ġpurple Ġpurpose Ġpurposes Ġpurse Ġpurses Ġpursu Ġpursue Ġpursued Ġpursues Ġpursuit Ġpush Ġput Ġputs Ġputting Ġqu Ġquaint Ġquake Ġqual Ġqualify Ġqualities Ġquality Ġquar Ġquarre Ġquarrel Ġquarter Ġqueen Ġqueens Ġquench Ġquest Ġquestion Ġquick Ġquicken Ġquickly Ġquiet Ġquit Ġquite Ġquoth Ġr Ġra Ġrabble Ġrace Ġrack Ġrage Ġrages Ġragged Ġraging Ġrail Ġraiment Ġrain Ġraise Ġraised Ġran Ġranc Ġrancour Ġrank Ġrans Ġransom Ġrap Ġrapier Ġrare Ġrarest Ġras Ġrascal Ġrascals Ġrash Ġrate Ġrates Ġrather Ġrats Ġraven Ġraw Ġraze Ġre Ġreach Ġread Ġreadiness Ġready Ġrealm Ġreap Ġrear Ġreason Ġreasonable Ġreasons Ġreb Ġrebel Ġrebellion Ġrebels Ġrebuke Ġrec Ġrece Ġreceipt Ġreceive Ġreceived Ġreceives Ġreck Ġreckless Ġreckon Ġreckoning Ġrecom Ġrecompense Ġreconci Ġreconcile Ġreconciled Ġrecord Ġrecount Ġrecover Ġrecreant Ġred Ġredeem Ġredempt Ġredemption Ġredress Ġref Ġrefuge Ġrefuse Ġreg Ġregal Ġregard Ġregiment Ġregion Ġregreet Ġreign Ġreigns Ġrein Ġrej Ġrejo Ġrejoice Ġrel Ġrelation Ġrelease Ġrelieve Ġrelig Ġrelish Ġrem Ġremain Ġremains Ġremed Ġremedies Ġremedy Ġremem Ġrememb Ġremember Ġremembrance Ġremiss Ġremorse Ġremote Ġremove Ġremoved Ġrend Ġrender Ġrenown Ġrenowned Ġrent Ġrep Ġrepaid Ġrepair Ġrepe Ġrepeal Ġrepent Ġrepetition Ġreplied Ġreply Ġreport Ġreported Ġrepose Ġrepossess Ġreprieve Ġreproof Ġreputation Ġrequ Ġrequest Ġrequire Ġrequired Ġrequires Ġrequital Ġrequite Ġres Ġrescue Ġresem Ġresemblance Ġreserved Ġresidence Ġresign Ġresist Ġresisted Ġresol Ġresolute Ġresolution Ġresolve Ġresolved Ġresort Ġrespect Ġrespected Ġrespects Ġrest Ġresteth Ġrestore Ġrestored Ġrestra Ġrestrain Ġrestraint Ġrests Ġret Ġretire Ġretired Ġreturn Ġreturned Ġreturns Ġrevel Ġrevell Ġreven Ġrevenge Ġrevenged Ġrevengeful Ġrevenges Ġrevenue Ġrevere Ġreverence Ġreverend Ġrevers Ġrevive Ġrevol Ġrevolt Ġreward Ġrewards Ġrhe Ġrheum Ġri Ġrich Ġriches Ġrid Ġridd Ġride Ġrig Ġright Ġrightly Ġrights Ġrigour Ġring Ġrings Ġrip Ġripe Ġripen Ġrise Ġrising Ġrites Ġrivers Ġro Ġroad Ġroar Ġroaring Ġrob Ġrobb Ġrobbers Ġrobes Ġrock Ġrocks Ġrod Ġrode Ġrogue Ġrogues Ġrood Ġroof Ġroom Ġroot Ġrope Ġrose Ġroses Ġrot Ġrotten Ġrough Ġround Ġroundly Ġrouse Ġroyal Ġroyally Ġroyalties Ġroyalty Ġru Ġrub Ġrude Ġrue Ġruin Ġrule Ġruled Ġrum Ġrumour Ġrun Ġruns Ġrush Ġrushes Ġrust Ġruth Ġruthless Ġs Ġsa Ġsac Ġsack Ġsacrament Ġsacred Ġsacrif Ġsacrifice Ġsad Ġsadly Ġsadness Ġsaf Ġsafe Ġsafeguard Ġsafely Ġsafer Ġsafety Ġsaid Ġsail Ġsailors Ġsails Ġsaint Ġsaints Ġsake Ġsal Ġsalt Ġsalute Ġsame Ġsan Ġsanct Ġsanctuary Ġsand Ġsands Ġsap Ġsat Ġsatisf Ġsatisfaction Ġsatisfied Ġsatisfy Ġsau Ġsaucy Ġsav Ġsavage Ġsave Ġsaved Ġsaw Ġsay Ġsayest Ġsaying Ġsays Ġsc Ġscandal Ġscape Ġscar Ġscarce Ġscarcely Ġscare Ġscarlet Ġscars Ġscatter Ġscene Ġscept Ġsceptre Ġsch Ġscholar Ġschool Ġschoolmaster Ġscold Ġscolding Ġscope Ġscore Ġscorn Ġscorns Ġscour Ġscourge Ġscouts Ġscra Ġscratch Ġscru Ġse Ġsea Ġseal Ġsear Ġsearch Ġseas Ġseason Ġseat Ġseated Ġsec Ġsecond Ġsecret Ġsecrets Ġsecure Ġsed Ġsee Ġseeing Ġseek Ġseeking Ġseeks Ġseem Ġseemeth Ġseeming Ġseems Ġseen Ġsees Ġseest Ġseiz Ġseize Ġseized Ġseldom Ġself Ġselfsame Ġsell Ġsem Ġsen Ġsenate Ġsenators Ġsend Ġsending Ġsends Ġsenis Ġsens Ġsense Ġsenseless Ġsenses Ġsensible Ġsent Ġsentence Ġsentenced Ġsepar Ġseparated Ġsepul Ġsepulch Ġsepulchre Ġsequ Ġser Ġserious Ġserp Ġserpent Ġserv Ġservant Ġservants Ġserve Ġserved Ġserves Ġservice Ġservices Ġsess Ġsession Ġset Ġsets Ġsettled Ġseven Ġsevent Ġsever Ġseveral Ġsevere Ġseverity Ġsex Ġsh Ġsha Ġshad Ġshade Ġshadow Ġshadows Ġshake Ġshall Ġshallow Ġshalt Ġsham Ġshame Ġshamed Ġshameless Ġshape Ġshapes Ġshar Ġshare Ġsharp Ġshe Ġshed Ġsheep Ġsheets Ġshel Ġshelter Ġshepher Ġshepherd Ġshepherds Ġshi Ġshield Ġshine Ġshines Ġship Ġships Ġsho Ġshock Ġshoes Ġshook Ġshop Ġshore Ġshores Ġshort Ġshorten Ġshortly Ġshot Ġshould Ġshoulder Ġshoulders Ġshouldst Ġshout Ġshouts Ġshow Ġshower Ġshowers Ġshown Ġshows Ġshr Ġshrew Ġshrewd Ġshri Ġshriek Ġshrift Ġshrink Ġshroud Ġshru Ġshun Ġshunn Ġshut Ġsick Ġsickly Ġsickness Ġside Ġsides Ġsiege Ġsigh Ġsighs Ġsight Ġsights Ġsign Ġsignal Ġsignify Ġsignories Ġsigns Ġsil Ġsilence Ġsilent Ġsilk Ġsilken Ġsilly Ġsilver Ġsim Ġsimple Ġsin Ġsince Ġsine Ġsinew Ġsing Ġsingle Ġsings Ġsingular Ġsink Ġsins Ġsir Ġsire Ġsirrah Ġsirs Ġsister Ġsisterhood Ġsit Ġsith Ġsits Ġsitting Ġsix Ġsixt Ġsixteen Ġsk Ġskill Ġskin Ġskulls Ġsky Ġsl Ġslack Ġslain Ġslander Ġslanderous Ġslanders Ġslaughter Ġslave Ġslaves Ġslay Ġsle Ġsleep Ġsleeping Ġsleeps Ġsleepy Ġslender Ġslept Ġslew Ġslide Ġslight Ġslily Ġslip Ġslipp Ġslow Ġsly Ġsm Ġsmall Ġsmallest Ġsmell Ġsmelt Ġsmil Ġsmile Ġsmiled Ġsmiles Ġsmiling Ġsmo Ġsmoking Ġsmooth Ġsmother Ġsn Ġsnow Ġso Ġsoar Ġsober Ġsoci Ġsociety Ġsoft Ġsoften Ġsoil Ġsolace Ġsold Ġsoldier Ġsoldiers Ġsole Ġsolely Ġsolemn Ġsolemnity Ġsolic Ġsolicit Ġsome Ġsomebod Ġsomebody Ġsomet Ġsomething Ġsometime Ġsometimes Ġsomewhat Ġson Ġsong Ġsongs Ġsons Ġsoon Ġsooner Ġsoonest Ġsooth Ġsore Ġsorrow Ġsorrows Ġsorry Ġsort Ġsought Ġsoul Ġsouls Ġsound Ġsounded Ġsoundly Ġsounds Ġsour Ġsouth Ġsovere Ġsovereign Ġsovereignty Ġsow Ġsp Ġspace Ġspake Ġspar Ġspare Ġspark Ġsparkling Ġspe Ġspeak Ġspeaking Ġspeaks Ġspear Ġspeci Ġspecial Ġspect Ġspectacle Ġsped Ġspeech Ġspeeches Ġspeechless Ġspeed Ġspeedily Ġspeedy Ġspell Ġspend Ġspent Ġspices Ġspider Ġspiders Ġspilt Ġspir Ġspirit Ġspirits Ġspit Ġspite Ġspl Ġsple Ġspleen Ġsplit Ġspo Ġspoil Ġspoils Ġspoke Ġspoken Ġsport Ġspot Ġspotted Ġspr Ġspread Ġspring Ġsprings Ġsprites Ġspur Ġspurn Ġspurs Ġspy Ġsqu Ġst Ġstab Ġstabb Ġstabbed Ġstaff Ġstag Ġstage Ġstain Ġstale Ġstall Ġstamp Ġstand Ġstanding Ġstands Ġstar Ġstark Ġstars Ġstart Ġstarts Ġstarve Ġstat Ġstate Ġstatue Ġstatutes Ġstay Ġstays Ġste Ġstead Ġsteal Ġsteed Ġsteeds Ġsteel Ġsteep Ġstem Ġstep Ġsteps Ġstern Ġsteter Ġsteterat Ġstew Ġsteward Ġstick Ġstiff Ġstill Ġsting Ġstink Ġstinking Ġstint Ġstir Ġstirring Ġstirru Ġstirs Ġsto Ġstock Ġstocks Ġstol Ġstole Ġstolen Ġstomach Ġstone Ġstones Ġstood Ġstoop Ġstooping Ġstop Ġstopp Ġstops Ġstor Ġstore Ġstorm Ġstorms Ġstory Ġstout Ġstra Ġstraight Ġstrain Ġstrait Ġstran Ġstrang Ġstrange Ġstrangely Ġstranger Ġstrat Ġstratagems Ġstraw Ġstray Ġstre Ġstreak Ġstream Ġstreet Ġstreets Ġstreng Ġstrength Ġstrengthen Ġstret Ġstretch Ġstrew Ġstri Ġstrict Ġstride Ġstrife Ġstrike Ġstring Ġstripes Ġstrive Ġstro Ġstroke Ġstrokes Ġstrong Ġstronger Ġstrongly Ġstru Ġstruck Ġstrumpet Ġstu Ġstubborn Ġstud Ġstudied Ġstudies Ġstudy Ġstuff Ġstumble Ġstumbled Ġsty Ġsu Ġsub Ġsubd Ġsubdue Ġsubdued Ġsubject Ġsubjects Ġsubmission Ġsuborn Ġsubsc Ġsubscribe Ġsubst Ġsubstance Ġsubstit Ġsubstitute Ġsubtle Ġsuburbs Ġsucc Ġsucceed Ġsuccess Ġsuccession Ġsuccor Ġsuch Ġsuck Ġsudden Ġsuddenly Ġsue Ġsued Ġsues Ġsuff Ġsuffer Ġsufferance Ġsuffering Ġsuffic Ġsuffice Ġsufficient Ġsugar Ġsugg Ġsuit Ġsuitor Ġsuitors Ġsuits Ġsull Ġsullen Ġsulp Ġsulphur Ġsum Ġsumm Ġsummer Ġsummers Ġsummon Ġsun Ġsunder Ġsung Ġsuns Ġsunshine Ġsup Ġsuper Ġsuperfl Ġsupp Ġsupper Ġsupple Ġsuppli Ġsuppliant Ġsupply Ġsupport Ġsuppose Ġsupposed Ġsupreme Ġsur Ġsure Ġsurely Ġsuret Ġsurfeit Ġsurly Ġsurm Ġsurn Ġsurname Ġsurp Ġsurpr Ġsurprised Ġsurvey Ġsus Ġsuspect Ġsuspicion Ġsw Ġswain Ġswallow Ġsway Ġswear Ġswearing Ġswears Ġsweat Ġsweet Ġsweeter Ġsweetest Ġsweetly Ġsweets Ġswell Ġswelling Ġswift Ġswifter Ġswiftly Ġswim Ġswine Ġswoon Ġsword Ġswords Ġswore Ġsworn Ġsy Ġsyll Ġsymp Ġt Ġta Ġtable Ġtack Ġtail Ġtailor Ġtainted Ġtake Ġtaken Ġtakes Ġtakest Ġtaking Ġtale Ġtales Ġtalk Ġtalked Ġtalking Ġtall Ġtame Ġtamed Ġtap Ġtapster Ġtard Ġtardy Ġtarry Ġtask Ġtaste Ġtatter Ġtaught Ġtaunt Ġtaunts Ġtax Ġtea Ġteach Ġtear Ġtears Ġtedious Ġteeming Ġteeth Ġtell Ġtelling Ġtells Ġtellus Ġtem Ġtemp Ġtemper Ġtemperate Ġtempest Ġtemple Ġtemples Ġtempor Ġtempt Ġtempted Ġten Ġtend Ġtender Ġtenderly Ġtenderness Ġtending Ġtent Ġtents Ġter Ġterm Ġterms Ġterr Ġterrible Ġterritories Ġterror Ġtest Ġtestim Ġtestimony Ġth Ġthan Ġthank Ġthankful Ġthanks Ġthat Ġthe Ġthee Ġtheir Ġtheirs Ġthem Ġtheme Ġthemselves Ġthen Ġthence Ġthere Ġthereby Ġtherefore Ġtherein Ġthereof Ġthereto Ġthese Ġthey Ġthick Ġthie Ġthief Ġthieves Ġthin Ġthine Ġthing Ġthings Ġthink Ġthinking Ġthinks Ġthir Ġthird Ġthirst Ġthirsty Ġthirty Ġthis Ġthither Ġthorn Ġthorns Ġthorny Ġthose Ġthou Ġthough Ġthought Ġthoughts Ġthousand Ġthousands Ġthr Ġthra Ġthread Ġthreat Ġthreaten Ġthreatening Ġthreats Ġthree Ġthreef Ġthreefold Ġthrees Ġthres Ġthrew Ġthri Ġthrice Ġthrive Ġthro Ġthroat Ġthroats Ġthrone Ġthrong Ġthrough Ġthroughly Ġthrow Ġthrown Ġthrust Ġthumb Ġthunder Ġthus Ġthw Ġthy Ġthyself Ġtide Ġtides Ġtidings Ġtie Ġtied Ġtig Ġtiger Ġtil Ġtill Ġtim Ġtime Ġtimeless Ġtimes Ġtimorous Ġtink Ġtinker Ġtire Ġtired Ġtit Ġtitle Ġtitles Ġto Ġtoad Ġtoads Ġtoe Ġtogether Ġtoil Ġtoken Ġtold Ġtomb Ġtomorrow Ġton Ġtong Ġtongue Ġtongueless Ġtongues Ġtonight Ġtoo Ġtook Ġtooth Ġtop Ġtops Ġtor Ġtorch Ġtorches Ġtorment Ġtorments Ġtorn Ġtort Ġtorture Ġtoss Ġtou Ġtouch Ġtoucheth Ġtoward Ġtowards Ġtower Ġtown Ġtowns Ġtoy Ġtoys Ġtr Ġtra Ġtrade Ġtrades Ġtraffic Ġtraged Ġtragic Ġtrain Ġtraitor Ġtraitors Ġtrans Ġtransg Ġtransport Ġtransported Ġtravell Ġtre Ġtreacher Ġtreacherous Ġtreachery Ġtread Ġtreason Ġtreasons Ġtreasure Ġtreat Ġtreaty Ġtreble Ġtree Ġtrees Ġtrem Ġtremble Ġtrembles Ġtrembling Ġtren Ġtrenches Ġtres Ġtrespass Ġtri Ġtrial Ġtrib Ġtribune Ġtribunes Ġtribute Ġtrick Ġtricks Ġtried Ġtrif Ġtrifles Ġtrim Ġtriump Ġtriumph Ġtriumphant Ġtriumphs Ġtro Ġtrod Ġtroop Ġtroops Ġtroth Ġtrou Ġtroubl Ġtrouble Ġtroubled Ġtroublous Ġtrow Ġtru Ġtrudge Ġtrue Ġtruer Ġtruly Ġtrump Ġtrumpet Ġtrumpets Ġtrunk Ġtrust Ġtrusty Ġtruth Ġtry Ġtum Ġtumble Ġtumbling Ġtumult Ġtune Ġtunes Ġtur Ġturn Ġturned Ġturning Ġturns Ġturtle Ġtut Ġtutor Ġtw Ġtwain Ġtwelve Ġtwenty Ġtwice Ġtwo Ġty Ġtyran Ġtyrann Ġtyrannous Ġtyranny Ġtyrant Ġu Ġug Ġugly Ġun Ġunacc Ġunaccustom Ġunavoided Ġunaw Ġunawares Ġunb Ġunborn Ġunc Ġuncertain Ġuncle Ġuncles Ġund Ġunder Ġundergo Ġunderne Ġunderneath Ġunderstand Ġunderstanding Ġundert Ġundertake Ġundo Ġundone Ġune Ġuneven Ġunf Ġunfe Ġunfeigned Ġunfit Ġunfold Ġung Ġungentle Ġungra Ġunhappy Ġunity Ġunivers Ġunjust Ġunjustly Ġunk Ġunkind Ġunkindness Ġunknown Ġunl Ġunlawful Ġunless Ġunlike Ġunlo Ġunlook Ġunluck Ġunluckily Ġunm Ġunman Ġunnat Ġunnatural Ġunp Ġunple Ġunpleasing Ġunpro Ġunprovided Ġunre Ġunrest Ġunrevere Ġunruly Ġuns Ġunse Ġunseen Ġunst Ġunt Ġunthrift Ġuntil Ġuntimely Ġunto Ġunusual Ġunw Ġunwill Ġunwilling Ġunworthy Ġup Ġupon Ġupper Ġupright Ġur Ġurge Ġurged Ġurging Ġus Ġusage Ġuse Ġused Ġusing Ġusure Ġusurer Ġusurp Ġusurping Ġut Ġutmost Ġutter Ġutterance Ġv Ġvain Ġval Ġvaliant Ġvalour Ġvalue Ġvan Ġvanish Ġvanity Ġvanqu Ġvantage Ġvap Ġvar Ġvarlet Ġvass Ġvassal Ġvast Ġvault Ġve Ġvehe Ġveil Ġveins Ġvel Ġvelvet Ġven Ġvenge Ġvengeance Ġvenom Ġvent Ġventure Ġver Ġverge Ġverity Ġvery Ġvessel Ġvest Ġvex Ġvexation Ġvi Ġvial Ġvice Ġvices Ġvict Ġvictorious Ġvictory Ġvie Ġview Ġvig Ġvigour Ġvile Ġvill Ġvillain Ġvillains Ġvillany Ġvine Ġvineyard Ġvio Ġviol Ġviolate Ġviolence Ġviolent Ġviolet Ġvirg Ġvirgin Ġvirt Ġvirtue Ġvirtues Ġvirtuous Ġvis Ġvisage Ġvisit Ġvisitation Ġvisiting Ġvisor Ġvo Ġvoice Ġvoices Ġvol Ġvolume Ġvouch Ġvow Ġvows Ġvul Ġvulgar Ġw Ġwa Ġwag Ġwager Ġwagon Ġwail Ġwait Ġwaits Ġwake Ġwaked Ġwaken Ġwakes Ġwaking Ġwalk Ġwalks Ġwall Ġwalls Ġwander Ġwandering Ġwaning Ġwant Ġwanting Ġwanton Ġwants Ġwar Ġward Ġware Ġwarlike Ġwarm Ġwarn Ġwarning Ġwarrant Ġwarrants Ġwarri Ġwarriors Ġwars Ġwary Ġwas Ġwash Ġwasp Ġwast Ġwaste Ġwasted Ġwat Ġwatch Ġwatchful Ġwater Ġwaters Ġwatery Ġwave Ġwaves Ġwax Ġway Ġways Ġwayward Ġwe Ġweak Ġweakness Ġweal Ġwealth Ġwealthy Ġweap Ġweapon Ġweapons Ġwear Ġwearing Ġwears Ġweary Ġweather Ġweb Ġwed Ġwedded Ġwedding Ġweed Ġweeds Ġweek Ġweep Ġweeping Ġweeps Ġweigh Ġweight Ġweighty Ġwel Ġwelcom Ġwelcome Ġwelcomes Ġwelkin Ġwell Ġwench Ġwenches Ġwent Ġwept Ġwere Ġwert Ġwest Ġwester Ġwestern Ġwet Ġwh Ġwhat Ġwhate Ġwhatsoever Ġwhe Ġwheel Ġwheels Ġwhen Ġwhence Ġwhere Ġwherefore Ġwherein Ġwhereof Ġwhereon Ġwheres Ġwhet Ġwhether Ġwhi Ġwhich Ġwhile Ġwhiles Ġwhilst Ġwhip Ġwhipped Ġwhipt Ġwhisper Ġwhispering Ġwhist Ġwhistle Ġwhit Ġwhite Ġwhither Ġwho Ġwhole Ġwholesome Ġwhom Ġwhore Ġwhoreson Ġwhose Ġwhy Ġwicked Ġwid Ġwide Ġwidow Ġwidows Ġwife Ġwild Ġwildly Ġwilful Ġwill Ġwilling Ġwillingly Ġwills Ġwilt Ġwin Ġwind Ġwinding Ġwindow Ġwindows Ġwinds Ġwine Ġwing Ġwinged Ġwings Ġwink Ġwinter Ġwinters Ġwipe Ġwis Ġwisdom Ġwise Ġwisely Ġwisest Ġwish Ġwishes Ġwishing Ġwit Ġwitch Ġwitchcraft Ġwith Ġwithal Ġwithdraw Ġwither Ġwithin Ġwithout Ġwitness Ġwitnesses Ġwits Ġwives Ġwo Ġwoe Ġwoeful Ġwoes Ġwoful Ġwol Ġwolf Ġwolves Ġwom Ġwoman Ġwomanish Ġwomb Ġwomen Ġwon Ġwond Ġwonder Ġwonderful Ġwondering Ġwonders Ġwondrous Ġwont Ġwoo Ġwood Ġwooers Ġwooing Ġwor Ġword Ġwords Ġwore Ġwork Ġworld Ġworldly Ġworm Ġworms Ġworn Ġworse Ġworser Ġworshi Ġworship Ġworshipful Ġworships Ġworst Ġworth Ġworthi Ġworthier Ġworthiest Ġworthily Ġworthy Ġwot Ġwould Ġwouldst Ġwound Ġwounded Ġwounds Ġwr Ġwra Ġwrangling Ġwrath Ġwre Ġwreck Ġwret Ġwretch Ġwretched Ġwretchedness Ġwring Ġwrink Ġwrinkled Ġwrit Ġwrite Ġwriting Ġwritten Ġwrong Ġwronged Ġwrongfully Ġwrongs Ġwrought Ġy Ġyare Ġye Ġyea Ġyear Ġyears Ġyellow Ġyes Ġyester Ġyesternight Ġyet Ġyew Ġyield Ġyielded Ġyielding Ġyields Ġyoke Ġyon Ġyond Ġyonder Ġyou Ġyoung Ġyounger Ġyoungest Ġyour Ġyours Ġyourself Ġyourselves Ġyouth Ġyouthful Ġz Ġzeal ĠĠ ġ Ģ ģ Ĥ ĥ Ħ ħ Ĩ ĩ Ī ī Ĭ ĭ Į į İ ı Ĳ ĳ Ĵ ĵ Ķ ķ ĸ Ĺ ĺ Ļ ļ Ľ ľ Ŀ ŀ Ł ł Ń\n"
     ]
    }
   ],
   "source": [
    "print('Number of unique tokens in the dataset =', vocab_size)\n",
    "print('\\nWhich are following : \\n', ' '.join(sorted(vocab.keys())))"
   ]
  },
  {
   "cell_type": "code",
   "execution_count": null,
   "id": "b41a0f52",
   "metadata": {},
   "outputs": [],
   "source": []
  },
  {
   "cell_type": "code",
   "execution_count": 8,
   "id": "d81530dc",
   "metadata": {},
   "outputs": [],
   "source": [
    "# Encode the text\n",
    "encoded_text = tokenizer.encode(text).ids"
   ]
  },
  {
   "cell_type": "code",
   "execution_count": 9,
   "id": "14652ac7",
   "metadata": {},
   "outputs": [
    {
     "data": {
      "text/plain": [
       "312505"
      ]
     },
     "execution_count": 9,
     "metadata": {},
     "output_type": "execute_result"
    }
   ],
   "source": [
    "len(encoded_text)"
   ]
  },
  {
   "cell_type": "markdown",
   "id": "845076af",
   "metadata": {},
   "source": [
    "## 2.2 Train / Val Dataset Split "
   ]
  },
  {
   "cell_type": "code",
   "execution_count": 11,
   "id": "b6743fba",
   "metadata": {},
   "outputs": [],
   "source": [
    "# Train and test splits\n",
    "# data = tf.constant(encode(text), dtype=tf.int64)\n",
    "data = tf.constant(encoded_text, dtype=tf.int64)\n",
    "\n",
    "n = int(0.9 * len(data))  # First 90% will be train, rest will be for validation\n",
    "\n",
    "train_data = data[:n]\n",
    "val_data = data[n:]"
   ]
  },
  {
   "cell_type": "code",
   "execution_count": 15,
   "id": "6bdab74f",
   "metadata": {
    "scrolled": false
   },
   "outputs": [
    {
     "name": "stdout",
     "output_type": "stream",
     "text": [
      "A sample of train data : \n",
      "\n",
      " [ 675 1200   29  202 2346  335 2751  806 2306   15  678  321  620   17\n",
      "  202  202 1235   29  202 2542   15  620   17  202  202  675 1200   29\n",
      "  202  569  422  399 4196 1502  291  968  531  291 7922   34  202  202\n",
      " 1235   29  202 3666 5591   17 4196   17]\n",
      "\n",
      "\n",
      "A sample of train data decoded : \n",
      "\n",
      " First Citizen:\n",
      "Before we proceed any further, hear me speak.\n",
      "\n",
      "All:\n",
      "Speak, speak.\n",
      "\n",
      "First Citizen:\n",
      "You are all resolved rather to die than to famish?\n",
      "\n",
      "All:\n",
      "Resolved. resolved.\n"
     ]
    }
   ],
   "source": [
    "print('A sample of train data : \\n\\n', train_data[:50].numpy())\n",
    "print('\\n\\nA sample of train data decoded : \\n\\n', ''.join(tokenizer.decode((train_data[:50].numpy()))))"
   ]
  },
  {
   "cell_type": "markdown",
   "id": "3a799e65",
   "metadata": {},
   "source": [
    "# 3 Model Utilities"
   ]
  },
  {
   "cell_type": "code",
   "execution_count": 16,
   "id": "c5e9d749",
   "metadata": {},
   "outputs": [],
   "source": [
    "# Hyperparameters\n",
    "batch_size = 16\n",
    "block_size = 32\n",
    "max_iters = 5000\n",
    "eval_interval = 100\n",
    "learning_rate = 1e-3\n",
    "eval_iters = 200\n",
    "n_embd = 64\n",
    "n_head = 4\n",
    "n_layer = 4\n",
    "dropout = 0.0"
   ]
  },
  {
   "cell_type": "code",
   "execution_count": 17,
   "id": "19d55788",
   "metadata": {},
   "outputs": [],
   "source": [
    "# data loading\n",
    "\n",
    "def get_batch(split):\n",
    "    # generate a small batch of data of inputs x and targets y\n",
    "    data = train_data if split == 'train' else val_data\n",
    "    ix = tf.random.uniform((batch_size,), maxval=len(data) - block_size, dtype=tf.int64)\n",
    "    x = tf.gather(data, ix[:, tf.newaxis] + tf.range(block_size, dtype=tf.int64))\n",
    "    y = tf.gather(data, ix[:, tf.newaxis] + tf.range(1, block_size + 1, dtype=tf.int64))\n",
    "    return x, y\n",
    "\n",
    "# Loss estimator during training\n",
    "\n",
    "@tf.function\n",
    "def estimate_loss():\n",
    "    out = {}\n",
    "    model.trainable = False\n",
    "    for split in ['train', 'val']:\n",
    "        losses = tf.TensorArray(tf.float32, size=eval_iters)\n",
    "        for k in tf.range(eval_iters):\n",
    "            X, Y = get_batch(split)\n",
    "            logits, loss = model(X, Y)\n",
    "            losses = losses.write(k, loss)\n",
    "        out[split] = tf.reduce_mean(losses.stack())\n",
    "    model.trainable = True\n",
    "    return out"
   ]
  },
  {
   "cell_type": "code",
   "execution_count": 18,
   "id": "fe1f5f86",
   "metadata": {},
   "outputs": [],
   "source": [
    "class Head(layers.Layer):\n",
    "    \"\"\" One head of self-attention \"\"\"\n",
    "\n",
    "    def __init__(self, head_size):\n",
    "        super(Head, self).__init__()\n",
    "        self.key = layers.Dense(head_size, use_bias=False)\n",
    "        self.query = layers.Dense(head_size, use_bias=False)\n",
    "        self.value = layers.Dense(head_size, use_bias=False)\n",
    "        self.tril = tf.linalg.band_part(tf.ones((block_size, block_size)), -1, 0)\n",
    "        self.dropout = layers.Dropout(dropout)\n",
    "\n",
    "    def call(self, x):\n",
    "        B, T, C = x.shape\n",
    "        k = self.key(x)\n",
    "        q = self.query(x)\n",
    "        wei = tf.matmul(q, tf.transpose(k, perm=[0, 2, 1])) * C ** -0.5\n",
    "        wei = tf.where(self.tril == 0, float('-inf'), wei)\n",
    "        wei = tf.nn.softmax(wei, axis=-1)\n",
    "        wei = self.dropout(wei)\n",
    "        v = self.value(x)\n",
    "        out = tf.matmul(wei, v)\n",
    "        return out\n",
    "\n",
    "class MultiHeadAttention(layers.Layer):\n",
    "    \"\"\" Multiple heads of self-attention in parallel \"\"\"\n",
    "\n",
    "    def __init__(self, num_heads, head_size):\n",
    "        super(MultiHeadAttention, self).__init__()\n",
    "        self.heads = [Head(head_size) for _ in range(num_heads)]\n",
    "        self.proj = layers.Dense(n_embd)\n",
    "        self.dropout = layers.Dropout(dropout)\n",
    "\n",
    "    def call(self, x):\n",
    "        out = tf.concat([h(x) for h in self.heads], axis=-1)\n",
    "        out = self.dropout(self.proj(out))\n",
    "        return out\n",
    "\n",
    "class FeedForward(layers.Layer):\n",
    "    \"\"\" A simple linear layer followed by a non-linearity \"\"\"\n",
    "\n",
    "    def __init__(self, n_embd):\n",
    "        super(FeedForward, self).__init__()\n",
    "        self.net = tf.keras.Sequential([\n",
    "            layers.Dense(4 * n_embd),\n",
    "            layers.ReLU(),\n",
    "            layers.Dense(n_embd),\n",
    "            layers.Dropout(dropout),\n",
    "        ])\n",
    "\n",
    "    def call(self, x):\n",
    "        return self.net(x)\n",
    "\n",
    "class Block(layers.Layer):\n",
    "    \"\"\" Transformer block: communication followed by computation \"\"\"\n",
    "\n",
    "    def __init__(self, n_embd, n_head):\n",
    "        super(Block, self).__init__()\n",
    "        head_size = n_embd // n_head\n",
    "        self.sa = MultiHeadAttention(n_head, head_size)\n",
    "        self.ffwd = FeedForward(n_embd)\n",
    "        self.ln1 = layers.LayerNormalization()\n",
    "        self.ln2 = layers.LayerNormalization()\n",
    "\n",
    "    def call(self, x):\n",
    "        x = x + self.sa(self.ln1(x))\n",
    "        x = x + self.ffwd(self.ln2(x))\n",
    "        return x\n"
   ]
  },
  {
   "cell_type": "markdown",
   "id": "3953c660",
   "metadata": {},
   "source": [
    "# 4 Model Implementation"
   ]
  },
  {
   "cell_type": "code",
   "execution_count": 19,
   "id": "1bd7befc",
   "metadata": {},
   "outputs": [],
   "source": [
    "#Simple Bigram Model\n",
    "class BigramLanguageModel(tf.keras.Model):\n",
    "\n",
    "    def __init__(self):\n",
    "        super(BigramLanguageModel, self).__init__()\n",
    "        self.token_embedding_table = layers.Embedding(vocab_size, n_embd)\n",
    "        self.position_embedding_table = layers.Embedding(block_size, n_embd)\n",
    "        self.blocks = tf.keras.Sequential([Block(n_embd, n_head=n_head) for _ in range(n_layer)])\n",
    "        self.ln_f = layers.LayerNormalization()\n",
    "        self.lm_head = layers.Dense(vocab_size)\n",
    "\n",
    "    def call(self, idx, targets=None):\n",
    "        B, T = idx.shape\n",
    "\n",
    "        tok_emb = self.token_embedding_table(idx)\n",
    "        pos_emb = self.position_embedding_table(tf.range(T, dtype=tf.int64))\n",
    "        x = tok_emb + pos_emb\n",
    "        x = self.blocks(x)\n",
    "        x = self.ln_f(x)\n",
    "        logits = self.lm_head(x)\n",
    "\n",
    "        if targets is None:\n",
    "            loss = None\n",
    "        else:\n",
    "            B, T, C = logits.shape\n",
    "            logits = tf.reshape(logits, (B * T, C))\n",
    "            targets = tf.reshape(targets, (B * T,))\n",
    "            loss = tf.reduce_mean(tf.nn.sparse_softmax_cross_entropy_with_logits(logits=logits, labels=targets))\n",
    "\n",
    "        return logits, loss\n",
    "\n",
    "    def generate(self, idx, max_new_tokens):\n",
    "        for _ in range(max_new_tokens):\n",
    "            \n",
    "            idx_cond = idx[:, -block_size:]\n",
    "            \n",
    "            logits, _ = self(idx_cond)\n",
    "            logits = logits[:, -1, :]\n",
    "            probs = tf.nn.softmax(logits, axis=-1)\n",
    "            idx_next = tf.random.categorical(tf.math.log(probs), num_samples=1, dtype=tf.int64)\n",
    "            idx = tf.concat([idx, idx_next], axis=1)\n",
    "        return idx"
   ]
  },
  {
   "cell_type": "markdown",
   "id": "2c27639b",
   "metadata": {},
   "source": [
    "# 5 Model Training"
   ]
  },
  {
   "cell_type": "markdown",
   "id": "c1f9faf0",
   "metadata": {},
   "source": [
    "## 5.1 Initialization "
   ]
  },
  {
   "cell_type": "code",
   "execution_count": 20,
   "id": "9893e129",
   "metadata": {},
   "outputs": [],
   "source": [
    "model = BigramLanguageModel()"
   ]
  },
  {
   "cell_type": "markdown",
   "id": "7d34f64b",
   "metadata": {},
   "source": [
    "## 5.2 Training Loop "
   ]
  },
  {
   "cell_type": "code",
   "execution_count": 21,
   "id": "a98542fe",
   "metadata": {
    "scrolled": false
   },
   "outputs": [
    {
     "name": "stdout",
     "output_type": "stream",
     "text": [
      "step 0: train loss 9.1671, val loss 9.1647\n",
      "step 100: train loss 6.2462, val loss 6.2700\n",
      "step 200: train loss 5.8310, val loss 5.8627\n",
      "step 300: train loss 5.5686, val loss 5.6292\n",
      "step 400: train loss 5.4157, val loss 5.4998\n",
      "step 500: train loss 5.2896, val loss 5.3997\n",
      "step 600: train loss 5.1451, val loss 5.3067\n",
      "step 700: train loss 5.0478, val loss 5.2347\n",
      "step 800: train loss 4.9518, val loss 5.1551\n",
      "step 900: train loss 4.8668, val loss 5.1349\n",
      "step 1000: train loss 4.8240, val loss 5.0422\n",
      "step 1100: train loss 4.7463, val loss 5.0526\n",
      "step 1200: train loss 4.6814, val loss 4.9798\n",
      "step 1300: train loss 4.6309, val loss 4.9833\n",
      "step 1400: train loss 4.5974, val loss 4.9628\n",
      "step 1500: train loss 4.5385, val loss 4.9650\n",
      "step 1600: train loss 4.5119, val loss 4.9722\n",
      "step 1700: train loss 4.5099, val loss 4.9801\n",
      "step 1800: train loss 4.4270, val loss 4.9048\n",
      "step 1900: train loss 4.4319, val loss 4.9432\n",
      "step 2000: train loss 4.3657, val loss 4.9071\n",
      "step 2100: train loss 4.3387, val loss 4.9682\n",
      "step 2200: train loss 4.3062, val loss 4.9361\n",
      "step 2300: train loss 4.2554, val loss 4.8989\n",
      "step 2400: train loss 4.2940, val loss 4.9214\n",
      "step 2500: train loss 4.2318, val loss 4.9110\n",
      "step 2600: train loss 4.1989, val loss 4.9615\n",
      "step 2700: train loss 4.1775, val loss 4.9234\n",
      "step 2800: train loss 4.1490, val loss 4.9505\n",
      "step 2900: train loss 4.1546, val loss 4.9436\n",
      "step 3000: train loss 4.0830, val loss 4.9299\n",
      "step 3100: train loss 4.0758, val loss 4.9706\n",
      "step 3200: train loss 4.0321, val loss 4.9680\n",
      "step 3300: train loss 4.0284, val loss 5.0076\n",
      "step 3400: train loss 3.9956, val loss 4.9932\n",
      "step 3500: train loss 3.9765, val loss 4.9834\n",
      "step 3600: train loss 3.9360, val loss 5.0280\n",
      "step 3700: train loss 3.9080, val loss 5.0403\n",
      "step 3800: train loss 3.8782, val loss 5.0249\n",
      "step 3900: train loss 3.8884, val loss 5.0668\n",
      "step 4000: train loss 3.8296, val loss 5.0577\n",
      "step 4100: train loss 3.8064, val loss 5.0826\n",
      "step 4200: train loss 3.7999, val loss 5.1090\n",
      "step 4300: train loss 3.7757, val loss 5.1215\n",
      "step 4400: train loss 3.7087, val loss 5.1351\n",
      "step 4500: train loss 3.7326, val loss 5.1511\n",
      "step 4600: train loss 3.7145, val loss 5.1051\n",
      "step 4700: train loss 3.6722, val loss 5.1641\n",
      "step 4800: train loss 3.6447, val loss 5.1816\n",
      "step 4900: train loss 3.5945, val loss 5.1834\n",
      "step 4999: train loss 3.5935, val loss 5.2360\n"
     ]
    }
   ],
   "source": [
    "\n",
    "optimizer = tf.keras.optimizers.Adam(learning_rate)\n",
    "\n",
    "for iter in range(max_iters):\n",
    "\n",
    "    # every once in a while evaluate the loss on train and val sets\n",
    "    if iter % eval_interval == 0 or iter == max_iters - 1:\n",
    "        losses = estimate_loss()\n",
    "        print(f\"step {iter}: train loss {losses['train']:.4f}, val loss {losses['val']:.4f}\")\n",
    "\n",
    "    # sample a batch of data\n",
    "    xb, yb = get_batch('train')\n",
    "\n",
    "    # evaluate the loss\n",
    "    with tf.GradientTape() as tape:\n",
    "        logits, loss = model(xb, yb)\n",
    "    gradients = tape.gradient(loss, model.trainable_variables)\n",
    "    optimizer.apply_gradients(zip(gradients, model.trainable_variables))\n",
    "\n"
   ]
  },
  {
   "cell_type": "markdown",
   "id": "c6a25201",
   "metadata": {},
   "source": [
    "## 5.3 Model Size "
   ]
  },
  {
   "cell_type": "code",
   "execution_count": 22,
   "id": "837c9597",
   "metadata": {},
   "outputs": [
    {
     "name": "stdout",
     "output_type": "stream",
     "text": [
      "Model: \"bigram_language_model\"\n",
      "_________________________________________________________________\n",
      " Layer (type)                Output Shape              Param #   \n",
      "=================================================================\n",
      " embedding (Embedding)       multiple                  626368    \n",
      "                                                                 \n",
      " embedding_1 (Embedding)     multiple                  2048      \n",
      "                                                                 \n",
      " sequential_4 (Sequential)   (16, 32, 64)              199168    \n",
      "                                                                 \n",
      " layer_normalization_8 (Laye  multiple                 128       \n",
      " rNormalization)                                                 \n",
      "                                                                 \n",
      " dense_60 (Dense)            multiple                  636155    \n",
      "                                                                 \n",
      "=================================================================\n",
      "Total params: 1,463,867\n",
      "Trainable params: 1,463,867\n",
      "Non-trainable params: 0\n",
      "_________________________________________________________________\n"
     ]
    }
   ],
   "source": [
    "# print the number of parameters in the model\n",
    "# print(sum(tf.reduce_prod(p.shape) for p in model.trainable_variables) / 1e6, 'M parameters')\n",
    "\n",
    "model.summary()"
   ]
  },
  {
   "cell_type": "markdown",
   "id": "dad2f667",
   "metadata": {},
   "source": [
    "# 6 Testing "
   ]
  },
  {
   "cell_type": "code",
   "execution_count": 23,
   "id": "a99b9a98",
   "metadata": {},
   "outputs": [
    {
     "name": "stdout",
     "output_type": "stream",
     "text": [
      "(1, 32)\n"
     ]
    }
   ],
   "source": [
    "# generate from the model\n",
    "context = tf.ones((1, 32), dtype=tf.int64)\n",
    "print(context.shape)\n"
   ]
  },
  {
   "cell_type": "code",
   "execution_count": 24,
   "id": "490cb7cd",
   "metadata": {},
   "outputs": [],
   "source": [
    "generated_indices = model.generate(context, max_new_tokens=500)[0].numpy()\n",
    "# print(decode(generated_indices.tolist()))\n"
   ]
  },
  {
   "cell_type": "code",
   "execution_count": 25,
   "id": "61096b95",
   "metadata": {},
   "outputs": [
    {
     "name": "stdout",
     "output_type": "stream",
     "text": [
      "\n",
      "wing this. See that it hath the duke? I think, wife and\n",
      "The punhis pile wars of age. Est;\n",
      "Hold us away, some good brawling side: but so Lewis\n",
      "My service but so much worse, a cuving gold in\n",
      "cottage me with the warden-cure.\n",
      "DrawSir, this knows our high blood--beition, our serious flesh\n",
      "Lies dishonour'd to know again by it.\n",
      "\n",
      "Fourth Citizen:\n",
      "Ay, an Poit rebel!\n",
      "Inartter, whom they convey away of life,\n",
      "And when the by the hideous air is new spoil,\n",
      "Which throng as every Jove was wandering flowion.\n",
      "\n",
      "NORTHUMBERLAND:\n",
      "How, Marcius, with thy heaven! his death's cold.\n",
      "\n",
      "LADY ANNE:\n",
      "This, wilt appear against their blood of Gloucester\n",
      "That you make it faired in brief souls,\n",
      "At thy having ope his prayers from farewell.\n",
      "Our heads I be ready by such a parties not flesh or\n",
      "A sea's lield forches, heappers within the pin\n",
      "And made opposit, score up my temper with Russia's heart,\n",
      "How an 'Thanks, you must haveednesday a man,\n",
      "For mercy of the utmost of one.\n",
      "\n",
      "AUTOLYCUS:\n",
      "It is a quartermn, but, patricians,\n",
      "For so not an er the world: yet either h week.\n",
      "\n",
      "Nurse:\n",
      "O, this brave Oxford, thou-oo! a lovely mother's back!\n",
      "Thy motion in a foulped clawath,\n",
      "Unto the middle of your discontent\n",
      "And softer and meetal modesty.\n",
      "A merrier looks deep a most poor cold,\n",
      "That calls for such a whining thing.\n",
      "\n",
      "First Citizen:\n",
      "If 'twas the white in faber's marations\n",
      "With something scorn noddish lalment of their\n",
      "sornching by the wanton summer bears my breast;\n",
      "O, sweet, Tybalt, wife.\n",
      "\n",
      "BIONDELLO:\n",
      "Now my lord! threat my wish! but this Tullus:\n",
      "I thank me my brother that means;\n",
      "They all woogle Virore their lives and finss in hand,\n",
      "Save their wives, and revenges from her arms;\n",
      "Which so to be a profits, another pardon,\n",
      "But to make the banish'd of this comforts.\n",
      "I'll do no man against him;\n"
     ]
    }
   ],
   "source": [
    "print(tokenizer.decode(generated_indices.tolist()))"
   ]
  },
  {
   "cell_type": "code",
   "execution_count": null,
   "id": "f00a4d39",
   "metadata": {},
   "outputs": [],
   "source": []
  }
 ],
 "metadata": {
  "kernelspec": {
   "display_name": "Python 3.8 (tensorflow-gpu)",
   "language": "python",
   "name": "tensorflow-gpu"
  },
  "language_info": {
   "codemirror_mode": {
    "name": "ipython",
    "version": 3
   },
   "file_extension": ".py",
   "mimetype": "text/x-python",
   "name": "python",
   "nbconvert_exporter": "python",
   "pygments_lexer": "ipython3",
   "version": "3.8.18"
  }
 },
 "nbformat": 4,
 "nbformat_minor": 5
}
