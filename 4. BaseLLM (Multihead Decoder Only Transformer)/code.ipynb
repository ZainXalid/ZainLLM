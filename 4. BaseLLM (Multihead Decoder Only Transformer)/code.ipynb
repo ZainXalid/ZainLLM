{
 "cells": [
  {
   "cell_type": "markdown",
   "id": "f333b5c7",
   "metadata": {},
   "source": [
    "# 1 Download & Read Dataset "
   ]
  },
  {
   "cell_type": "code",
   "execution_count": 114,
   "id": "a5e0b5fe",
   "metadata": {
    "scrolled": true
   },
   "outputs": [
    {
     "name": "stdout",
     "output_type": "stream",
     "text": [
      "Total number of characters in the dataset :  1115394\n",
      "\n",
      "\n",
      "First 100 characters :  First Citizen:\n",
      "Before we proceed any further, hear me speak.\n",
      "\n",
      "All:\n",
      "Speak, speak.\n",
      "\n",
      "First Citizen:\n",
      "You\n"
     ]
    }
   ],
   "source": [
    "# wget https://raw.githubusercontent.com/karpathy/char-rnn/master/data/tinyshakespeare/input.txt\n",
    "\n",
    "with open('../dataset.txt', 'r', encoding='utf-8') as f:\n",
    "    text = f.read()\n",
    "\n",
    "        \n",
    "print(\"Total number of characters in the dataset : \",len(text))\n",
    "\n",
    "print('\\n\\nFirst 100 characters : ', text[:100])"
   ]
  },
  {
   "cell_type": "markdown",
   "id": "c21d24dd",
   "metadata": {},
   "source": [
    "# ------------------------------------------- "
   ]
  },
  {
   "cell_type": "code",
   "execution_count": 115,
   "id": "d4470f42",
   "metadata": {},
   "outputs": [],
   "source": [
    "import tensorflow as tf\n",
    "from tensorflow.keras import layers"
   ]
  },
  {
   "cell_type": "markdown",
   "id": "409f67d6",
   "metadata": {},
   "source": [
    "### For reproducibility  "
   ]
  },
  {
   "cell_type": "code",
   "execution_count": 116,
   "id": "dbc6155f",
   "metadata": {},
   "outputs": [],
   "source": [
    "tf.random.set_seed(1337)"
   ]
  },
  {
   "cell_type": "markdown",
   "id": "737be06a",
   "metadata": {},
   "source": [
    "# --------------------------------------------"
   ]
  },
  {
   "cell_type": "markdown",
   "id": "4b1d5d22",
   "metadata": {},
   "source": [
    "# 2 Data Preprocessing "
   ]
  },
  {
   "cell_type": "markdown",
   "id": "1b51f607",
   "metadata": {},
   "source": [
    "## 2.1 Tokenization  (1st)"
   ]
  },
  {
   "cell_type": "code",
   "execution_count": 117,
   "id": "b42f437d",
   "metadata": {},
   "outputs": [
    {
     "name": "stdout",
     "output_type": "stream",
     "text": [
      "Vocabulary Size :  65\n",
      "\n",
      "Whole Vocabulary :-\n",
      "\n",
      " \n",
      " !$&',-.3:;?ABCDEFGHIJKLMNOPQRSTUVWXYZabcdefghijklmnopqrstuvwxyz\n"
     ]
    }
   ],
   "source": [
    "#all the unique characters that occur in this text\n",
    "chars = sorted(list(set(text)))\n",
    "vocab_size = len(chars)\n",
    "print('Vocabulary Size : ',vocab_size)\n",
    "\n",
    "print('\\nWhole Vocabulary :-\\n\\n',''.join(chars))"
   ]
  },
  {
   "cell_type": "code",
   "execution_count": 118,
   "id": "953fc56c",
   "metadata": {},
   "outputs": [],
   "source": [
    "# mapping characters to integers\n",
    "stoi = {ch: i for i, ch in enumerate(chars)}\n",
    "itos = {i: ch for i, ch in enumerate(chars)}\n",
    "encode = lambda s: [stoi[c] for c in s]  # encoder: take a string, output a list of integers\n",
    "decode = lambda l: ''.join([itos[i] for i in l])  # decoder: take a list of integers, output a string"
   ]
  },
  {
   "cell_type": "code",
   "execution_count": 119,
   "id": "4bb51201",
   "metadata": {
    "scrolled": true
   },
   "outputs": [
    {
     "name": "stdout",
     "output_type": "stream",
     "text": [
      "Encoded Zain Khalid \n",
      "=  [38, 39, 47, 52, 1, 23, 46, 39, 50, 47, 42]\n",
      "\n",
      "Decoded  [38, 39, 47, 52, 1, 23, 46, 39, 50, 47, 42] \n",
      "= Zain Khalid\n"
     ]
    }
   ],
   "source": [
    "# Encode & Decode Example\n",
    "\n",
    "zk = encode('Zain Khalid')\n",
    "print('Encoded Zain Khalid \\n= ',zk)\n",
    "print('\\nDecoded ',zk,'\\n=', ''.join(decode(zk)))"
   ]
  },
  {
   "cell_type": "markdown",
   "id": "c97c8c2b",
   "metadata": {},
   "source": [
    "## 2.2 Train / Val Dataset Split "
   ]
  },
  {
   "cell_type": "code",
   "execution_count": 120,
   "id": "f8f07fb1",
   "metadata": {},
   "outputs": [],
   "source": [
    "# Train and test splits\n",
    "data = tf.constant(encode(text), dtype=tf.int64)\n",
    "\n",
    "n = int(0.9 * len(data))  # First 90% will be train, rest will be for validation\n",
    "\n",
    "train_data = data[:n]\n",
    "val_data = data[n:]"
   ]
  },
  {
   "cell_type": "code",
   "execution_count": 121,
   "id": "cbe63efa",
   "metadata": {
    "scrolled": false
   },
   "outputs": [
    {
     "name": "stdout",
     "output_type": "stream",
     "text": [
      "A sample of train data : \n",
      "\n",
      " [18 47 56 57 58  1 15 47 58 47 64 43 52 10  0 14 43 44 53 56 43  1 61 43\n",
      "  1 54 56 53 41 43 43 42  1 39 52 63  1 44 59 56 58 46 43 56  6  1 46 43\n",
      " 39 56]\n",
      "\n",
      "\n",
      "A sample of train data decoded : \n",
      "\n",
      " First Citizen:\n",
      "Before we proceed any further, hear\n"
     ]
    }
   ],
   "source": [
    "print('A sample of train data : \\n\\n', train_data[:50].numpy())\n",
    "print('\\n\\nA sample of train data decoded : \\n\\n', ''.join(decode((train_data[:50].numpy()))))"
   ]
  },
  {
   "cell_type": "markdown",
   "id": "a63dbf7f",
   "metadata": {},
   "source": [
    "# 3 Model Utilities"
   ]
  },
  {
   "cell_type": "code",
   "execution_count": 122,
   "id": "8585fba0",
   "metadata": {},
   "outputs": [],
   "source": [
    "# Hyperparameters\n",
    "# batch_size = 16\n",
    "# block_size = 32\n",
    "# max_iters = 5000\n",
    "# eval_interval = 100\n",
    "# learning_rate = 1e-3\n",
    "# eval_iters = 200\n",
    "# n_embd = 64\n",
    "# n_head = 4\n",
    "# n_layer = 4\n",
    "# dropout = 0.0\n",
    "\n",
    "batch_size = 8\n",
    "block_size = 256\n",
    "max_iters = 5000\n",
    "eval_interval = 100\n",
    "learning_rate = 5e-4\n",
    "eval_iters = 200\n",
    "n_embd = 512\n",
    "n_head = 8\n",
    "n_layer = 8\n",
    "dropout = 0.2"
   ]
  },
  {
   "cell_type": "code",
   "execution_count": 123,
   "id": "67521d30",
   "metadata": {},
   "outputs": [],
   "source": [
    "# data loading\n",
    "\n",
    "def get_batch(split):\n",
    "    # generate a small batch of data of inputs x and targets y\n",
    "    data = train_data if split == 'train' else val_data\n",
    "    ix = tf.random.uniform((batch_size,), maxval=len(data) - block_size, dtype=tf.int64)\n",
    "    x = tf.gather(data, ix[:, tf.newaxis] + tf.range(block_size, dtype=tf.int64))\n",
    "    y = tf.gather(data, ix[:, tf.newaxis] + tf.range(1, block_size + 1, dtype=tf.int64))\n",
    "    return x, y\n",
    "\n",
    "# Loss estimator during training\n",
    "\n",
    "@tf.function\n",
    "def estimate_loss():\n",
    "    out = {}\n",
    "    model.trainable = False\n",
    "    for split in ['train', 'val']:\n",
    "        losses = tf.TensorArray(tf.float32, size=eval_iters)\n",
    "        for k in tf.range(eval_iters):\n",
    "            X, Y = get_batch(split)\n",
    "            logits, loss = model(X, Y)\n",
    "            losses = losses.write(k, loss)\n",
    "        out[split] = tf.reduce_mean(losses.stack())\n",
    "    model.trainable = True\n",
    "    return out"
   ]
  },
  {
   "cell_type": "code",
   "execution_count": 124,
   "id": "5f4ca6a1",
   "metadata": {},
   "outputs": [],
   "source": [
    "class Head(layers.Layer):\n",
    "    \"\"\" One head of self-attention \"\"\"\n",
    "\n",
    "    def __init__(self, head_size):\n",
    "        super(Head, self).__init__()\n",
    "        self.key = layers.Dense(head_size, use_bias=False)\n",
    "        self.query = layers.Dense(head_size, use_bias=False)\n",
    "        self.value = layers.Dense(head_size, use_bias=False)\n",
    "        self.tril = tf.linalg.band_part(tf.ones((block_size, block_size)), -1, 0)\n",
    "        self.dropout = layers.Dropout(dropout)\n",
    "\n",
    "    def call(self, x):\n",
    "        B, T, C = x.shape\n",
    "#         print('x.shape : ', x.shape)\n",
    "        k = self.key(x)\n",
    "#         print('k.shape : ', k.shape)\n",
    "        q = self.query(x)\n",
    "#         print('q.shape : ', q.shape)\n",
    "        \n",
    "        wei = tf.matmul(q, tf.transpose(k, perm=[0, 2, 1])* C ** -0.5 ) \n",
    "#         print('wei.shape before : ',wei.shape) #(1, 1, 1)\n",
    "        \n",
    "        wei = tf.where(self.tril[:T,:T] == 0, float('-inf'), wei)\n",
    "#         print('wei.shape tril : ',wei.shape) #(1, 1, 1)\n",
    "        wei = tf.nn.softmax(wei, axis=-1)\n",
    "        wei = self.dropout(wei)\n",
    "        v = self.value(x)\n",
    "#         print(\"wei.shape: \",wei.shape,\" v.shape: \", v.shape ) # wei.shape:  (1, 1, 128)  v.shape:  (1, 1, 32)\n",
    "        out = tf.matmul(wei, v)\n",
    "        return out\n",
    "\n",
    "class MultiHeadAttention(layers.Layer):\n",
    "    \"\"\" Multiple heads of self-attention in parallel \"\"\"\n",
    "\n",
    "    def __init__(self, num_heads, head_size):\n",
    "        super(MultiHeadAttention, self).__init__()\n",
    "        self.heads = [Head(head_size) for _ in range(num_heads)]\n",
    "        self.proj = layers.Dense(n_embd)\n",
    "        self.dropout = layers.Dropout(dropout)\n",
    "\n",
    "    def call(self, x):\n",
    "        out = tf.concat([h(x) for h in self.heads], axis=-1)\n",
    "        out = self.dropout(self.proj(out))\n",
    "        return out\n",
    "\n",
    "class FeedForward(layers.Layer):\n",
    "    \"\"\" A simple linear layer followed by a non-linearity \"\"\"\n",
    "\n",
    "    def __init__(self, n_embd):\n",
    "        super(FeedForward, self).__init__()\n",
    "        self.net = tf.keras.Sequential([\n",
    "            layers.Dense(4 * n_embd),\n",
    "            layers.ReLU(),\n",
    "            layers.Dense(n_embd),\n",
    "            layers.Dropout(dropout),\n",
    "        ])\n",
    "\n",
    "    def call(self, x):\n",
    "        return self.net(x)\n",
    "\n",
    "class Block(layers.Layer):\n",
    "    \"\"\" Transformer block: communication followed by computation \"\"\"\n",
    "\n",
    "    def __init__(self, n_embd, n_head):\n",
    "        super(Block, self).__init__()\n",
    "        head_size = n_embd // n_head\n",
    "        self.sa = MultiHeadAttention(n_head, head_size)\n",
    "        self.ffwd = FeedForward(n_embd)\n",
    "        self.ln1 = layers.LayerNormalization()\n",
    "        self.ln2 = layers.LayerNormalization()\n",
    "\n",
    "    def call(self, x):\n",
    "        x = x + self.sa(self.ln1(x))\n",
    "        x = x + self.ffwd(self.ln2(x))\n",
    "        return x\n"
   ]
  },
  {
   "cell_type": "markdown",
   "id": "becae57e",
   "metadata": {},
   "source": [
    "# 4 Model Implementation"
   ]
  },
  {
   "cell_type": "code",
   "execution_count": 125,
   "id": "d8ea8255",
   "metadata": {},
   "outputs": [],
   "source": [
    "#Simple Bigram Model\n",
    "class BigramLanguageModel(tf.keras.Model):\n",
    "\n",
    "    def __init__(self):\n",
    "        super(BigramLanguageModel, self).__init__()\n",
    "        self.token_embedding_table = layers.Embedding(vocab_size, n_embd)\n",
    "        self.position_embedding_table = layers.Embedding(block_size, n_embd)\n",
    "        self.blocks = tf.keras.Sequential([Block(n_embd, n_head=n_head) for _ in range(n_layer)])\n",
    "        self.ln_f = layers.LayerNormalization()\n",
    "        self.lm_head = layers.Dense(vocab_size)\n",
    "\n",
    "    def call(self, idx, targets=None):\n",
    "        B, T = idx.shape\n",
    "\n",
    "        tok_emb = self.token_embedding_table(idx)\n",
    "        pos_emb = self.position_embedding_table(tf.range(T, dtype=tf.int64))\n",
    "        x = tok_emb + pos_emb\n",
    "        x = self.blocks(x)\n",
    "        x = self.ln_f(x)\n",
    "        logits = self.lm_head(x)\n",
    "\n",
    "        if targets is None:\n",
    "            loss = None\n",
    "        else:\n",
    "            B, T, C = logits.shape\n",
    "            logits = tf.reshape(logits, (B * T, C))\n",
    "            targets = tf.reshape(targets, (B * T,))\n",
    "            loss = tf.reduce_mean(tf.nn.sparse_softmax_cross_entropy_with_logits(logits=logits, labels=targets))\n",
    "\n",
    "        return logits, loss\n",
    "\n",
    "    def generate(self, idx, max_new_tokens):\n",
    "        for _ in range(max_new_tokens):\n",
    "            \n",
    "            idx_cond = idx[:, -block_size:]\n",
    "\n",
    "#             if(len(idx) >= block_size):                \n",
    "#                 idx_cond = idx[:, -len(idx):]\n",
    "#             else:\n",
    "#                 idx_cond = idx[:, -block_size:]\n",
    "            \n",
    "            logits, _ = self(idx_cond)\n",
    "            logits = logits[:, -1, :]\n",
    "            probs = tf.nn.softmax(logits, axis=-1)\n",
    "            idx_next = tf.random.categorical(tf.math.log(probs), num_samples=1, dtype=tf.int64)\n",
    "            idx = tf.concat([idx, idx_next], axis=1)\n",
    "        return idx"
   ]
  },
  {
   "cell_type": "markdown",
   "id": "bbce54ba",
   "metadata": {},
   "source": [
    "# 5 Model Training"
   ]
  },
  {
   "cell_type": "markdown",
   "id": "315409a5",
   "metadata": {},
   "source": [
    "## 5.1 Initialization "
   ]
  },
  {
   "cell_type": "code",
   "execution_count": 126,
   "id": "a409e845",
   "metadata": {},
   "outputs": [],
   "source": [
    "model = BigramLanguageModel()"
   ]
  },
  {
   "cell_type": "markdown",
   "id": "69a64534",
   "metadata": {},
   "source": [
    "## 5.2 Training Loop "
   ]
  },
  {
   "cell_type": "code",
   "execution_count": 127,
   "id": "c0329c7f",
   "metadata": {
    "scrolled": false
   },
   "outputs": [
    {
     "name": "stdout",
     "output_type": "stream",
     "text": [
      "step 0: train loss 5.0823, val loss 5.0635\n",
      "step 100: train loss 3.0803, val loss 3.1245\n",
      "step 200: train loss 2.5818, val loss 2.5875\n",
      "step 300: train loss 2.5124, val loss 2.5094\n",
      "step 400: train loss 2.4913, val loss 2.5042\n",
      "step 500: train loss 2.4806, val loss 2.4934\n",
      "step 600: train loss 2.4470, val loss 2.4617\n",
      "step 700: train loss 2.4102, val loss 2.4402\n",
      "step 800: train loss 2.3735, val loss 2.4219\n",
      "step 900: train loss 2.2519, val loss 2.3091\n",
      "step 1000: train loss 2.1470, val loss 2.2237\n",
      "step 1100: train loss 2.0463, val loss 2.1494\n",
      "step 1200: train loss 1.9664, val loss 2.0929\n",
      "step 1300: train loss 1.8948, val loss 2.0086\n",
      "step 1400: train loss 1.8251, val loss 1.9420\n",
      "step 1500: train loss 1.7565, val loss 1.9182\n",
      "step 1600: train loss 1.7130, val loss 1.8770\n",
      "step 1700: train loss 1.6738, val loss 1.8653\n",
      "step 1800: train loss 1.6370, val loss 1.8342\n",
      "step 1900: train loss 1.5866, val loss 1.7766\n",
      "step 2000: train loss 1.5670, val loss 1.7618\n",
      "step 2100: train loss 1.5428, val loss 1.7419\n",
      "step 2200: train loss 1.5252, val loss 1.7276\n",
      "step 2300: train loss 1.5054, val loss 1.7028\n",
      "step 2400: train loss 1.4750, val loss 1.6850\n",
      "step 2500: train loss 1.4665, val loss 1.6805\n",
      "step 2600: train loss 1.4336, val loss 1.6639\n",
      "step 2700: train loss 1.4299, val loss 1.6556\n",
      "step 2800: train loss 1.4137, val loss 1.6727\n",
      "step 2900: train loss 1.4028, val loss 1.6462\n",
      "step 3000: train loss 1.3823, val loss 1.6316\n",
      "step 3100: train loss 1.3734, val loss 1.6220\n",
      "step 3200: train loss 1.3578, val loss 1.6068\n",
      "step 3300: train loss 1.3457, val loss 1.6084\n",
      "step 3400: train loss 1.3347, val loss 1.6100\n",
      "step 3500: train loss 1.3209, val loss 1.6007\n",
      "step 3600: train loss 1.3165, val loss 1.6072\n",
      "step 3700: train loss 1.3063, val loss 1.5886\n",
      "step 3800: train loss 1.2892, val loss 1.5890\n",
      "step 3900: train loss 1.2818, val loss 1.6025\n",
      "step 4000: train loss 1.2762, val loss 1.5699\n",
      "step 4100: train loss 1.2740, val loss 1.5874\n",
      "step 4200: train loss 1.2661, val loss 1.5780\n",
      "step 4300: train loss 1.2561, val loss 1.5816\n",
      "step 4400: train loss 1.2424, val loss 1.5835\n",
      "step 4500: train loss 1.2440, val loss 1.5668\n",
      "step 4600: train loss 1.2315, val loss 1.5860\n",
      "step 4700: train loss 1.2172, val loss 1.5831\n",
      "step 4800: train loss 1.2139, val loss 1.5882\n",
      "step 4900: train loss 1.1979, val loss 1.5769\n",
      "step 4999: train loss 1.1983, val loss 1.5631\n"
     ]
    }
   ],
   "source": [
    "\n",
    "optimizer = tf.keras.optimizers.Adam(learning_rate)\n",
    "\n",
    "for iter in range(max_iters):\n",
    "\n",
    "    # every once in a while evaluate the loss on train and val sets\n",
    "    if iter % eval_interval == 0 or iter == max_iters - 1:\n",
    "        losses = estimate_loss()\n",
    "        print(f\"step {iter}: train loss {losses['train']:.4f}, val loss {losses['val']:.4f}\")\n",
    "\n",
    "    # sample a batch of data\n",
    "    xb, yb = get_batch('train')\n",
    "\n",
    "    # evaluate the loss\n",
    "    with tf.GradientTape() as tape:\n",
    "        logits, loss = model(xb, yb)\n",
    "    gradients = tape.gradient(loss, model.trainable_variables)\n",
    "    optimizer.apply_gradients(zip(gradients, model.trainable_variables))\n",
    "\n"
   ]
  },
  {
   "cell_type": "markdown",
   "id": "0c97a3ce",
   "metadata": {},
   "source": [
    "## 5.3 Model Size "
   ]
  },
  {
   "cell_type": "code",
   "execution_count": 128,
   "id": "a4439a30",
   "metadata": {},
   "outputs": [
    {
     "name": "stdout",
     "output_type": "stream",
     "text": [
      "Model: \"bigram_language_model_15\"\n",
      "_________________________________________________________________\n",
      " Layer (type)                Output Shape              Param #   \n",
      "=================================================================\n",
      " embedding_30 (Embedding)    multiple                  33280     \n",
      "                                                                 \n",
      " embedding_31 (Embedding)    multiple                  131072    \n",
      "                                                                 \n",
      " sequential_143 (Sequential)  (8, 256, 512)            25206784  \n",
      "                                                                 \n",
      " layer_normalization_271 (La  multiple                 1024      \n",
      " yerNormalization)                                               \n",
      "                                                                 \n",
      " dense_3471 (Dense)          multiple                  33345     \n",
      "                                                                 \n",
      "=================================================================\n",
      "Total params: 25,405,505\n",
      "Trainable params: 25,405,505\n",
      "Non-trainable params: 0\n",
      "_________________________________________________________________\n"
     ]
    }
   ],
   "source": [
    "# print the number of parameters in the model\n",
    "# print(sum(tf.reduce_prod(p.shape) for p in model.trainable_variables) / 1e6, 'M parameters')\n",
    "\n",
    "model.summary()"
   ]
  },
  {
   "cell_type": "markdown",
   "id": "30ad93a7",
   "metadata": {},
   "source": [
    "# 6 Testing "
   ]
  },
  {
   "cell_type": "code",
   "execution_count": 129,
   "id": "0ab44e48",
   "metadata": {},
   "outputs": [
    {
     "name": "stdout",
     "output_type": "stream",
     "text": [
      "(1, 1)\n"
     ]
    }
   ],
   "source": [
    "# generate from the model\n",
    "context = tf.zeros((1, 1), dtype=tf.int64)\n",
    "print(context.shape)\n"
   ]
  },
  {
   "cell_type": "code",
   "execution_count": 130,
   "id": "94eb09fa",
   "metadata": {},
   "outputs": [],
   "source": [
    "generated_indices = model.generate(context, max_new_tokens=500)[0].numpy()\n",
    "# print(decode(generated_indices.tolist()))\n"
   ]
  },
  {
   "cell_type": "code",
   "execution_count": 131,
   "id": "571d70cc",
   "metadata": {},
   "outputs": [
    {
     "name": "stdout",
     "output_type": "stream",
     "text": [
      "\n",
      "To shrift give the slees: that is I quoth,\n",
      "The purp of too three that I child,\n",
      "Though no worchar be so fliered, mother\n",
      "We take no more true.\n",
      "\n",
      "FLORIZEL:\n",
      "Why look you shall be any most wife-born,\n",
      "I'll procure you there enough.\n",
      "\n",
      "LARTIUS:\n",
      "We do, my lord;\n",
      "And you shall thee on the have born along.\n",
      "\n",
      "BRUTUS:\n",
      "Go, go, my grue; is it less even nothing break.\n",
      "This nothing defend of me.\n",
      "\n",
      "Citizen:\n",
      "Tut, no, asdoch her you comfort;\n",
      "I have no less hear you, by yourrow. My king-son.\n",
      "\n",
      "Messenger:\n",
      "We will you one e\n"
     ]
    }
   ],
   "source": [
    "print(decode(generated_indices.tolist()))"
   ]
  },
  {
   "cell_type": "code",
   "execution_count": null,
   "id": "9d891e87",
   "metadata": {},
   "outputs": [],
   "source": []
  }
 ],
 "metadata": {
  "kernelspec": {
   "display_name": "Python 3.8 (tensorflow-gpu)",
   "language": "python",
   "name": "tensorflow-gpu"
  },
  "language_info": {
   "codemirror_mode": {
    "name": "ipython",
    "version": 3
   },
   "file_extension": ".py",
   "mimetype": "text/x-python",
   "name": "python",
   "nbconvert_exporter": "python",
   "pygments_lexer": "ipython3",
   "version": "3.8.18"
  }
 },
 "nbformat": 4,
 "nbformat_minor": 5
}
