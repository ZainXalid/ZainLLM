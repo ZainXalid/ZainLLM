{
 "cells": [
  {
   "cell_type": "markdown",
   "id": "17e007f8",
   "metadata": {},
   "source": [
    "# 1 Download & Read Dataset "
   ]
  },
  {
   "cell_type": "code",
   "execution_count": 1,
   "id": "4f0cf2b4",
   "metadata": {
    "scrolled": false
   },
   "outputs": [
    {
     "name": "stdout",
     "output_type": "stream",
     "text": [
      "Total number of characters in the dataset :  1115394\n",
      "\n",
      "\n",
      "First 100 characters :  First Citizen:\n",
      "Before we proceed any further, hear me speak.\n",
      "\n",
      "All:\n",
      "Speak, speak.\n",
      "\n",
      "First Citizen:\n",
      "You\n"
     ]
    }
   ],
   "source": [
    "# wget https://raw.githubusercontent.com/karpathy/char-rnn/master/data/tinyshakespeare/input.txt\n",
    "\n",
    "with open('../dataset.txt', 'r', encoding='utf-8') as f:\n",
    "    text = f.read()\n",
    "\n",
    "        \n",
    "print(\"Total number of characters in the dataset : \",len(text))\n",
    "\n",
    "print('\\n\\nFirst 100 characters : ', text[:100])"
   ]
  },
  {
   "cell_type": "markdown",
   "id": "7a29be47",
   "metadata": {},
   "source": [
    "# ------------------------------------------- "
   ]
  },
  {
   "cell_type": "code",
   "execution_count": 2,
   "id": "fc2fb7ed",
   "metadata": {},
   "outputs": [],
   "source": [
    "import tensorflow as tf\n",
    "from tensorflow.keras import layers"
   ]
  },
  {
   "cell_type": "code",
   "execution_count": 3,
   "id": "283158ea",
   "metadata": {},
   "outputs": [
    {
     "name": "stdout",
     "output_type": "stream",
     "text": [
      "Num GPUs Available:  1\n",
      "cuda\n"
     ]
    }
   ],
   "source": [
    "print(\"Num GPUs Available: \", len(tf.config.list_physical_devices('GPU')))\n",
    "# device = 'cuda' if tf.config.list_physical_devices('GPU') else 'cpu'\n",
    "# print(device)"
   ]
  },
  {
   "cell_type": "code",
   "execution_count": 4,
   "id": "f34b7175",
   "metadata": {},
   "outputs": [],
   "source": [
    "# tf.debugging.set_log_device_placement(True)"
   ]
  },
  {
   "cell_type": "markdown",
   "id": "61bd1cec",
   "metadata": {},
   "source": [
    "### For reproducibility  "
   ]
  },
  {
   "cell_type": "code",
   "execution_count": 5,
   "id": "04e28d19",
   "metadata": {},
   "outputs": [],
   "source": [
    "tf.random.set_seed(1337)"
   ]
  },
  {
   "cell_type": "markdown",
   "id": "85a71d31",
   "metadata": {},
   "source": [
    "# --------------------------------------------"
   ]
  },
  {
   "cell_type": "markdown",
   "id": "fb55f4da",
   "metadata": {},
   "source": [
    "# 2 Data Preprocessing "
   ]
  },
  {
   "cell_type": "markdown",
   "id": "8bee29fe",
   "metadata": {},
   "source": [
    "## 2.1 Tokenization  (1st)"
   ]
  },
  {
   "cell_type": "code",
   "execution_count": 6,
   "id": "e33d5fd7",
   "metadata": {},
   "outputs": [
    {
     "name": "stdout",
     "output_type": "stream",
     "text": [
      "Vocabulary Size :  65\n",
      "\n",
      "Whole Vocabulary :-\n",
      "\n",
      " \n",
      " !$&',-.3:;?ABCDEFGHIJKLMNOPQRSTUVWXYZabcdefghijklmnopqrstuvwxyz\n"
     ]
    }
   ],
   "source": [
    "#all the unique characters that occur in this text\n",
    "chars = sorted(list(set(text)))\n",
    "vocab_size = len(chars)\n",
    "print('Vocabulary Size : ',vocab_size)\n",
    "\n",
    "print('\\nWhole Vocabulary :-\\n\\n',''.join(chars))"
   ]
  },
  {
   "cell_type": "code",
   "execution_count": 7,
   "id": "1ac746b0",
   "metadata": {},
   "outputs": [],
   "source": [
    "# mapping characters to integers\n",
    "stoi = {ch: i for i, ch in enumerate(chars)}\n",
    "itos = {i: ch for i, ch in enumerate(chars)}\n",
    "encode = lambda s: [stoi[c] for c in s]  # encoder: take a string, output a list of integers\n",
    "decode = lambda l: ''.join([itos[i] for i in l])  # decoder: take a list of integers, output a string"
   ]
  },
  {
   "cell_type": "code",
   "execution_count": 8,
   "id": "22ca1514",
   "metadata": {
    "scrolled": true
   },
   "outputs": [
    {
     "name": "stdout",
     "output_type": "stream",
     "text": [
      "Encoded Zain Khalid \n",
      "=  [38, 39, 47, 52, 1, 23, 46, 39, 50, 47, 42]\n",
      "\n",
      "Decoded  [38, 39, 47, 52, 1, 23, 46, 39, 50, 47, 42] \n",
      "= Zain Khalid\n"
     ]
    }
   ],
   "source": [
    "# Encode & Decode Example\n",
    "\n",
    "zk = encode('Zain Khalid')\n",
    "print('Encoded Zain Khalid \\n= ',zk)\n",
    "print('\\nDecoded ',zk,'\\n=', ''.join(decode(zk)))"
   ]
  },
  {
   "cell_type": "markdown",
   "id": "126d6bbd",
   "metadata": {},
   "source": [
    "## 2.2 Train / Val Dataset Split "
   ]
  },
  {
   "cell_type": "code",
   "execution_count": 9,
   "id": "ab2d0489",
   "metadata": {},
   "outputs": [],
   "source": [
    "# Train and test splits\n",
    "data = tf.constant(encode(text), dtype=tf.int64)\n",
    "\n",
    "n = int(0.9 * len(data))  # First 90% will be train, rest will be for validation\n",
    "\n",
    "train_data = data[:n]\n",
    "val_data = data[n:]"
   ]
  },
  {
   "cell_type": "code",
   "execution_count": 10,
   "id": "818f9a04",
   "metadata": {
    "scrolled": false
   },
   "outputs": [
    {
     "name": "stdout",
     "output_type": "stream",
     "text": [
      "A sample of train data : \n",
      "\n",
      " [18 47 56 57 58  1 15 47 58 47 64 43 52 10  0 14 43 44 53 56 43  1 61 43\n",
      "  1 54 56 53 41 43 43 42  1 39 52 63  1 44 59 56 58 46 43 56  6  1 46 43\n",
      " 39 56]\n",
      "\n",
      "\n",
      "A sample of train data decoded : \n",
      "\n",
      " First Citizen:\n",
      "Before we proceed any further, hear\n"
     ]
    }
   ],
   "source": [
    "print('A sample of train data : \\n\\n', train_data[:50].numpy())\n",
    "print('\\n\\nA sample of train data decoded : \\n\\n', ''.join(decode((train_data[:50].numpy()))))"
   ]
  },
  {
   "cell_type": "markdown",
   "id": "545c002a",
   "metadata": {},
   "source": [
    "# 3 Model Utilities"
   ]
  },
  {
   "cell_type": "code",
   "execution_count": 12,
   "id": "9cbd44ea",
   "metadata": {},
   "outputs": [],
   "source": [
    "# Hyperparameters\n",
    "# batch_size = 16\n",
    "# block_size = 32\n",
    "# max_iters = 5000\n",
    "# eval_interval = 100\n",
    "# learning_rate = 1e-3\n",
    "# eval_iters = 200\n",
    "# n_embd = 64\n",
    "# n_head = 4\n",
    "# n_layer = 4\n",
    "# dropout = 0.0\n",
    "\n",
    "batch_size = 8\n",
    "block_size = 512\n",
    "max_iters = 6000\n",
    "eval_interval = 100\n",
    "learning_rate = 3e-4\n",
    "eval_iters = 200\n",
    "n_embd = 512\n",
    "n_head = 12\n",
    "n_layer = 8\n",
    "dropout = 0.2"
   ]
  },
  {
   "cell_type": "code",
   "execution_count": 13,
   "id": "0499da91",
   "metadata": {},
   "outputs": [],
   "source": [
    "# data loading\n",
    "\n",
    "def get_batch(split):\n",
    "    # generate a small batch of data of inputs x and targets y\n",
    "    data = train_data if split == 'train' else val_data\n",
    "    ix = tf.random.uniform((batch_size,), maxval=len(data) - block_size, dtype=tf.int64)\n",
    "    x = tf.gather(data, ix[:, tf.newaxis] + tf.range(block_size, dtype=tf.int64))\n",
    "    y = tf.gather(data, ix[:, tf.newaxis] + tf.range(1, block_size + 1, dtype=tf.int64))\n",
    "    return x, y\n",
    "\n",
    "# Loss estimator during training\n",
    "\n",
    "@tf.function\n",
    "def estimate_loss():\n",
    "    out = {}\n",
    "    model.trainable = False\n",
    "    for split in ['train', 'val']:\n",
    "        losses = tf.TensorArray(tf.float32, size=eval_iters)\n",
    "        for k in tf.range(eval_iters):\n",
    "            X, Y = get_batch(split)\n",
    "            logits, loss = model(X, Y)\n",
    "            losses = losses.write(k, loss)\n",
    "        out[split] = tf.reduce_mean(losses.stack())\n",
    "    model.trainable = True\n",
    "    return out"
   ]
  },
  {
   "cell_type": "code",
   "execution_count": 14,
   "id": "a608c3f9",
   "metadata": {},
   "outputs": [],
   "source": [
    "class Head(layers.Layer):\n",
    "    \"\"\" One head of self-attention \"\"\"\n",
    "\n",
    "    def __init__(self, head_size):\n",
    "        super(Head, self).__init__()\n",
    "        self.key = layers.Dense(head_size, use_bias=False)\n",
    "        self.query = layers.Dense(head_size, use_bias=False)\n",
    "        self.value = layers.Dense(head_size, use_bias=False)\n",
    "        self.tril = tf.linalg.band_part(tf.ones((block_size, block_size)), -1, 0)\n",
    "        self.dropout = layers.Dropout(dropout)\n",
    "\n",
    "    def call(self, x):\n",
    "        B, T, C = x.shape\n",
    "#         print('x.shape : ', x.shape)\n",
    "        k = self.key(x)\n",
    "#         print('k.shape : ', k.shape)\n",
    "        q = self.query(x)\n",
    "#         print('q.shape : ', q.shape)\n",
    "        \n",
    "        wei = tf.matmul(q, tf.transpose(k, perm=[0, 2, 1])* C ** -0.5 ) \n",
    "#         print('wei.shape before : ',wei.shape) #(1, 1, 1)\n",
    "        \n",
    "        wei = tf.where(self.tril[:T,:T] == 0, float('-inf'), wei)\n",
    "#         print('wei.shape tril : ',wei.shape) #(1, 1, 1)\n",
    "        wei = tf.nn.softmax(wei, axis=-1)\n",
    "        wei = self.dropout(wei)\n",
    "        v = self.value(x)\n",
    "#         print(\"wei.shape: \",wei.shape,\" v.shape: \", v.shape ) # wei.shape:  (1, 1, 128)  v.shape:  (1, 1, 32)\n",
    "        out = tf.matmul(wei, v)\n",
    "        return out\n",
    "\n",
    "class MultiHeadAttention(layers.Layer):\n",
    "    \"\"\" Multiple heads of self-attention in parallel \"\"\"\n",
    "\n",
    "    def __init__(self, num_heads, head_size):\n",
    "        super(MultiHeadAttention, self).__init__()\n",
    "        self.heads = [Head(head_size) for _ in range(num_heads)]\n",
    "        self.proj = layers.Dense(n_embd)\n",
    "        self.dropout = layers.Dropout(dropout)\n",
    "\n",
    "    def call(self, x):\n",
    "        out = tf.concat([h(x) for h in self.heads], axis=-1)\n",
    "        out = self.dropout(self.proj(out))\n",
    "        return out\n",
    "\n",
    "class FeedForward(layers.Layer):\n",
    "    \"\"\" A simple linear layer followed by a non-linearity \"\"\"\n",
    "\n",
    "    def __init__(self, n_embd):\n",
    "        super(FeedForward, self).__init__()\n",
    "        self.net = tf.keras.Sequential([\n",
    "            layers.Dense(4 * n_embd),\n",
    "            layers.ReLU(),\n",
    "            layers.Dense(n_embd),\n",
    "            layers.Dropout(dropout),\n",
    "        ])\n",
    "\n",
    "    def call(self, x):\n",
    "        return self.net(x)\n",
    "\n",
    "class Block(layers.Layer):\n",
    "    \"\"\" Transformer block: communication followed by computation \"\"\"\n",
    "\n",
    "    def __init__(self, n_embd, n_head):\n",
    "        super(Block, self).__init__()\n",
    "        head_size = n_embd // n_head\n",
    "        self.sa = MultiHeadAttention(n_head, head_size)\n",
    "        self.ffwd = FeedForward(n_embd)\n",
    "        self.ln1 = layers.LayerNormalization()\n",
    "        self.ln2 = layers.LayerNormalization()\n",
    "\n",
    "    def call(self, x):\n",
    "        x = x + self.sa(self.ln1(x))\n",
    "        x = x + self.ffwd(self.ln2(x))\n",
    "        return x\n"
   ]
  },
  {
   "cell_type": "markdown",
   "id": "de9b80cf",
   "metadata": {},
   "source": [
    "# 4 Model Implementation"
   ]
  },
  {
   "cell_type": "code",
   "execution_count": 15,
   "id": "33e8e503",
   "metadata": {},
   "outputs": [],
   "source": [
    "#Simple Bigram Model\n",
    "class BigramLanguageModel(tf.keras.Model):\n",
    "\n",
    "    def __init__(self):\n",
    "        super(BigramLanguageModel, self).__init__()\n",
    "        self.token_embedding_table = layers.Embedding(vocab_size, n_embd)\n",
    "        self.position_embedding_table = layers.Embedding(block_size, n_embd)\n",
    "        self.blocks = tf.keras.Sequential([Block(n_embd, n_head=n_head) for _ in range(n_layer)])\n",
    "        self.ln_f = layers.LayerNormalization()\n",
    "        self.lm_head = layers.Dense(vocab_size)\n",
    "\n",
    "    def call(self, idx, targets=None):\n",
    "        B, T = idx.shape\n",
    "\n",
    "        tok_emb = self.token_embedding_table(idx)\n",
    "        pos_emb = self.position_embedding_table(tf.range(T, dtype=tf.int64))\n",
    "        x = tok_emb + pos_emb\n",
    "        x = self.blocks(x)\n",
    "        x = self.ln_f(x)\n",
    "        logits = self.lm_head(x)\n",
    "\n",
    "        if targets is None:\n",
    "            loss = None\n",
    "        else:\n",
    "            B, T, C = logits.shape\n",
    "            logits = tf.reshape(logits, (B * T, C))\n",
    "            targets = tf.reshape(targets, (B * T,))\n",
    "            loss = tf.reduce_mean(tf.nn.sparse_softmax_cross_entropy_with_logits(logits=logits, labels=targets))\n",
    "\n",
    "        return logits, loss\n",
    "\n",
    "    def generate(self, idx, max_new_tokens):\n",
    "        for _ in range(max_new_tokens):\n",
    "            \n",
    "            idx_cond = idx[:, -block_size:]\n",
    "\n",
    "#             if(len(idx) >= block_size):                \n",
    "#                 idx_cond = idx[:, -len(idx):]\n",
    "#             else:\n",
    "#                 idx_cond = idx[:, -block_size:]\n",
    "            \n",
    "            logits, _ = self(idx_cond)\n",
    "            logits = logits[:, -1, :]\n",
    "            probs = tf.nn.softmax(logits, axis=-1)\n",
    "            idx_next = tf.random.categorical(tf.math.log(probs), num_samples=1, dtype=tf.int64)\n",
    "            idx = tf.concat([idx, idx_next], axis=1)\n",
    "        return idx"
   ]
  },
  {
   "cell_type": "markdown",
   "id": "cb665f8a",
   "metadata": {},
   "source": [
    "# 5 Model Training"
   ]
  },
  {
   "cell_type": "markdown",
   "id": "9e196030",
   "metadata": {},
   "source": [
    "## 5.1 Initialization "
   ]
  },
  {
   "cell_type": "code",
   "execution_count": 16,
   "id": "fdc95f05",
   "metadata": {},
   "outputs": [],
   "source": [
    "model = BigramLanguageModel()"
   ]
  },
  {
   "cell_type": "markdown",
   "id": "2f503040",
   "metadata": {},
   "source": [
    "## 5.2 Training Loop "
   ]
  },
  {
   "cell_type": "code",
   "execution_count": 19,
   "id": "c1fba193",
   "metadata": {
    "scrolled": false
   },
   "outputs": [
    {
     "name": "stdout",
     "output_type": "stream",
     "text": [
      "step 0: train loss 4.3688, val loss 4.3878\n",
      "step 100: train loss 2.5469, val loss 2.5379\n",
      "step 200: train loss 2.4923, val loss 2.4983\n",
      "step 300: train loss 2.4794, val loss 2.5067\n",
      "step 400: train loss 2.4675, val loss 2.4944\n",
      "step 500: train loss 2.4599, val loss 2.4926\n",
      "step 600: train loss 2.4375, val loss 2.4767\n",
      "step 700: train loss 2.4231, val loss 2.4640\n",
      "step 800: train loss 2.3666, val loss 2.4246\n",
      "step 900: train loss 2.2947, val loss 2.3592\n",
      "step 1000: train loss 2.1749, val loss 2.2726\n",
      "step 1100: train loss 2.0700, val loss 2.1613\n",
      "step 1200: train loss 1.9594, val loss 2.0696\n",
      "step 1300: train loss 1.8555, val loss 1.9917\n",
      "step 1400: train loss 1.7556, val loss 1.9155\n",
      "step 1500: train loss 1.6800, val loss 1.8454\n",
      "step 1600: train loss 1.6212, val loss 1.8213\n",
      "step 1700: train loss 1.5751, val loss 1.7828\n",
      "step 1800: train loss 1.5207, val loss 1.7440\n",
      "step 1900: train loss 1.4725, val loss 1.7036\n",
      "step 2000: train loss 1.4558, val loss 1.6789\n",
      "step 2100: train loss 1.4239, val loss 1.6742\n",
      "step 2200: train loss 1.3946, val loss 1.6419\n",
      "step 2300: train loss 1.3663, val loss 1.6293\n",
      "step 2400: train loss 1.3517, val loss 1.6248\n",
      "step 2500: train loss 1.3298, val loss 1.6212\n",
      "step 2600: train loss 1.3202, val loss 1.5964\n",
      "step 2700: train loss 1.3004, val loss 1.6019\n",
      "step 2800: train loss 1.2877, val loss 1.5979\n",
      "step 2900: train loss 1.2590, val loss 1.6130\n",
      "step 3000: train loss 1.2565, val loss 1.5957\n",
      "step 3100: train loss 1.2321, val loss 1.5985\n",
      "step 3200: train loss 1.2115, val loss 1.5769\n",
      "step 3300: train loss 1.2085, val loss 1.5781\n",
      "step 3400: train loss 1.1900, val loss 1.5892\n",
      "step 3500: train loss 1.1794, val loss 1.5990\n",
      "step 3600: train loss 1.1574, val loss 1.6098\n",
      "step 3700: train loss 1.1512, val loss 1.6022\n",
      "step 3800: train loss 1.1311, val loss 1.6101\n",
      "step 3900: train loss 1.1102, val loss 1.6198\n",
      "step 4000: train loss 1.1106, val loss 1.6325\n",
      "step 4100: train loss 1.0978, val loss 1.6367\n",
      "step 4200: train loss 1.0723, val loss 1.6232\n",
      "step 4300: train loss 1.0668, val loss 1.6570\n",
      "step 4400: train loss 1.0509, val loss 1.6426\n",
      "step 4500: train loss 1.0376, val loss 1.6638\n",
      "step 4600: train loss 1.0093, val loss 1.6839\n",
      "step 4700: train loss 0.9931, val loss 1.6875\n",
      "step 4800: train loss 0.9796, val loss 1.7040\n",
      "step 4900: train loss 0.9800, val loss 1.6980\n",
      "step 5000: train loss 0.9497, val loss 1.7337\n",
      "step 5100: train loss 0.9382, val loss 1.7605\n",
      "step 5200: train loss 0.9200, val loss 1.7788\n",
      "step 5300: train loss 0.9000, val loss 1.8005\n",
      "step 5400: train loss 0.8866, val loss 1.7957\n",
      "step 5500: train loss 0.8614, val loss 1.8265\n",
      "step 5600: train loss 0.8486, val loss 1.8605\n",
      "step 5700: train loss 0.8218, val loss 1.8666\n",
      "step 5800: train loss 0.8162, val loss 1.9025\n",
      "step 5900: train loss 0.7853, val loss 1.9269\n",
      "step 5999: train loss 0.7719, val loss 1.9570\n"
     ]
    }
   ],
   "source": [
    "\n",
    "optimizer = tf.keras.optimizers.Adam(learning_rate)\n",
    "\n",
    "for iter in range(max_iters):\n",
    "\n",
    "    # every once in a while evaluate the loss on train and val sets\n",
    "    if iter % eval_interval == 0 or iter == max_iters - 1:\n",
    "        losses = estimate_loss()\n",
    "        print(f\"step {iter}: train loss {losses['train']:.4f}, val loss {losses['val']:.4f}\")\n",
    "\n",
    "    # sample a batch of data\n",
    "    xb, yb = get_batch('train')\n",
    "\n",
    "    # evaluate the loss\n",
    "    with tf.GradientTape() as tape:\n",
    "        logits, loss = model(xb, yb)\n",
    "    gradients = tape.gradient(loss, model.trainable_variables)\n",
    "    optimizer.apply_gradients(zip(gradients, model.trainable_variables))\n",
    "\n"
   ]
  },
  {
   "cell_type": "markdown",
   "id": "3508accc",
   "metadata": {},
   "source": [
    "## 5.3 Model Size "
   ]
  },
  {
   "cell_type": "code",
   "execution_count": 20,
   "id": "1f4e7787",
   "metadata": {},
   "outputs": [
    {
     "name": "stdout",
     "output_type": "stream",
     "text": [
      "Model: \"bigram_language_model\"\n",
      "_________________________________________________________________\n",
      " Layer (type)                Output Shape              Param #   \n",
      "=================================================================\n",
      " embedding (Embedding)       multiple                  33280     \n",
      "                                                                 \n",
      " embedding_1 (Embedding)     multiple                  262144    \n",
      "                                                                 \n",
      " sequential_8 (Sequential)   (8, 512, 512)             25075712  \n",
      "                                                                 \n",
      " layer_normalization_16 (Lay  multiple                 1024      \n",
      " erNormalization)                                                \n",
      "                                                                 \n",
      " dense_312 (Dense)           multiple                  33345     \n",
      "                                                                 \n",
      "=================================================================\n",
      "Total params: 25,405,505\n",
      "Trainable params: 25,405,505\n",
      "Non-trainable params: 0\n",
      "_________________________________________________________________\n"
     ]
    }
   ],
   "source": [
    "# print the number of parameters in the model\n",
    "# print(sum(tf.reduce_prod(p.shape) for p in model.trainable_variables) / 1e6, 'M parameters')\n",
    "\n",
    "model.summary()"
   ]
  },
  {
   "cell_type": "markdown",
   "id": "d71145f1",
   "metadata": {},
   "source": [
    "# 6 Testing "
   ]
  },
  {
   "cell_type": "code",
   "execution_count": 21,
   "id": "0d14bc8f",
   "metadata": {},
   "outputs": [
    {
     "name": "stdout",
     "output_type": "stream",
     "text": [
      "(1, 1)\n"
     ]
    }
   ],
   "source": [
    "# generate from the model\n",
    "context = tf.zeros((1, 1), dtype=tf.int64)\n",
    "print(context.shape)\n"
   ]
  },
  {
   "cell_type": "code",
   "execution_count": 22,
   "id": "cdfe2589",
   "metadata": {},
   "outputs": [],
   "source": [
    "generated_indices = model.generate(context, max_new_tokens=500)[0].numpy()\n",
    "# print(decode(generated_indices.tolist()))\n"
   ]
  },
  {
   "cell_type": "code",
   "execution_count": 23,
   "id": "66292c89",
   "metadata": {},
   "outputs": [
    {
     "name": "stdout",
     "output_type": "stream",
     "text": [
      "\n",
      "What men thou visit in our call men are pity?\n",
      "For not on my father our queen, newll I way;\n",
      "For God's nakenes, what more of party pieces!\n",
      "\n",
      "Gaoler:\n",
      "Call the king.\n",
      "\n",
      "Gaoler:\n",
      "Marry, I say!\n",
      "\n",
      "CLAUDIO:\n",
      "Sir, will, dispit you with a mable cell.\n",
      "\n",
      "LUCIO:\n",
      "The else?\n",
      "\n",
      "BIONGELO:\n",
      "Make shall this choler to cheek off me,\n",
      "The authority of your appears.\n",
      "\n",
      "CAMILLO:\n",
      "No, indeed.\n",
      "\n",
      "GELOMA:\n",
      "I came then please nurse!\n",
      "\n",
      "Provost:\n",
      "Truly, and will, wisdom Six Cudiolenus.\n",
      "\n",
      "ESCALUS:\n",
      "A! Whene's sir, Polixenes! what so hast a strang\n"
     ]
    }
   ],
   "source": [
    "print(decode(generated_indices.tolist()))"
   ]
  },
  {
   "cell_type": "code",
   "execution_count": 37,
   "id": "adc66f1b",
   "metadata": {},
   "outputs": [
    {
     "name": "stdout",
     "output_type": "stream",
     "text": [
      "(7,)\n"
     ]
    }
   ],
   "source": [
    "question= tf.constant(encode(\"BUCKING\"), dtype=tf.int64)\n",
    "print(question.shape)"
   ]
  },
  {
   "cell_type": "code",
   "execution_count": 38,
   "id": "56559d2c",
   "metadata": {},
   "outputs": [],
   "source": [
    "answer_indices = model.generate(context, max_new_tokens=100)[0].numpy()"
   ]
  },
  {
   "cell_type": "code",
   "execution_count": 39,
   "id": "2c588211",
   "metadata": {},
   "outputs": [
    {
     "name": "stdout",
     "output_type": "stream",
     "text": [
      "\n",
      "LUCIO:\n",
      "Neigner, my lord,\n",
      "The watch a hird that a procude from fefftch'd\n",
      "A careuptity with great polp\n"
     ]
    }
   ],
   "source": [
    "print(decode(answer_indices.tolist()))"
   ]
  },
  {
   "cell_type": "code",
   "execution_count": 33,
   "id": "0c67c1ef",
   "metadata": {},
   "outputs": [],
   "source": [
    "model.save_weights('model_weights.h5')\n",
    "\n",
    "#for hyperparams\n",
    "\n",
    "# batch_size = 8\n",
    "# block_size = 512\n",
    "# max_iters = 6000\n",
    "# eval_interval = 100\n",
    "# learning_rate = 3e-4\n",
    "# eval_iters = 200\n",
    "# n_embd = 512\n",
    "# n_head = 12\n",
    "# n_layer = 8\n",
    "# dropout = 0.2"
   ]
  },
  {
   "cell_type": "code",
   "execution_count": null,
   "id": "fcb796c0",
   "metadata": {},
   "outputs": [],
   "source": []
  }
 ],
 "metadata": {
  "kernelspec": {
   "display_name": "Python 3.8 (tensorflow-gpu)",
   "language": "python",
   "name": "tensorflow-gpu"
  },
  "language_info": {
   "codemirror_mode": {
    "name": "ipython",
    "version": 3
   },
   "file_extension": ".py",
   "mimetype": "text/x-python",
   "name": "python",
   "nbconvert_exporter": "python",
   "pygments_lexer": "ipython3",
   "version": "3.8.18"
  }
 },
 "nbformat": 4,
 "nbformat_minor": 5
}
