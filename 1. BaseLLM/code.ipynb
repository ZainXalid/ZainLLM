{
 "cells": [
  {
   "cell_type": "markdown",
   "id": "f0190bd0",
   "metadata": {},
   "source": [
    "## 1 Downloading The Dataset"
   ]
  },
  {
   "cell_type": "code",
   "execution_count": 13,
   "id": "17318d75",
   "metadata": {},
   "outputs": [
    {
     "name": "stderr",
     "output_type": "stream",
     "text": [
      "--2024-02-18 20:37:13--  https://raw.githubusercontent.com/karpathy/char-rnn/master/data/tinyshakespeare/input.txt\n",
      "Resolving raw.githubusercontent.com (raw.githubusercontent.com)... 185.199.108.133, 185.199.109.133, 185.199.111.133, ...\n",
      "Connecting to raw.githubusercontent.com (raw.githubusercontent.com)|185.199.108.133|:443... connected.\n",
      "HTTP request sent, awaiting response... 200 OK\n",
      "Length: 1115394 (1.1M) [text/plain]\n",
      "Saving to: 'input.txt.1'\n",
      "\n",
      "     0K .......... .......... .......... .......... ..........  4%  368K 3s\n",
      "    50K .......... .......... .......... .......... ..........  9%  769K 2s\n",
      "   100K .......... .......... .......... .......... .......... 13%  753K 2s\n",
      "   150K .......... .......... .......... .......... .......... 18%  691K 2s\n",
      "   200K .......... .......... .......... .......... .......... 22%  813K 1s\n",
      "   250K .......... .......... .......... .......... .......... 27%  738K 1s\n",
      "   300K .......... .......... .......... .......... .......... 32%  749K 1s\n",
      "   350K .......... .......... .......... .......... .......... 36%  743K 1s\n",
      "   400K .......... .......... .......... .......... .......... 41%  552K 1s\n",
      "   450K .......... .......... .......... .......... .......... 45%  742K 1s\n",
      "   500K .......... .......... .......... .......... .......... 50%  750K 1s\n",
      "   550K .......... .......... .......... .......... .......... 55%  823K 1s\n",
      "   600K .......... .......... .......... .......... .......... 59%  676K 1s\n",
      "   650K .......... .......... .......... .......... .......... 64%  590K 1s\n",
      "   700K .......... .......... .......... .......... .......... 68%  723K 1s\n",
      "   750K .......... .......... .......... .......... .......... 73%  741K 0s\n",
      "   800K .......... .......... .......... .......... .......... 78%  739K 0s\n",
      "   850K .......... .......... .......... .......... .......... 82%  700K 0s\n",
      "   900K .......... .......... .......... .......... .......... 87%  781K 0s\n",
      "   950K .......... .......... .......... .......... .......... 91%  743K 0s\n",
      "  1000K .......... .......... .......... .......... .......... 96%  681K 0s\n",
      "  1050K .......... .......... .......... .........            100%  855K=1.6s\n",
      "\n",
      "2024-02-18 20:37:16 (692 KB/s) - 'input.txt.1' saved [1115394/1115394]\n",
      "\n"
     ]
    }
   ],
   "source": [
    "#Downloading dataset to train on.\n",
    "\n",
    "!wget https://raw.githubusercontent.com/karpathy/char-rnn/master/data/tinyshakespeare/input.txt"
   ]
  },
  {
   "cell_type": "code",
   "execution_count": 1,
   "id": "98d4fcf9",
   "metadata": {},
   "outputs": [
    {
     "name": "stdout",
     "output_type": "stream",
     "text": [
      "Total number of characters in the dataset :  1115394\n"
     ]
    }
   ],
   "source": [
    "with open('input.txt','r',encoding='utf-8') as data:\n",
    "    text = data.read()\n",
    "    \n",
    "print(\"Total number of characters in the dataset : \",len(text))"
   ]
  },
  {
   "cell_type": "code",
   "execution_count": 2,
   "id": "411af7c1",
   "metadata": {},
   "outputs": [
    {
     "name": "stdout",
     "output_type": "stream",
     "text": [
      "First 100 characters :  First Citizen:\n",
      "Before we proceed any further, hear me speak.\n",
      "\n",
      "All:\n",
      "Speak, speak.\n",
      "\n",
      "First Citizen:\n",
      "You\n"
     ]
    }
   ],
   "source": [
    "print('First 100 characters : ', text[:100])"
   ]
  },
  {
   "cell_type": "markdown",
   "id": "a129c2dc",
   "metadata": {},
   "source": [
    "## 2 Processing The Dataset "
   ]
  },
  {
   "cell_type": "markdown",
   "id": "d98f98f3",
   "metadata": {},
   "source": [
    "### 2.1 Building Vocabulary "
   ]
  },
  {
   "cell_type": "code",
   "execution_count": 3,
   "id": "fd0c43da",
   "metadata": {},
   "outputs": [
    {
     "name": "stdout",
     "output_type": "stream",
     "text": [
      "Number of unique characters in the dataset = 65\n",
      "\n",
      "Which are following : \n",
      " \n",
      " !$&',-.3:;?ABCDEFGHIJKLMNOPQRSTUVWXYZabcdefghijklmnopqrstuvwxyz\n"
     ]
    }
   ],
   "source": [
    "chars = sorted(list(set(text)))\n",
    "vocab_size = len(chars)\n",
    "\n",
    "print('Number of unique characters in the dataset =',vocab_size)\n",
    "print('\\nWhich are following : \\n',''.join(chars))"
   ]
  },
  {
   "cell_type": "markdown",
   "id": "9680c103",
   "metadata": {},
   "source": [
    "### 2.2 Building Tokenizer  (Custom Encoder, Decoder)"
   ]
  },
  {
   "cell_type": "code",
   "execution_count": 4,
   "id": "14f577c5",
   "metadata": {},
   "outputs": [],
   "source": [
    "#mapping individual charaters to integers \n",
    "\n",
    "encoder = { char:i for i,char in enumerate(chars)}\n",
    "decoder = { i:char for i,char in enumerate(chars)}\n",
    "\n",
    "encode = lambda string: [encoder[char] for char in string]\n",
    "decode = lambda integers: [decoder[i] for i in integers]"
   ]
  },
  {
   "cell_type": "code",
   "execution_count": 5,
   "id": "8be8e5cd",
   "metadata": {},
   "outputs": [
    {
     "name": "stdout",
     "output_type": "stream",
     "text": [
      "Encoded Zain Khalid \n",
      "=  [38, 39, 47, 52, 1, 23, 46, 39, 50, 47, 42]\n",
      "\n",
      "Decoded  [38, 39, 47, 52, 1, 23, 46, 39, 50, 47, 42] \n",
      "= Zain Khalid\n"
     ]
    }
   ],
   "source": [
    "zk = encode('Zain Khalid')\n",
    "print('Encoded Zain Khalid \\n= ',zk)\n",
    "print('\\nDecoded ',zk,'\\n=', ''.join(decode(zk)))"
   ]
  },
  {
   "cell_type": "markdown",
   "id": "0d2a9b4a",
   "metadata": {},
   "source": [
    "### 2.3 Encoding The Dataset "
   ]
  },
  {
   "cell_type": "code",
   "execution_count": 6,
   "id": "9e017e95",
   "metadata": {},
   "outputs": [],
   "source": [
    "import tensorflow as tf"
   ]
  },
  {
   "cell_type": "code",
   "execution_count": 7,
   "id": "fc6a2477",
   "metadata": {},
   "outputs": [
    {
     "name": "stdout",
     "output_type": "stream",
     "text": [
      "(1115394,) <dtype: 'int64'>\n"
     ]
    }
   ],
   "source": [
    "data = tf.convert_to_tensor(encode(text), dtype=tf.int64)\n",
    "print(data.shape, data.dtype)"
   ]
  },
  {
   "cell_type": "code",
   "execution_count": 8,
   "id": "b142d44d",
   "metadata": {},
   "outputs": [
    {
     "name": "stdout",
     "output_type": "stream",
     "text": [
      "tf.Tensor(\n",
      "[18 47 56 57 58  1 15 47 58 47 64 43 52 10  0 14 43 44 53 56 43  1 61 43\n",
      "  1 54 56 53 41 43 43 42  1 39 52 63  1 44 59 56 58 46 43 56  6  1 46 43\n",
      " 39 56  1 51 43  1 57 54 43 39 49  8  0  0 13 50 50 10  0 31 54 43 39 49\n",
      "  6  1 57 54 43 39 49  8  0  0 18 47 56 57 58  1 15 47 58 47 64 43 52 10\n",
      "  0 37 53 59], shape=(100,), dtype=int64)\n"
     ]
    }
   ],
   "source": [
    "print(data[:100])"
   ]
  },
  {
   "cell_type": "markdown",
   "id": "a3c48227",
   "metadata": {},
   "source": [
    "### 2.4 Splitting the dataset (Train,Validate) "
   ]
  },
  {
   "cell_type": "code",
   "execution_count": 9,
   "id": "3738cd94",
   "metadata": {},
   "outputs": [],
   "source": [
    "limit = int(0.9 * len(data))\n",
    "\n",
    "train_data = data[:limit]\n",
    "val_data = data[limit:]"
   ]
  },
  {
   "cell_type": "code",
   "execution_count": 10,
   "id": "0b90371d",
   "metadata": {},
   "outputs": [
    {
     "name": "stdout",
     "output_type": "stream",
     "text": [
      "tf.Tensor(\n",
      "[18 47 56 57 58  1 15 47 58 47 64 43 52 10  0 14 43 44 53 56 43  1 61 43\n",
      "  1 54 56 53 41 43 43 42  1 39 52 63  1 44 59 56 58 46 43 56  6  1 46 43\n",
      " 39 56  1 51 43  1 57 54 43 39 49  8  0  0 13 50 50 10  0 31 54 43 39 49\n",
      "  6  1 57 54 43 39 49  8  0  0 18 47 56 57 58  1 15 47 58 47 64 43 52 10\n",
      "  0 37 53 59], shape=(100,), dtype=int64)\n"
     ]
    }
   ],
   "source": [
    "print(train_data[:100])"
   ]
  },
  {
   "cell_type": "markdown",
   "id": "88f7cd41",
   "metadata": {},
   "source": [
    "### 2.5 Chunking Dataset in Blocks (x,y) (To Train Transformer) "
   ]
  },
  {
   "cell_type": "markdown",
   "id": "2c572d75",
   "metadata": {},
   "source": [
    "#### Concept "
   ]
  },
  {
   "cell_type": "code",
   "execution_count": 23,
   "id": "3c0ec267",
   "metadata": {},
   "outputs": [
    {
     "data": {
      "text/plain": [
       "<tf.Tensor: shape=(9,), dtype=int64, numpy=array([18, 47, 56, 57, 58,  1, 15, 47, 58], dtype=int64)>"
      ]
     },
     "execution_count": 23,
     "metadata": {},
     "output_type": "execute_result"
    }
   ],
   "source": [
    "block_size = 8\n",
    "train_data[:block_size+1]"
   ]
  },
  {
   "cell_type": "code",
   "execution_count": 33,
   "id": "2688b94d",
   "metadata": {},
   "outputs": [
    {
     "name": "stdout",
     "output_type": "stream",
     "text": [
      "for input:  [18]   target is:  47\n",
      "for input:  [18, 47]   target is:  56\n",
      "for input:  [18, 47, 56]   target is:  57\n",
      "for input:  [18, 47, 56, 57]   target is:  58\n",
      "for input:  [18, 47, 56, 57, 58]   target is:  1\n",
      "for input:  [18, 47, 56, 57, 58, 1]   target is:  15\n",
      "for input:  [18, 47, 56, 57, 58, 1, 15]   target is:  47\n",
      "for input:  [18, 47, 56, 57, 58, 1, 15, 47]   target is:  58\n"
     ]
    }
   ],
   "source": [
    "x = train_data[:block_size]\n",
    "y = train_data[1:block_size+1]\n",
    "\n",
    "for token in range(block_size):\n",
    "    context = x[:token+1]\n",
    "    target = y[token]\n",
    "    print('for input: ',context.numpy().tolist(),'  target is: ',target.numpy().tolist())"
   ]
  },
  {
   "cell_type": "markdown",
   "id": "ef83dbfc",
   "metadata": {},
   "source": [
    "#### Implementation "
   ]
  },
  {
   "cell_type": "code",
   "execution_count": 45,
   "id": "fa684619",
   "metadata": {},
   "outputs": [
    {
     "name": "stdout",
     "output_type": "stream",
     "text": [
      "tf.Tensor([408122 819575 742741 756988], shape=(4,), dtype=int32)\n",
      "inputs:\n",
      "(4, 8)\n",
      "tf.Tensor(\n",
      "[[43  1 44 47 45 59 56 43]\n",
      " [47 52 49  1 47 58  1 44]\n",
      " [43 39 49  1 47 52  1 54]\n",
      " [51 43 57  1 44 56 53 51]], shape=(4, 8), dtype=int64)\n",
      "targets:\n",
      "(4, 8)\n",
      "tf.Tensor(\n",
      "[[ 1 44 47 45 59 56 43  1]\n",
      " [52 49  1 47 58  1 44 47]\n",
      " [39 49  1 47 52  1 54 59]\n",
      " [43 57  1 44 56 53 51  1]], shape=(4, 8), dtype=int64)\n"
     ]
    }
   ],
   "source": [
    "batch_size = 4 #Number of independent input sequences to process in parallel for GPU\n",
    "block_size = 8 #Maximum context length to make predictions\n",
    "\n",
    "def get_batch(split):\n",
    "    #generate small batches of input x & target y\n",
    "    data = train_data if split == 'train' else val_data\n",
    "    randPos = tf.dtypes.cast(tf.random.uniform((batch_size,), minval=0, maxval=(len(data)-block_size)), dtype=tf.int32)\n",
    "    print(randPos) # random positions in the whole datasets to grab block size chunks\n",
    "    xbatch = tf.stack([data[i:i+block_size] for i in randPos])\n",
    "    ybatch = tf.stack([data[i+1:i+block_size+1] for i in randPos])\n",
    "    \n",
    "    return xbatch, ybatch\n",
    "\n",
    "xbatch, ybatch = get_batch('train')\n",
    "\n",
    "print('inputs:')\n",
    "print(xbatch.shape)\n",
    "print(xbatch)\n",
    "\n",
    "print('targets:')\n",
    "print(ybatch.shape)\n",
    "print(ybatch)"
   ]
  },
  {
   "cell_type": "code",
   "execution_count": 46,
   "id": "dbab9a2d",
   "metadata": {},
   "outputs": [
    {
     "name": "stdout",
     "output_type": "stream",
     "text": [
      "for input:  [43]   target is:  1\n",
      "for input:  [43, 1]   target is:  44\n",
      "for input:  [43, 1, 44]   target is:  47\n",
      "for input:  [43, 1, 44, 47]   target is:  45\n",
      "for input:  [43, 1, 44, 47, 45]   target is:  59\n",
      "for input:  [43, 1, 44, 47, 45, 59]   target is:  56\n",
      "for input:  [43, 1, 44, 47, 45, 59, 56]   target is:  43\n",
      "for input:  [43, 1, 44, 47, 45, 59, 56, 43]   target is:  1\n",
      "for input:  [47]   target is:  52\n",
      "for input:  [47, 52]   target is:  49\n",
      "for input:  [47, 52, 49]   target is:  1\n",
      "for input:  [47, 52, 49, 1]   target is:  47\n",
      "for input:  [47, 52, 49, 1, 47]   target is:  58\n",
      "for input:  [47, 52, 49, 1, 47, 58]   target is:  1\n",
      "for input:  [47, 52, 49, 1, 47, 58, 1]   target is:  44\n",
      "for input:  [47, 52, 49, 1, 47, 58, 1, 44]   target is:  47\n",
      "for input:  [43]   target is:  39\n",
      "for input:  [43, 39]   target is:  49\n",
      "for input:  [43, 39, 49]   target is:  1\n",
      "for input:  [43, 39, 49, 1]   target is:  47\n",
      "for input:  [43, 39, 49, 1, 47]   target is:  52\n",
      "for input:  [43, 39, 49, 1, 47, 52]   target is:  1\n",
      "for input:  [43, 39, 49, 1, 47, 52, 1]   target is:  54\n",
      "for input:  [43, 39, 49, 1, 47, 52, 1, 54]   target is:  59\n",
      "for input:  [51]   target is:  43\n",
      "for input:  [51, 43]   target is:  57\n",
      "for input:  [51, 43, 57]   target is:  1\n",
      "for input:  [51, 43, 57, 1]   target is:  44\n",
      "for input:  [51, 43, 57, 1, 44]   target is:  56\n",
      "for input:  [51, 43, 57, 1, 44, 56]   target is:  53\n",
      "for input:  [51, 43, 57, 1, 44, 56, 53]   target is:  51\n",
      "for input:  [51, 43, 57, 1, 44, 56, 53, 51]   target is:  1\n"
     ]
    }
   ],
   "source": [
    "for row in range(batch_size):\n",
    "    for token in range(block_size):\n",
    "        context = xbatch[row, :token+1]\n",
    "        target = ybatch[row, token]\n",
    "        print('for input: ',context.numpy().tolist(),'  target is: ',target.numpy().tolist())"
   ]
  },
  {
   "cell_type": "markdown",
   "id": "f49bda47",
   "metadata": {},
   "source": [
    "## 3 Bigram Language Model "
   ]
  },
  {
   "cell_type": "code",
   "execution_count": 47,
   "id": "d9351e90",
   "metadata": {},
   "outputs": [],
   "source": [
    "#todo"
   ]
  },
  {
   "cell_type": "code",
   "execution_count": null,
   "id": "1801bd48",
   "metadata": {},
   "outputs": [],
   "source": []
  }
 ],
 "metadata": {
  "kernelspec": {
   "display_name": "Python 3.8 (tensorflow-gpu)",
   "language": "python",
   "name": "tensorflow-gpu"
  },
  "language_info": {
   "codemirror_mode": {
    "name": "ipython",
    "version": 3
   },
   "file_extension": ".py",
   "mimetype": "text/x-python",
   "name": "python",
   "nbconvert_exporter": "python",
   "pygments_lexer": "ipython3",
   "version": "3.8.18"
  }
 },
 "nbformat": 4,
 "nbformat_minor": 5
}
