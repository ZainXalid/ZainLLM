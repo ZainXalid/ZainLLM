{
 "cells": [
  {
   "cell_type": "markdown",
   "id": "b341b13c",
   "metadata": {},
   "source": [
    "## 1 Downloading The Dataset"
   ]
  },
  {
   "cell_type": "code",
   "execution_count": 214,
   "id": "a267d3c1",
   "metadata": {},
   "outputs": [],
   "source": [
    "#Downloading dataset to train on.\n",
    "\n",
    "#!wget https://raw.githubusercontent.com/karpathy/char-rnn/master/data/tinyshakespeare/input.txt"
   ]
  },
  {
   "cell_type": "code",
   "execution_count": 215,
   "id": "8d581d30",
   "metadata": {},
   "outputs": [
    {
     "name": "stdout",
     "output_type": "stream",
     "text": [
      "Total number of characters in the dataset :  1115394\n"
     ]
    }
   ],
   "source": [
    "with open('../dataset.txt','r',encoding='utf-8') as data:\n",
    "    text = data.read()\n",
    "    \n",
    "print(\"Total number of characters in the dataset : \",len(text))"
   ]
  },
  {
   "cell_type": "code",
   "execution_count": 216,
   "id": "9bb8b8bc",
   "metadata": {},
   "outputs": [
    {
     "name": "stdout",
     "output_type": "stream",
     "text": [
      "First 100 characters :  First Citizen:\n",
      "Before we proceed any further, hear me speak.\n",
      "\n",
      "All:\n",
      "Speak, speak.\n",
      "\n",
      "First Citizen:\n",
      "You\n"
     ]
    }
   ],
   "source": [
    "print('First 100 characters : ', text[:100])"
   ]
  },
  {
   "cell_type": "markdown",
   "id": "fe656b43",
   "metadata": {},
   "source": [
    "## 2 Processing The Dataset "
   ]
  },
  {
   "cell_type": "markdown",
   "id": "7ee78598",
   "metadata": {},
   "source": [
    "### 2.1 Building Vocabulary "
   ]
  },
  {
   "cell_type": "code",
   "execution_count": 217,
   "id": "070c06b4",
   "metadata": {},
   "outputs": [
    {
     "name": "stdout",
     "output_type": "stream",
     "text": [
      "Number of unique characters in the dataset = 65\n",
      "\n",
      "Which are following : \n",
      " \n",
      " !$&',-.3:;?ABCDEFGHIJKLMNOPQRSTUVWXYZabcdefghijklmnopqrstuvwxyz\n"
     ]
    }
   ],
   "source": [
    "chars = sorted(list(set(text)))\n",
    "vocab_size = len(chars)\n",
    "\n",
    "print('Number of unique characters in the dataset =',vocab_size)\n",
    "print('\\nWhich are following : \\n',''.join(chars))"
   ]
  },
  {
   "cell_type": "markdown",
   "id": "86339f7a",
   "metadata": {},
   "source": [
    "### 2.2 Building Tokenizer  (Custom Encoder, Decoder)"
   ]
  },
  {
   "cell_type": "code",
   "execution_count": 218,
   "id": "652167cc",
   "metadata": {},
   "outputs": [],
   "source": [
    "#mapping individual charaters to integers \n",
    "\n",
    "encoder = { char:i for i,char in enumerate(chars)}\n",
    "decoder = { i:char for i,char in enumerate(chars)}\n",
    "\n",
    "encode = lambda string: [encoder[char] for char in string]\n",
    "decode = lambda integers: [decoder[i] for i in integers]"
   ]
  },
  {
   "cell_type": "code",
   "execution_count": 219,
   "id": "ceabbae5",
   "metadata": {},
   "outputs": [
    {
     "name": "stdout",
     "output_type": "stream",
     "text": [
      "Encoded Zain Khalid \n",
      "=  [38, 39, 47, 52, 1, 23, 46, 39, 50, 47, 42]\n",
      "\n",
      "Decoded  [38, 39, 47, 52, 1, 23, 46, 39, 50, 47, 42] \n",
      "= Zain Khalid\n"
     ]
    }
   ],
   "source": [
    "zk = encode('Zain Khalid')\n",
    "print('Encoded Zain Khalid \\n= ',zk)\n",
    "print('\\nDecoded ',zk,'\\n=', ''.join(decode(zk)))"
   ]
  },
  {
   "cell_type": "markdown",
   "id": "73d0ea91",
   "metadata": {},
   "source": [
    "### 2.3 Encoding The Dataset "
   ]
  },
  {
   "cell_type": "code",
   "execution_count": 220,
   "id": "ac15cbc7",
   "metadata": {},
   "outputs": [],
   "source": [
    "import tensorflow as tf"
   ]
  },
  {
   "cell_type": "code",
   "execution_count": 221,
   "id": "236f9d41",
   "metadata": {},
   "outputs": [
    {
     "name": "stdout",
     "output_type": "stream",
     "text": [
      "(1115394,) <dtype: 'int64'>\n"
     ]
    }
   ],
   "source": [
    "data = tf.convert_to_tensor(encode(text), dtype=tf.int64)\n",
    "print(data.shape, data.dtype)"
   ]
  },
  {
   "cell_type": "code",
   "execution_count": 222,
   "id": "b00e09d3",
   "metadata": {},
   "outputs": [
    {
     "name": "stdout",
     "output_type": "stream",
     "text": [
      "tf.Tensor(\n",
      "[18 47 56 57 58  1 15 47 58 47 64 43 52 10  0 14 43 44 53 56 43  1 61 43\n",
      "  1 54 56 53 41 43 43 42  1 39 52 63  1 44 59 56 58 46 43 56  6  1 46 43\n",
      " 39 56  1 51 43  1 57 54 43 39 49  8  0  0 13 50 50 10  0 31 54 43 39 49\n",
      "  6  1 57 54 43 39 49  8  0  0 18 47 56 57 58  1 15 47 58 47 64 43 52 10\n",
      "  0 37 53 59], shape=(100,), dtype=int64)\n"
     ]
    }
   ],
   "source": [
    "print(data[:100])"
   ]
  },
  {
   "cell_type": "markdown",
   "id": "5f577ad8",
   "metadata": {},
   "source": [
    "### 2.4 Splitting the dataset (Train,Validate) "
   ]
  },
  {
   "cell_type": "code",
   "execution_count": 223,
   "id": "84febfe1",
   "metadata": {},
   "outputs": [],
   "source": [
    "limit = int(0.9 * len(data))\n",
    "\n",
    "train_data = data[:limit]\n",
    "val_data = data[limit:]"
   ]
  },
  {
   "cell_type": "code",
   "execution_count": 224,
   "id": "b5c8a915",
   "metadata": {},
   "outputs": [
    {
     "name": "stdout",
     "output_type": "stream",
     "text": [
      "tf.Tensor(\n",
      "[18 47 56 57 58  1 15 47 58 47 64 43 52 10  0 14 43 44 53 56 43  1 61 43\n",
      "  1 54 56 53 41 43 43 42  1 39 52 63  1 44 59 56 58 46 43 56  6  1 46 43\n",
      " 39 56  1 51 43  1 57 54 43 39 49  8  0  0 13 50 50 10  0 31 54 43 39 49\n",
      "  6  1 57 54 43 39 49  8  0  0 18 47 56 57 58  1 15 47 58 47 64 43 52 10\n",
      "  0 37 53 59], shape=(100,), dtype=int64)\n"
     ]
    }
   ],
   "source": [
    "print(train_data[:100])"
   ]
  },
  {
   "cell_type": "markdown",
   "id": "4b6b21d7",
   "metadata": {},
   "source": [
    "### 2.5 Chunking Dataset in Blocks (x,y) (To Train Transformer) "
   ]
  },
  {
   "cell_type": "markdown",
   "id": "6fdb8e09",
   "metadata": {},
   "source": [
    "#### Concept "
   ]
  },
  {
   "cell_type": "code",
   "execution_count": 225,
   "id": "373a72ba",
   "metadata": {},
   "outputs": [
    {
     "data": {
      "text/plain": [
       "<tf.Tensor: shape=(9,), dtype=int64, numpy=array([18, 47, 56, 57, 58,  1, 15, 47, 58], dtype=int64)>"
      ]
     },
     "execution_count": 225,
     "metadata": {},
     "output_type": "execute_result"
    }
   ],
   "source": [
    "block_size = 8\n",
    "train_data[:block_size+1]"
   ]
  },
  {
   "cell_type": "code",
   "execution_count": 226,
   "id": "71618117",
   "metadata": {},
   "outputs": [
    {
     "name": "stdout",
     "output_type": "stream",
     "text": [
      "for input:  [18]   target is:  47\n",
      "for input:  [18, 47]   target is:  56\n",
      "for input:  [18, 47, 56]   target is:  57\n",
      "for input:  [18, 47, 56, 57]   target is:  58\n",
      "for input:  [18, 47, 56, 57, 58]   target is:  1\n",
      "for input:  [18, 47, 56, 57, 58, 1]   target is:  15\n",
      "for input:  [18, 47, 56, 57, 58, 1, 15]   target is:  47\n",
      "for input:  [18, 47, 56, 57, 58, 1, 15, 47]   target is:  58\n"
     ]
    }
   ],
   "source": [
    "x = train_data[:block_size]\n",
    "y = train_data[1:block_size+1]\n",
    "\n",
    "for token in range(block_size):\n",
    "    context = x[:token+1]\n",
    "    target = y[token]\n",
    "    print('for input: ',context.numpy().tolist(),'  target is: ',target.numpy().tolist())"
   ]
  },
  {
   "cell_type": "markdown",
   "id": "21156ccd",
   "metadata": {},
   "source": [
    "#### Implementation "
   ]
  },
  {
   "cell_type": "code",
   "execution_count": 227,
   "id": "219eeebc",
   "metadata": {},
   "outputs": [
    {
     "name": "stdout",
     "output_type": "stream",
     "text": [
      "inputs:\n",
      "(4, 8)\n",
      "tf.Tensor(\n",
      "[[58  1 44 47 56 57 58  6]\n",
      " [57 11  0 13 52 42  1 51]\n",
      " [43 51  1 40 53 58 46  8]\n",
      " [53 52 45  1 21  1 57 46]], shape=(4, 8), dtype=int64)\n",
      "targets:\n",
      "(4, 8)\n",
      "tf.Tensor(\n",
      "[[ 1 44 47 56 57 58  6  1]\n",
      " [11  0 13 52 42  1 51 39]\n",
      " [51  1 40 53 58 46  8  0]\n",
      " [52 45  1 21  1 57 46 39]], shape=(4, 8), dtype=int64)\n"
     ]
    }
   ],
   "source": [
    "batch_size = 4 #Number of independent input sequences to process in parallel for GPU\n",
    "block_size = 8 #Maximum context length to make predictions\n",
    "\n",
    "def get_batch(split):\n",
    "    #generate small batches of input x & target y\n",
    "    data = train_data if split == 'train' else val_data\n",
    "    randPos = tf.dtypes.cast(tf.random.uniform((batch_size,), minval=0, maxval=(len(data)-block_size)), dtype=tf.int32)\n",
    "    #print(randPos) # random positions in the whole datasets to grab block size chunks\n",
    "    xbatch = tf.stack([data[i:i+block_size] for i in randPos])\n",
    "    ybatch = tf.stack([data[i+1:i+block_size+1] for i in randPos])\n",
    "    \n",
    "    return xbatch, ybatch\n",
    "\n",
    "xbatch, ybatch = get_batch('train')\n",
    "\n",
    "print('inputs:')\n",
    "print(xbatch.shape)\n",
    "print(xbatch)\n",
    "\n",
    "print('targets:')\n",
    "print(ybatch.shape)\n",
    "print(ybatch)"
   ]
  },
  {
   "cell_type": "code",
   "execution_count": 228,
   "id": "badb4053",
   "metadata": {},
   "outputs": [
    {
     "name": "stdout",
     "output_type": "stream",
     "text": [
      "for input:  [58]   target is:  1\n",
      "for input:  [58, 1]   target is:  44\n",
      "for input:  [58, 1, 44]   target is:  47\n",
      "for input:  [58, 1, 44, 47]   target is:  56\n",
      "for input:  [58, 1, 44, 47, 56]   target is:  57\n",
      "for input:  [58, 1, 44, 47, 56, 57]   target is:  58\n",
      "for input:  [58, 1, 44, 47, 56, 57, 58]   target is:  6\n",
      "for input:  [58, 1, 44, 47, 56, 57, 58, 6]   target is:  1\n",
      "for input:  [57]   target is:  11\n",
      "for input:  [57, 11]   target is:  0\n",
      "for input:  [57, 11, 0]   target is:  13\n",
      "for input:  [57, 11, 0, 13]   target is:  52\n",
      "for input:  [57, 11, 0, 13, 52]   target is:  42\n",
      "for input:  [57, 11, 0, 13, 52, 42]   target is:  1\n",
      "for input:  [57, 11, 0, 13, 52, 42, 1]   target is:  51\n",
      "for input:  [57, 11, 0, 13, 52, 42, 1, 51]   target is:  39\n",
      "for input:  [43]   target is:  51\n",
      "for input:  [43, 51]   target is:  1\n",
      "for input:  [43, 51, 1]   target is:  40\n",
      "for input:  [43, 51, 1, 40]   target is:  53\n",
      "for input:  [43, 51, 1, 40, 53]   target is:  58\n",
      "for input:  [43, 51, 1, 40, 53, 58]   target is:  46\n",
      "for input:  [43, 51, 1, 40, 53, 58, 46]   target is:  8\n",
      "for input:  [43, 51, 1, 40, 53, 58, 46, 8]   target is:  0\n",
      "for input:  [53]   target is:  52\n",
      "for input:  [53, 52]   target is:  45\n",
      "for input:  [53, 52, 45]   target is:  1\n",
      "for input:  [53, 52, 45, 1]   target is:  21\n",
      "for input:  [53, 52, 45, 1, 21]   target is:  1\n",
      "for input:  [53, 52, 45, 1, 21, 1]   target is:  57\n",
      "for input:  [53, 52, 45, 1, 21, 1, 57]   target is:  46\n",
      "for input:  [53, 52, 45, 1, 21, 1, 57, 46]   target is:  39\n"
     ]
    }
   ],
   "source": [
    "for row in range(batch_size):\n",
    "    for token in range(block_size):\n",
    "        context = xbatch[row, :token+1]\n",
    "        target = ybatch[row, token]\n",
    "        print('for input: ',context.numpy().tolist(),'  target is: ',target.numpy().tolist())"
   ]
  },
  {
   "cell_type": "markdown",
   "id": "61cfbc39",
   "metadata": {},
   "source": [
    "## 3 Bigram Language Model "
   ]
  },
  {
   "cell_type": "markdown",
   "id": "96495959",
   "metadata": {},
   "source": [
    "### 3.1 Model Architecture  "
   ]
  },
  {
   "cell_type": "code",
   "execution_count": 229,
   "id": "33ef50c8",
   "metadata": {
    "scrolled": false
   },
   "outputs": [],
   "source": [
    "import tensorflow as tf\n",
    "\n",
    "class BigramLanguageModel(tf.keras.Model):\n",
    "\n",
    "    def __init__(self, vocab_size):\n",
    "        super(BigramLanguageModel, self).__init__()\n",
    "        self.token_embedding_table = tf.keras.layers.Embedding(vocab_size, vocab_size)\n",
    "\n",
    "    def call(self, idx, targets=None, training=False):\n",
    "        logits = self.token_embedding_table(idx)  # (B, T, C)\n",
    "\n",
    "        if targets is None:\n",
    "            loss = None\n",
    "        else:\n",
    "            B, T, C = logits.shape\n",
    "            logits = tf.reshape(logits, (B*T, C))\n",
    "            targets = tf.reshape(targets, (B*T,))\n",
    "            loss = tf.reduce_mean(\n",
    "                tf.nn.sparse_softmax_cross_entropy_with_logits(logits=logits, labels=targets)\n",
    "            )\n",
    "\n",
    "        return logits, loss\n",
    "\n",
    "    def generate(self, idx, max_new_tokens):\n",
    "        for _ in range(max_new_tokens):\n",
    "            logits, _ = self(idx)\n",
    "            logits = logits[:, -1, :]  # (B, C)\n",
    "            probs = tf.nn.softmax(logits, axis=-1)  # (B, C)\n",
    "            idx_next = tf.random.categorical(tf.math.log(probs), 1)  # (B, 1)\n",
    "            idx = tf.concat([idx, idx_next], axis=1)  # (B, T+1)\n",
    "        return idx\n"
   ]
  },
  {
   "cell_type": "markdown",
   "id": "221db011",
   "metadata": {},
   "source": [
    "### 3.2 Model Initialization  "
   ]
  },
  {
   "cell_type": "code",
   "execution_count": 165,
   "id": "fb6726b8",
   "metadata": {},
   "outputs": [
    {
     "name": "stdout",
     "output_type": "stream",
     "text": [
      "(32, 65)\n",
      "tf.Tensor(4.183278, shape=(), dtype=float32)\n"
     ]
    }
   ],
   "source": [
    "model = BigramLanguageModel(vocab_size)\n",
    "\n",
    "\n",
    "logits, loss = model(xbatch, ybatch)\n",
    "print(logits.shape)\n",
    "print(loss)"
   ]
  },
  {
   "cell_type": "markdown",
   "id": "36103aec",
   "metadata": {},
   "source": [
    "#### Untrained Model Results "
   ]
  },
  {
   "cell_type": "code",
   "execution_count": 166,
   "id": "00569d46",
   "metadata": {
    "scrolled": true
   },
   "outputs": [
    {
     "name": "stdout",
     "output_type": "stream",
     "text": [
      "\n",
      "vgAe!s,pCa'.dOxGLHl-pmfzVuC.x.peii\n",
      "I?WyawO;pCj'hBjyrManlLk\n",
      "qrM3E.cNQK!l',Ekbp:ya\n",
      "k-xpxdYqD$DfRtn&tvO\n"
     ]
    }
   ],
   "source": [
    "print(''.join(decode(model.generate(idx=tf.zeros((1, 1), dtype=tf.int64), max_new_tokens=100).numpy()[0].tolist())))\n",
    "\n",
    "#Total Garbage"
   ]
  },
  {
   "cell_type": "markdown",
   "id": "bb31749e",
   "metadata": {},
   "source": [
    "### 3.3 Model Training "
   ]
  },
  {
   "cell_type": "code",
   "execution_count": 167,
   "id": "0d46a820",
   "metadata": {},
   "outputs": [],
   "source": [
    "optimizer = tf.keras.optimizers.Adam(learning_rate=1e-3)"
   ]
  },
  {
   "cell_type": "code",
   "execution_count": 170,
   "id": "6ee76042",
   "metadata": {},
   "outputs": [
    {
     "name": "stdout",
     "output_type": "stream",
     "text": [
      "Loss =  2.4875288\n"
     ]
    }
   ],
   "source": [
    "batch_size = 32\n",
    "num_steps = 10000\n",
    "\n",
    "for step in range(num_steps):\n",
    "    # Sample a batch of data\n",
    "    xbatch, ybatch = get_batch('train')  # Assuming you have a function get_batch\n",
    "\n",
    "    # Evaluate the loss\n",
    "    with tf.GradientTape() as tape:\n",
    "        logits, loss = model(xbatch, ybatch)\n",
    "\n",
    "    # Compute gradients and update weights\n",
    "    gradients = tape.gradient(loss, model.trainable_variables)\n",
    "    optimizer.apply_gradients(zip(gradients, model.trainable_variables))\n",
    "\n",
    "print('Loss = ', loss.numpy())\n"
   ]
  },
  {
   "cell_type": "code",
   "execution_count": 213,
   "id": "e3c015f4",
   "metadata": {
    "scrolled": true
   },
   "outputs": [
    {
     "name": "stdout",
     "output_type": "stream",
     "text": [
      "\n",
      "Dol hatth m me.\n",
      "ROPrdy hay vere t ord?\n",
      "Y?\n",
      "Then vee nt:\n",
      "\n",
      "IScurid;\n",
      "ARot\n",
      "\n",
      "MESCre.\n",
      "Domete aun:\n",
      "LAnit, f TI cke, r'son or y:\n",
      "\n",
      "IEO mars hin a\n",
      "LULaupe atrs by kematheeancyou h inth mpof s; bres ne limome fur?\n",
      "TI'sf as hOLAKigethy Ifrethemy y,\n",
      "flit wind LLYot IUS:\n",
      "I bondlin:\n",
      "Elleve? hthese, ano tu d y, s; y\n"
     ]
    }
   ],
   "source": [
    "#Somewhat stuctured results\n",
    "\n",
    "print(''.join(decode(model.generate(idx=tf.zeros((1, 1), dtype=tf.int64), max_new_tokens=300).numpy()[0].tolist())))"
   ]
  },
  {
   "cell_type": "code",
   "execution_count": null,
   "id": "244e6a58",
   "metadata": {},
   "outputs": [],
   "source": []
  }
 ],
 "metadata": {
  "kernelspec": {
   "display_name": "Python 3.8 (tensorflow-gpu)",
   "language": "python",
   "name": "tensorflow-gpu"
  },
  "language_info": {
   "codemirror_mode": {
    "name": "ipython",
    "version": 3
   },
   "file_extension": ".py",
   "mimetype": "text/x-python",
   "name": "python",
   "nbconvert_exporter": "python",
   "pygments_lexer": "ipython3",
   "version": "3.8.18"
  }
 },
 "nbformat": 4,
 "nbformat_minor": 5
}
