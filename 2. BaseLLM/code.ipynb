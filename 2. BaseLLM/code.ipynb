{
 "cells": [
  {
   "cell_type": "markdown",
   "id": "a691fb66",
   "metadata": {},
   "source": [
    "## 1 Downloading The Dataset"
   ]
  },
  {
   "cell_type": "code",
   "execution_count": null,
   "id": "244fa1ef",
   "metadata": {},
   "outputs": [],
   "source": [
    "#Download the dataset to train on.\n",
    "\n",
    "#!wget https://raw.githubusercontent.com/karpathy/char-rnn/master/data/tinyshakespeare/input.txt"
   ]
  },
  {
   "cell_type": "code",
   "execution_count": 1,
   "id": "18da8998",
   "metadata": {},
   "outputs": [
    {
     "name": "stdout",
     "output_type": "stream",
     "text": [
      "Total number of characters in the dataset :  1115394\n"
     ]
    }
   ],
   "source": [
    "with open('../dataset.txt','r',encoding='utf-8') as data:\n",
    "    text = data.read()\n",
    "    \n",
    "print(\"Total number of characters in the dataset : \",len(text))"
   ]
  },
  {
   "cell_type": "code",
   "execution_count": 2,
   "id": "b90614a9",
   "metadata": {},
   "outputs": [
    {
     "name": "stdout",
     "output_type": "stream",
     "text": [
      "First 100 characters :  First Citizen:\n",
      "Before we proceed any further, hear me speak.\n",
      "\n",
      "All:\n",
      "Speak, speak.\n",
      "\n",
      "First Citizen:\n",
      "You\n"
     ]
    }
   ],
   "source": [
    "print('First 100 characters : ', text[:100])"
   ]
  },
  {
   "cell_type": "markdown",
   "id": "764cb894",
   "metadata": {},
   "source": [
    "## 2 Processing The Dataset "
   ]
  },
  {
   "cell_type": "markdown",
   "id": "e237673d",
   "metadata": {},
   "source": [
    "### 2.1 Building Vocabulary "
   ]
  },
  {
   "cell_type": "code",
   "execution_count": 3,
   "id": "a8b0c011",
   "metadata": {},
   "outputs": [],
   "source": [
    "from tokenizers import ByteLevelBPETokenizer"
   ]
  },
  {
   "cell_type": "code",
   "execution_count": 7,
   "id": "e6a3eae2",
   "metadata": {},
   "outputs": [],
   "source": [
    "# Tokenize using Byte Level BPE Tokenizer\n",
    "\n",
    "# Get unique tokens of whole words\n",
    "# unique_words = list(set(text.split()))\n",
    "# unique_text = ' '.join(unique_words)\n",
    "\n",
    "tokenizer = ByteLevelBPETokenizer()\n",
    "tokenizer.train_from_iterator([text], vocab_size=10000, min_frequency=3, special_tokens=[\"[PAD]\", \"[CLS]\", \"[SEP]\", \"[MASK]\"])\n",
    "\n"
   ]
  },
  {
   "cell_type": "code",
   "execution_count": 8,
   "id": "dc859b13",
   "metadata": {},
   "outputs": [],
   "source": [
    "# Get vocabulary from the trained tokenizer\n",
    "vocab = tokenizer.get_vocab()\n",
    "vocab_size = len(vocab)"
   ]
  },
  {
   "cell_type": "code",
   "execution_count": 9,
   "id": "821650bf",
   "metadata": {},
   "outputs": [
    {
     "name": "stdout",
     "output_type": "stream",
     "text": [
      "Number of unique tokens in the dataset = 9787\n",
      "\n",
      "Which are following : \n",
      " ! !' !-- \" # $ % & ' '! '-- '? 'd 'll 're 's 't ( ) * + , ,' ,-- - -- . .' .-- / 0 1 2 3 4 5 6 7 8 9 : :' :-- ; ;' ;-- < = > ? ?' ?-- @ A AB ABHOR ABHORSON ABRA ABRAHAM AD ADRIAN AEd AEdile AGE AL ALIS ALO ALONS ALONSO AM AMIL AN AND ANGE ANGELO ANIEL ANLEY ANT ANTIGON ANTIGONUS ANTONIO APULET AR ARCH ARCHBISHOP ARCHIDAM ARCHIDAMUS ARD ARENCE ARIEL ARINA ARLIS AS ATER ATH AU AUDIO AUFID AUFIDIUS AUTOL AUTOLYCUS Ab About Above Ac Acc Accursed Acquaint Ad Add Adieu Advance Af Aff Affection After Again Against Ah Al Alack Alas All Alone Although Am Amen Among Amongst An And Angelo Anon Another Any Apollo Apothecary App Appear Ar Are Arise Arm Art As At Attend Aufidius Aumerle Aw Awaked Away Ay B BA BAGO BAGOT BAL BALT BALTHAS BALTHASAR BAN BAPTIS BAPTISTA BAR BARNARD BARNARDINE BAST BEN BENVOLIO BER BIAN BIANCA BION BIONDEL BIONDELLO BIS BISHOP BL BLUNT BON BONA BOW BR BRA BRAKEN BRAKENBURY BRAY BRO BRUT BRUTUS BU BUCKINGHAM BURY BUS BUSHY BY Back Bad Ban Banish Be Bear Bearing Bec Because Become Becomes Before Beg Behold Being Bel Believe Belike Bes Beseech Beshrew Besides Best Bet Better Betw Between Betwixt Bid Bl Bless Blind Boat Boatswain Bohemia Bold Bore Both Bound Boy Br Bra Brave Bre Break Breat Breathe Bring Brother Brought But By C CA CALIBAN CAMIL CAMILLO CAPULET CAS CATES CATESBY CE CH CIS CIUS CL CLARENCE CLAUDIO CLE CLEOMEN CLEOMENES CLI CLIFF CLIFFORD COM COMINIUS CORIOLANUS CRO CU CURTIS CUS CY Ca Caius Call Came Camillo Can Cannot Canst Care Carry Cast Catesby Ch Charge Che Chi Children Citizen Citizens Cl Clarence Claudio Cle Clifford Clown Cold Com Come Comes Comfort Comm Command Commend Commit Con Cond Condemn Conf Confess Cons Consider Cont Content Coriol Coriolanus Could Courage Cousin Cry Cursed Cut D DA DEL DER DERBY DI DIN DINAND DIO DION DON DONE DOR DORCAS DORSET DU DUCH DUCHESS DUKE DW DWARD DY Dare Darest De Dear Death Def Den Deny Dep Des Desp Dest Destroy Did Didst Die Direct Dis Disp Dispatch Div Do Does Dost Doth Dou Down Draw Dro E EAR EARL EDWARD EL ELAND ELBOW ELLA EMI EMILIA EN ENCE ENIUS ENRY ENTIO EO EPH ER ERCY ERIA ERSET ES ESCA ESCALUS ESS ET ETER ETH EW EX EXETER EXTON EY Each Ed Edward Either Ele Else En End Enforce Eng England Enough Envir Er Ere Err Even Ever Evermore Every Ex Except F FER FERDINAND FF FID FL FLORIZ FLORIZEL FOL FORD FRAN FRANCIS FRI FRIAR FRO FROTH Fa Fair Faith Fall False Far Farewell Father Fear Fell Fellow Fetch Fie Fill Find Fine First Fit Five Fl Fly Follow Fool For Forbear Forbid Fore Forget Forgive Forth Forthwith Foul Found Fourth Fri Friar From Full G GAR GE GEORGE GH GI GILIA GLO GLOUCES GLOUCESTER GO GON GONZALO GOR GR GRE GREEN GREGOR GREGORY GREMIO GREY GRUMIO GUE Ga Gain Gainst Gaoler Gard Gardener Gentle Gentleman Gentlemen Get Ghost Girl Give Given Gives Gl Glad Gloucester Go God Gold Good Gra Grace Grand Grandam Great Groom Grumio Gu H HA HAM HASTINGS HENRY HER HERMIONE HN HOMAS HOP HOR HORTEN HORTENS HORTENSIO HY Ha Had Hadst Hail Hang Hap Happ Happily Happy Har Hard Hark Harp Harry Has Hast Hath Have Having He Hear Heart Heaven Heavens Help Hence Henry Her Here Hermione Hic Hie High His Ho Hold Holy Hortensio Host Hostess How Huntsman I IA IAN IANA IC ICH ICHARD ID IDAM IEL IGON IL IN INA INC INCE INCENTIO INE ING INGBRO INGBROKE INGS INIUS IO IOLAN ION IR IS ISAB ISABELLA IST IT IUS IZ If Ill Im Imagine Imp In Ind Indeed Inf Infer Ins Int Into Is It J JOHN JU JULIET Jesu Join Jul Juliet Just Justice K KATH KATHARINA KE KEN KING Katharina Keep Keeper Kind King Kn Knock Know Knows L LA LADY LAN LAND LAR LARTIUS LE LEONTES LET LEY LI LIA LIBAN LIET LINA LIS LIUS LO LORD LORDS LOUGH LOUGHBY LUC LUCENTIO LUCIO LUS LY Lady Last Lay Lead Leave Left Lend Less Lest Let Lie Lies Lieutenant Like Little Live Lives Lo Long Look Lord Lords Love Loved Lu Lucentio M MAMIL MAMILLIUS MAR MARCIUS MARIANA MEN MENENIUS MEO MER MERCU MERCUTIO MERLE MI MIL MIO MIONE MIRANDA MIST MISTRESS MON MOND MONTAGUE MOP MOPSA MOR MP Madam Made Make Makes Making Man Many Mar March Marcius Mariner Mark Marry Master Masters May Mayor Me Meaning Meantime Measure Men Mercy Mere Merely Messenger Methinks Methought Might Mine Mis Mist Mistake Mistress More Most Mount Much Mur Murder Music Must My Myself N NARD NATH NATHANIEL NE NIA NOR NORFOL NORFOLK NORTHUMBER NORTHUMBERLAND NS NT Name Nay Ne Near Neither Never Night Nine No Noble None Nor Norfolk Northumberland Not Nothing Now Nurse O OHN OL OLI OM OMAS OMEN ON ONIO ONTES OP OR ORD ORGE ORIOLAN ORIOLANUS ORIZ ORK OS OW OX OXFORD Obey Of Off Officer Oh Old On Once One Only Open Opp Or Our Out Oxford P PAGE PAR PARIS PAU PAULINA PER PERDI PERDITA PET PETER PETRUCH PETRUCHIO PH POLI POLIXEN POLIXENES POM POMP POMPEY PR PRINCE PRO PROSPER PROSPERO PTIS PU PULET Page Pale Pardon Part Patience Peace Pedant Per Perc Perchance Perhaps Persu Persuade Persuades Peter Petruchio Pit Pl Plain Plantagenet Play Please Pluck Poor Post Pr Pray Pre Prepare Pres Prithee Pro Proceed Proclaim Prosper Proud Prove Provost Pur Pursu Pursuivant Put Q QUE QUEEN Qu Que Queen Quick R RA RAN RANDA RATCLIFF RENCE RESS REY RI RIAN RICH RICHARD RICHMOND RIVERS RO ROMEO RR RTIS RUCH RUT RUTLAND RY Ratcliff Rather Re Read Ready Red Ref Rel Rem Remember Ren Renowned Rep Repair Repent Res Rescue Rest Ret Return Revol Ri Rich Richard Richmond Right Roman Rome Romeo Run S SA SAMP SAMPSON SE SEBAST SEBASTIAN SET SIC SICINIUS SIR SLY SOM SOMERSET SON SPER ST STANLEY STINGS Sad Save Saw Say Sc Se Seal Sec Second See Seeking Seize Sel Sen Senators Send Sent Servant Set Setting Sh Sha Shall Shalt Shame She Shepherd Should Show Showing Sic Signior Sin Since Sir Sirrah Sit Six Sland Sleep Sm Small Smile So Soft Some Somet Sometime Son Sorrow Soul Souls Sound Sp Speak Spoke St Stand Standing Stands Stanley Stay Still Stir Sto Stop Stri Strike Su Such Supp Suppose Sus Sw Swear Sweet T TA TAGUE TCLIFF TEN TER TES TH THAS THOMAS THUMBER TIO TIS TIUS TMOR TMORELAND TOL TON TRAN TRANIO TY TYBALT TYRR TYRREL Tailor Take Takes Talk Teach Tell Ten Th Than Thank Thanks That The Their Then There Therefore These They Thine Things Think Thinking Third This Thither Those Thou Though Thoughts Three Throng Through Throw Thus Thy Thyself Till Time Tis To Together Told Tong Tongue Too Touch Touching Toward Towards Tra Tran Tranio Trem True Truly Trust Tullus Turn Tush Tut Tw Twas Twenty Twere Twice Twill Twixt Two Tybalt U UC UCES UCH UCKING UCKINGHAM UE UGH UM UMBER UMIO UMNIA UNT UR URREY US UT Un Unb Uncle Under Unless Unt Until Unto Unw Up Upon Ur Urge V VAL VALERIA VER VERS VINCENTIO VIR VIRGILIA VOL VOLIO VOLUMNIA Verily Very Villain Virt Virtue Vols Volsce Vouchsafe W WAR WARWIC WARWICK WATER WES WESTMORELAND WIC Warwick Was We Welcome Well Went Were Wert Wh What Whate Whe When Whence Where Wherefore Wherein Whereof Whereto Whether Whi Which While Whiles Whilst Whither Who Whom Whoop Whose Why Widow Wife Will Wilt Wit With Withal Withdraw Within Without Witness Woe Women Worse Worthy Would Wouldst Wr Write X XEN Y YCUS YORK Ye Yea Yes Yet Yield Yonder You Young Your Yourself Z ZAB ZABETH ZALO ZWATER Zounds [ [CLS] [MASK] [PAD] [SEP] \\ ] ^ _ ` a ab abb able ables ably abour ac acc ace aced aces ach acher aches aching acious ack acket ackey acks acle acles acre act action actors acy ad adam ade aded adem ades adise ado ads adua adv advent adventure advised ady af afe aff after ag against agate age aged agems ages agine agot ague agues aid ail ailing ailor aily aim ain aining ains aint aintain ainted aints ainty air ais ait ak ake aked aken aker akes akest aking al alance ald ale aled ales alf aline alisbury alk alks all allel allow ally alm alo als alse alt alter alth alty am amb ambio ame amed ament aments ames amill amillo aming amity amp ams amy an anc ance ances anch ancy and andal ander anders ane ang ange angled angling aning ank anks anley another anous ans answer ant antag antage antagen antagenet antime ants antua anus any ap apable ape aper app appare apt aptain aptist ar arch ard arded ardel arden ardine ardon ards are ared arence arent arers ares areth arewell aries aring aris arison ark arl arling arlisle arm arn arry ars art arted arth arthage artius arts arwick ary as asant asci ascivious ase ased ases ash ashi ashy asing asion asite ask ason asonable asp ass assad ast astard aste asted aster asters astian asure asures asy at atch atching atcl atcliff ate ated ately ater ates atesby atest ath athan athaniel athar atharina athe athed ather athom atiate atic atience atient atin ating ation ations ative ato ator ators atory atri ats att atter attern attery attling ature au aud audio aughan aught aughter aughters aul ault aunt aus ause av ave aved aven avery aves aving avish avoided aw awd awful awn aws ax ay ayed ayer aying az aze azed azon b back ball balt ban band banished bat bation bb bble bborn be bear bearer bed beha being bel bell ber bered bering bert bery bes beseeming best bey bham bhors bid bit bject bl blance ble bled bles blind bling blood blown bly board bod boding bon book born bot bour bow boy br bra brain bray bre bred bri bric bro broke bs bt bur bury business but by c ca cal call called cals can cannot cap cape car cary cas cast cat cats cc cceed ce ced ceed ceit ceive ceived ceives ceiving cel cell cels cence cency cend cent centio cept certain ces cess cession cest cester ch cha chan chance change changing chard che ched chelor cher chers ches cheth chief child chio chm chmond cho chool ci cially cian cians cible cience cient cies cing cio cious cip cipl cis cius ck cks cl claim clam cle clock co cock com comb come comes comfort comp con cond cons constable cont content contin cor core corn corner could coun count counter cour cra craft creat creature cri ct cted ction ctions ctise ctor cts cue cued cure cured cus custom cy d dal dan danger daughter day dd dden dds de death ded deed deem deliver den dent der ders des dge dict dig ding dis dish dist dle do doing dom done door doubt down dra draw dro ds duce duke dur dward dy e ea eace each ead eak eal ealous eap ear earer earest earn ears ease eases east eat eave eaven eb ec ech echer eches ect ected ed edant eder ediment eding edious ednes ednesday eds edy ee eech eed eel eem eeming een eep eeper ees eet eeth ef eft eg ek eks el elcome eld ele eless eliver ell ella ellion ello ellow ellows elpho els elsh elt elting elve em ember embroke ement eminate emn emper empt en enance enant enator ence ences ench enches ency end ended ending endom ends ene ened enen enenius ener enerate enes eness enge enger ening enn enry ens ension ent enting entious entle entleman ently ents enture enty envol envolio eorge eous ep eping ept eptune er erby erc ercing ercy erd ere ered erer eress erest eria erily ering erity erle erman ern erns erona erous ers erset ersha ershire ersu ert ertain ertainty erv ervant ervation erve erved erves erving erwhelm ery es esar esh eshrew ess essed essel essenger est ested ester estion estiv estival esty esu esy et etch eter eth ethinks ethought etite etition etru etruchio ets ety eve ever every eves ew ewis ex exec ext ey eye eyed f fa faced fall fan father favour fe fect fection feel feit feits fellow fellows fend fer fess ff ffect ffer ffic fid fix fl fly fold folk foot for force forced ford fore form fort forth fortune forward found franch fret fri from ft fter fts ful fully fulness g gage gain gainst gar gare garet ge gea geal ged gelo gentle geon ger gers ges get gether gg gged gh ghan gher ght ghts gic ging give gl glass gle gled gment gnant go gom gone good got govern gra grace great greed grim groom grown gs gu guard gue gues gy h ha habit had haeth hage hal hall hallow ham hamed han hance hand hanging hant happ happy haps har hard harge harged has hast hat hath have haw he head headed heard heart hearted hed held hem hematic hen hence her here herit herited hern hertsey hes hest hi hich hile hilip hill him himself hind hing hip hire his hn ho hoeb hold holds honour hood hop hor hore hors horse host house how hra hur hy hyme hysic i ia iable ial iam ian ianca iance ians iant iar ias iate ib iban iber ible iby ic ical ican icate ication ice iced icer ices icester ichard icial icide icing icio icious ick icked ickle icle icles ict iction icular icy id idd ide ided idence ident ider idered iders ides iding idings idow ie iece ied ief iege iel ield ieldy ience ienn ienna ient ier iers ies iest iet iety ieu ieve ieved if ife iff iffe ifford ified ift ifter ifth iful ify ig igation ige igeia igence igent igh ighb ighbours ighs ight ighton ign igned ignior ignty igonus ike il ild ile iled ilence iles ilful ilia iliar ility ill illain illed illing ills illy ils ilt ilty ily im imble ime imely iment iments imes imo imois imple ims in ina inable inal inance inate ination inc ince incentio inces inct inctly ind ine ined iner iners ines iness inet ing ingbroke inger ingers ingham ingly ings inies ining inite inius ink inks inous ins int inu iny io iod iol ion iond iondello ions ior ious iously ip ipe ipp ips ipt iqu iquity ir ird ire irect ired ires irg iring irl irm irst irt irth iry is isa isbury isc ise ised isement ises isf ish ished isher ishes ishop ising ision isk isle isome ison isper iss ission ist ister isterous isting istress isure it ita itable itae ital itan itation itch itche ite ited iteous iter ites ith ithe ithee ither ities itiff ition itiz itizen itizens itol itor itories itors its itt ittany itted itten itting ittle itude itus ity ius iv ivant ive ived ively iven iveness iver ivered ivers ives iving ivity ix ixt ixture iz izab izard ize j ject join joy jud just k ke ked keep keley ken kens ker kes kest key kin kind king kn know ks ksbury ky l lace lain lanch land lar last lause law lay ld ldom ldren le lease lect led ledge leep lehill len leness ler les lesome less let lex ley lf li liament lic liction lied lier light like liness ling lip lish live livion ll lling llow lly lm lo lock long longs look lor lord lorn loso lou loucester lous love loved loves low lp ls lse lst lt lu lves ly lying lysses m made maid maids mak make makers mal man mand mar married mas mast master matter may mb mber mbles me meant med mediate men ment ments mer met min mind minded mion mione miss mission mistress mit mity mn mo mon mong mongst monstrous mony more morrow mory most mp mpet mph ms much my n nal name nant nat nce nd nder nders ne need nel ner ners nes ness net never new ney ng nib nicious night ning nk nken no none noon not nothing now nowledge nown ns nt nty nut ny o oa oard oat ob oble oc occ ock od odity oe oes oever of off oft og ohem ohemia ohn oin oint ointed oke ol ola olar old oldier oler olingbroke olix olixenes olk olks oll ollow oln olour ols olute olve olved oly om omach oman omans omas ome omen omenes omerset omes omet oming omp on ona onation once onci ond onder one oned ones onest oney ong ongs onio onounce onour ons onstant ont ontent ontes onus ony oo ood oof ooing ook ool oon oop oops oor oose oot op ope open opher ople ops or ord order ords ore orge oricles ories oriol orious oriz ork orn orney orough orous orrow orry ors orse orses orset ort ortal ortens ortensio orth orthy ory os ose osed oses osing osition oss ossess ost ot ote oted oth othe othecary other othes othing oting otion otland ots ott otted ou oubt oubted ouch ouches ouchs ouchsafe oud ough oughby ought oul ould oun ounce ound ounds ount ounty our ourage oured ourish ourn ours ourse ourth ous ouse ouses ousin ousins out outh outs ove oved over overed overy ow oward owbray ower owers owick owing owl own owned ows oy oyal oz ozine p par paration pardon pare part pass past pe pecially pect ped peian pen pence pense people per perate peration perience peror pers person pery pes pet pey ph phan phe pher pherd pho phy pic picion picious piece pin ping pinion pir pire piring pite pl place plain ple ples pling plish ploy po point poll pollo poor por port portion pose posed poses post posterous pothecary pp pped pper ppet pping ppy pr pray pre pres pret pretation pril pro proud ps pse pt pted pter ption ptory pture pul pular put q qu qua quaint qual que quess quet quiet quin quis r ra rac race ract rage rah raid raign rails raken rament ran rance ranch rand range ranio rank rant rat ratch rate rateful rates ratitude raw ray re read ready reant rease reat red ree reed reef reement reen rees reet reg regory rehe rehend rel reland rem reme remio ren rence rench rent repare report rer res resh ress ressed ressing ression rest ret reth retion rew rey ri riage rial riam rian riar rib ribe rible ribunes rich ricians rick ried rief riel ries rieve rif rift right ril rim ring rings rion rious rip ris rish rison rist rity ro roach rog roke roll rom ron rong ront roof room roop ror rosby ross roth rough rous row rown rows roy rs rt ru ruction rue ruised ruly rum rumio run runes rung rupt rust ry s same sand say sby sc scal scalus scap scape scaped school score se sea sec sed see seem seeming sel seless self sell selves sem semary sen sent sequ ser serv ses set seth settled sey sh sha shall shapen she shearing sheathe shell shepherd shi shine shining ship shire should show sia sic sick side sign sil since sing sion sir sire sist sl so soe soever some somet sometimes son song sorrow sp spe speak sper spo spurgh ss sses st stable stand standing stant stantial staring ster stery stit stone stood stool stra strel strong strous strue su such sue sues suing sw swain swear sweet swer sworn t ta take te ted teen tell ten tend ter terate tered tering ternal ters th than that the thee their them then ther there therefore these they thi thing things think this thou though thought three thren thrift throw thumber thumberland thw thy tic tied ties time tin tinent ting tis tised tle tled tles to together ton tong too tree trees trick true ts tsey tune tw twas twere twill twixt two twould ty u ua ual ually uary ub ubs uc uce uced uch uck uckingham ud uddy ude ue ued ueless ues uff ufid ufidius ug uge ugg ught uild uing uish uity uke ukes ul ular ulate ulation ule ules ulet ulf ull ulls ullus ully ulous ult ulting um umb umber umble umbling ume umed ument uments umerle umes umn umny ump umps ums un unate unch und unday under undred undy une uned unes ung unis unning uns unt unts untsman uous up upid upon upt ur ura ural urance urb urbs urch urde urderer ure ured ures urg urgh uries uring urious urity urn urope urp urps urrey urs ursday urse ursed urther urtis urvy ury us usale usc use used uses ush ushes ushi ushing ushy usic usiness using usion ussia ust usters ustice ustom usual ut utation utch utches ute uted utenant uteous utes uth uthor utio ution utland uto uts utus uty v vail val vance ve ved vel vell ven vener venient vent ventry ver verdone vere vering vern verns vers verse versy verty very ves vest vet vey vice vided vied vil vill ving viol vion vior vious vir vish vity vive vo voc voided voke vol vost vour vours voury vy w war ward warn warrant was water way ways wd we weal wear weary ween weet well wench wer were wh what whe whelm when where which who why wick widow wife will wind wing wise wit with withal witted wn woman women work worn worth would wr x xe xeter xford xt xton y yal yally yard ybalt ycor yet ying ymph yond you your yp yr yrrel z ze zed zen zwater zz { | } ~ ¡ ¢ £ ¤ ¥ ¦ § ¨ © ª « ¬ ® ¯ ° ± ² ³ ´ µ ¶ · ¸ ¹ º » ¼ ½ ¾ ¿ À Á Â Ã Ä Å Æ Ç È É Ê Ë Ì Í Î Ï Ð Ñ Ò Ó Ô Õ Ö × Ø Ù Ú Û Ü Ý Þ ß à á â ã ä å æ ç è é ê ë ì í î ï ð ñ ò ó ô õ ö ÷ ø ù ú û ü ý þ ÿ Ā ā Ă ă Ą ą Ć ć Ĉ ĉ Ċ ċ Č č Ď ď Đ đ Ē ē Ĕ ĕ Ė ė Ę ę Ě ě Ĝ ĝ Ğ ğ Ġ Ġ& Ġ' ĠA ĠAE ĠAN ĠANNE ĠAU ĠAUMERLE ĠAbhors ĠAbhorson ĠAd ĠAdam ĠAdieu ĠAfri ĠAg ĠAh ĠAl ĠAlas ĠAlban ĠAll ĠAm ĠAmazon ĠAn ĠAnd ĠAngelo ĠAnne ĠAnswer ĠAnt ĠAnti ĠAntiates ĠAntigonus ĠAntium ĠAntonio ĠApollo ĠApril ĠAr ĠAriel ĠAs ĠAt ĠAufidius ĠAumerle ĠAway ĠB ĠBOL ĠBOLINGBROKE ĠBagot ĠBaptist ĠBaptista ĠBarn ĠBarnardine ĠBe ĠBel ĠBenvolio ĠBer ĠBerkeley ĠBes ĠBianca ĠBiondello ĠBishop ĠBl ĠBlunt ĠBohemia ĠBolingbroke ĠBona ĠBoy ĠBr ĠBraken ĠBrakenbury ĠBrand ĠBrandon ĠBret ĠBrist ĠBristol ĠBrittany ĠBuckingham ĠBurg ĠBurgundy ĠBushy ĠBut ĠBy ĠC ĠCAPULET ĠCARLIS ĠCARLISLE ĠCa ĠCaesar ĠCaius ĠCal ĠCalais ĠCaliban ĠCall ĠCambio ĠCamillo ĠCan ĠCap ĠCapitol ĠCaptain ĠCapulet ĠCapulets ĠCarthage ĠCast ĠCastle ĠCatesby ĠCh ĠChertsey ĠChrist ĠChristendom ĠChristian ĠChristopher ĠChurch ĠCitizen ĠCl ĠClarence ĠClaudio ĠCle ĠCleomenes ĠClifford ĠCo ĠCobham ĠCom ĠCome ĠCominius ĠCons ĠConspir ĠConspirator ĠCoriol ĠCoriolanus ĠCorioli ĠCot ĠCounty ĠCoventry ĠCrosby ĠCupid ĠCurtis ĠCy ĠD ĠDe ĠDeath ĠDelpho ĠDelphos ĠDerby ĠDian ĠDid ĠDido ĠDion ĠDo ĠDoricles ĠDorset ĠDuke ĠE ĠEDWARD ĠELI ĠELIZABETH ĠELY ĠEarl ĠEdward ĠEl ĠElbow ĠElizab ĠElizabeth ĠEly ĠEm ĠEmilia ĠEng ĠEngland ĠEnglish ĠEnglishman ĠEscalus ĠEurope ĠEven ĠExeter ĠF ĠFIT ĠFITZWATER ĠFare ĠFarewell ĠFear ĠFifth ĠFirst ĠFl ĠFlore ĠFloriz ĠFlorizel ĠFor ĠForrest ĠFortune ĠFourth ĠFran ĠFrance ĠFrancis ĠFrench ĠFriar ĠFroth ĠG ĠGAU ĠGAUNT ĠGREY ĠGaunt ĠGentle ĠGentleman ĠGeorge ĠGive ĠGloucester ĠGo ĠGod ĠGood ĠGree ĠGreece ĠGreen ĠGregory ĠGremio ĠGrey ĠGrumio ĠGuild ĠH ĠHENRY ĠHa ĠHad ĠHallow ĠHallowmas ĠHappy ĠHark ĠHarry ĠHas ĠHast ĠHastings ĠHave ĠHe ĠHear ĠHeaven ĠHector ĠHelp ĠHenry ĠHer ĠHerc ĠHercules ĠHere ĠHereford ĠHermione ĠHim ĠHis ĠHortensio ĠHow ĠHuntsman ĠI ĠII ĠIII ĠIV ĠIf ĠIn ĠIreland ĠIrish ĠIs ĠIsab ĠIsabel ĠIsabella ĠIt ĠIta ĠItaly ĠJ ĠJOHN ĠJack ĠJer ĠJerusale ĠJerusalem ĠJesu ĠJohn ĠJove ĠJud ĠJul ĠJule ĠJuliet ĠJulius ĠJun ĠJuno ĠJup ĠJupiter ĠK ĠKING ĠKate ĠKatharina ĠKeeper ĠKent ĠKing ĠL ĠLAU ĠLAURENCE ĠLEW ĠLEWIS ĠLady ĠLam ĠLammas ĠLanc ĠLancaster ĠLartius ĠLatin ĠLau ĠLaurence ĠLay ĠLe ĠLeave ĠLeontes ĠLet ĠLewis ĠLicio ĠLod ĠLodowick ĠLond ĠLondon ĠLook ĠLord ĠLords ĠLove ĠLovel ĠLu ĠLucentio ĠLucio ĠLud ĠLudlow ĠM ĠMAR ĠMARGAR ĠMARGARET ĠMOW ĠMOWBRAY ĠMab ĠMadam ĠMantua ĠMar ĠMarch ĠMarcius ĠMargaret ĠMarian ĠMariana ĠMark ĠMars ĠMarshal ĠMaster ĠMay ĠMayor ĠMenenius ĠMerc ĠMercury ĠMercutio ĠMessenger ĠMil ĠMilan ĠMin ĠMinola ĠMistress ĠMont ĠMontague ĠMontagues ĠMontgom ĠMontgomery ĠMowbray ĠMurderer ĠMusic ĠMusician ĠMy ĠN ĠNap ĠNaples ĠNature ĠNay ĠNed ĠNeptune ĠNo ĠNor ĠNorfolk ĠNorthumberland ĠNot ĠNow ĠO ĠOF ĠOVER ĠOVERDONE ĠOf ĠOff ĠOfficer ĠOnce ĠOr ĠOur ĠOverdone ĠOxford ĠP ĠPERCY ĠPETER ĠPadua ĠParis ĠPatri ĠPatrician ĠPaul ĠPaulina ĠPembroke ĠPercy ĠPerd ĠPerdita ĠPeter ĠPetruchio ĠPhaeth ĠPhaethon ĠPhilip ĠPhoeb ĠPhoebus ĠPil ĠPisa ĠPl ĠPlace ĠPlantagenet ĠPlashy ĠPlayer ĠPlease ĠPolixenes ĠPom ĠPomfret ĠPompey ĠPoor ĠPr ĠPray ĠPriam ĠPrince ĠPrithee ĠPro ĠProceed ĠPut ĠQueen ĠR ĠRICHARD ĠROS ĠROSS ĠRag ĠRagozine ĠRatcliff ĠRaven ĠRavenspurgh ĠRi ĠRichard ĠRichmond ĠRivers ĠRo ĠRoman ĠRomans ĠRome ĠRomeo ĠRos ĠRosaline ĠRoss ĠRussia ĠRutland ĠS ĠSALIS ĠSALISBURY ĠSCRO ĠSCROOP ĠST ĠSTANLEY ĠSTEPH ĠSTEPHEN ĠSURREY ĠSaint ĠSalisbury ĠSay ĠSc ĠScotland ĠSeb ĠSebastian ĠSee ĠSenator ĠServant ĠServing ĠServingman ĠShall ĠShe ĠShore ĠShow ĠSic ĠSicilia ĠSignior ĠSir ĠSix ĠSixth ĠSly ĠSo ĠSoldier ĠSome ĠSomerset ĠSp ĠSpeak ĠSt ĠStaff ĠStafford ĠStand ĠStanley ĠSunday ĠSurrey ĠSweet ĠSycor ĠSycorax ĠT ĠTHOMAS ĠTake ĠTar ĠTarpeian ĠTell ĠTew ĠTewksbury ĠTh ĠThe ĠTheir ĠThen ĠThere ĠTherefore ĠThese ĠThey ĠThink ĠThis ĠThomas ĠThou ĠThursday ĠThus ĠThy ĠTime ĠTitus ĠTo ĠTower ĠTranio ĠTribunes ĠTroy ĠTullus ĠTunis ĠTur ĠTurks ĠTybalt ĠTyrrel ĠU ĠUlysses ĠV ĠVI ĠVINCENTIO ĠVal ĠValent ĠValeria ĠVaughan ĠVen ĠVenice ĠVerona ĠVienna ĠVincentio ĠVols ĠVolsces ĠVolscian ĠVolscians ĠW ĠWIL ĠWILLOUGHBY ĠWales ĠWalter ĠWarwick ĠWas ĠWatch ĠWatchman ĠWe ĠWednesday ĠWelcome ĠWell ĠWelsh ĠWelshmen ĠWest ĠWestmin ĠWestminster ĠWh ĠWhat ĠWhen ĠWhere ĠWherefore ĠWho ĠWhy ĠWife ĠWill ĠWilliam ĠWilloughby ĠWilt ĠWiltshire ĠWould ĠX ĠXI ĠY ĠYORK ĠYes ĠYet ĠYork ĠYou ĠYour Ġa Ġab Ġabhor Ġabhorr Ġabide Ġability Ġable Ġaboard Ġabod Ġabout Ġabove Ġabro Ġabroad Ġabs Ġabsence Ġabsent Ġabsolute Ġabst Ġabund Ġabundance Ġabundant Ġabuse Ġabused Ġabuses Ġac Ġacc Ġaccept Ġaccess Ġaccident Ġaccom Ġaccomp Ġaccompany Ġaccomplish Ġaccord Ġaccording Ġaccount Ġaccursed Ġaccus Ġaccusation Ġaccusations Ġaccuse Ġaccused Ġach Ġaches Ġachieve Ġachieved Ġack Ġacknowledge Ġacqu Ġacquaint Ġacquaintance Ġacquainted Ġact Ġacting Ġaction Ġactions Ġactor Ġacts Ġad Ġadd Ġadded Ġadder Ġadieu Ġadm Ġadmir Ġadmit Ġadmitted Ġado Ġadorn Ġadul Ġadult Ġadulteress Ġadv Ġadvance Ġadvanced Ġadvancement Ġadvantage Ġadventure Ġadver Ġadvers Ġadversaries Ġadverse Ġadvertised Ġadvice Ġadvise Ġadvised Ġadvoc Ġadvocate Ġaery Ġaf Ġafe Ġafeard Ġaff Ġaffair Ġaffairs Ġaffect Ġaffected Ġaffection Ġaffections Ġaffli Ġafflict Ġaffliction Ġafford Ġaffords Ġaffright Ġafoot Ġafore Ġafraid Ġafter Ġafternoon Ġafterward Ġafterwards Ġag Ġagain Ġagainst Ġage Ġaged Ġages Ġago Ġagony Ġagree Ġagreed Ġagreement Ġah Ġaid Ġaim Ġaims Ġair Ġairy Ġal Ġalack Ġalar Ġalas Ġale Ġalike Ġalive Ġall Ġallay Ġalleg Ġallegiance Ġalliance Ġallies Ġallow Ġalmost Ġalms Ġalone Ġalong Ġaloof Ġaloud Ġalready Ġalso Ġalter Ġalteration Ġalthough Ġaltogether Ġalways Ġam Ġamain Ġamaz Ġamazed Ġamazement Ġamb Ġambassad Ġambit Ġambition Ġambitious Ġambush Ġamen Ġamend Ġamended Ġamends Ġamiss Ġamity Ġamong Ġamongst Ġamorous Ġan Ġancest Ġancestors Ġanch Ġanchor Ġancient Ġand Ġang Ġange Ġangel Ġangels Ġanger Ġangry Ġangu Ġanguish Ġann Ġannoy Ġanointed Ġanon Ġanother Ġansw Ġanswer Ġant Ġantic Ġany Ġap Ġapace Ġapart Ġape Ġapothecary Ġapp Ġappare Ġapparel Ġapparent Ġappea Ġappeal Ġappear Ġappeared Ġappears Ġappell Ġappellant Ġappetite Ġapplause Ġapply Ġappoint Ġappointed Ġapprehe Ġapprehend Ġapprehens Ġapprehension Ġappro Ġapproach Ġapproaches Ġapprobation Ġapproved Ġapt Ġar Ġarbit Ġarch Ġare Ġarg Ġargos Ġargosy Ġargu Ġargument Ġarguments Ġarise Ġarm Ġarmed Ġarmour Ġarms Ġarmy Ġarray Ġarrest Ġarri Ġarrival Ġarrived Ġart Ġarticle Ġarticles Ġas Ġascend Ġashamed Ġashes Ġashore Ġaside Ġask Ġasked Ġasking Ġasleep Ġaspect Ġaspiring Ġass Ġassault Ġassem Ġassist Ġassistance Ġassurance Ġassure Ġassured Ġat Ġatone Ġatt Ġattach Ġattain Ġattempt Ġattend Ġattended Ġattent Ġattorney Ġattorneys Ġau Ġaud Ġaught Ġaunt Ġaust Ġauthor Ġauthorities Ġauthority Ġavo Ġavoid Ġavoided Ġaw Ġawake Ġaway Ġawe Ġawful Ġawhile Ġawry Ġaxe Ġay Ġb Ġba Ġbab Ġbabe Ġbabes Ġbaby Ġbachelor Ġback Ġbacks Ġbackward Ġbad Ġbade Ġbag Ġbaggage Ġbail Ġbait Ġbald Ġbale Ġball Ġballad Ġbalm Ġban Ġband Ġbands Ġbandy Ġbanish Ġbanished Ġbanishment Ġbank Ġbankrupt Ġbanquet Ġbar Ġbarb Ġbare Ġbargain Ġbark Ġbarr Ġbarren Ġbas Ġbase Ġbaseness Ġbash Ġbashful Ġbasil Ġbastard Ġbastards Ġbastardy Ġbat Ġbate Ġbats Ġbattle Ġbattles Ġbau Ġbauble Ġbaw Ġbawd Ġbawdy Ġbay Ġbe Ġbea Ġbeads Ġbeams Ġbear Ġbeard Ġbearing Ġbears Ġbeast Ġbeastly Ġbeasts Ġbeat Ġbeaten Ġbeating Ġbeats Ġbeaut Ġbeauteous Ġbeauties Ġbeautiful Ġbeauty Ġbec Ġbecame Ġbecause Ġbecom Ġbecome Ġbecomes Ġbed Ġbeef Ġbeen Ġbeet Ġbeetle Ġbef Ġbefal Ġbefall Ġbefits Ġbefore Ġbeg Ġbegan Ġbeget Ġbegg Ġbeggar Ġbeggarly Ġbeggars Ġbeggary Ġbegging Ġbegin Ġbegins Ġbegot Ġbegu Ġbeguiled Ġbegun Ġbeha Ġbehalf Ġbehavior Ġbeheld Ġbehind Ġbeho Ġbehold Ġbeholding Ġbeing Ġbel Ġbelieve Ġbelieved Ġbelike Ġbell Ġbelly Ġbelong Ġbelongs Ġbeloved Ġbelow Ġben Ġbench Ġbend Ġbending Ġbenef Ġbenefit Ġbent Ġbere Ġbereft Ġbes Ġbeseech Ġbeseem Ġbeside Ġbesides Ġbesiege Ġbest Ġbestow Ġbestri Ġbet Ġbethink Ġbetide Ġbetimes Ġbetray Ġbetter Ġbetw Ġbetween Ġbetwixt Ġbew Ġbeware Ġbewray Ġbeyond Ġbid Ġbidding Ġbide Ġbids Ġbier Ġbig Ġbigger Ġbill Ġbills Ġbind Ġbir Ġbird Ġbirds Ġbirth Ġbirths Ġbishop Ġbit Ġbite Ġbites Ġbiting Ġbitter Ġbitterly Ġbl Ġblack Ġblade Ġblame Ġblasp Ġblast Ġblasts Ġblaze Ġble Ġbleed Ġbleeding Ġbleeds Ġblem Ġblemish Ġbless Ġblessed Ġblessing Ġblessings Ġblest Ġblind Ġbliss Ġblister Ġblock Ġblocks Ġblood Ġbloody Ġblot Ġblots Ġblow Ġblown Ġblows Ġblue Ġblunt Ġblush Ġblushing Ġbo Ġboar Ġboast Ġboat Ġbod Ġbodes Ġbodies Ġbody Ġboisterous Ġbol Ġbold Ġboldly Ġboldness Ġbon Ġbond Ġbondage Ġbone Ġbones Ġbonny Ġbook Ġbooks Ġboon Ġboot Ġbootless Ġboots Ġbore Ġborn Ġborne Ġborrow Ġbos Ġbosom Ġbosoms Ġbot Ġboth Ġbott Ġbottom Ġbought Ġbound Ġbount Ġbounty Ġbow Ġbowels Ġbowl Ġbows Ġbox Ġboy Ġboys Ġbr Ġbra Ġbrace Ġbragg Ġbrain Ġbrains Ġbran Ġbranch Ġbranches Ġbrand Ġbrass Ġbrat Ġbrave Ġbraved Ġbraw Ġbrawl Ġbrawling Ġbrazen Ġbre Ġbread Ġbreak Ġbreaking Ġbreaks Ġbreast Ġbreasts Ġbreat Ġbreath Ġbreathe Ġbreathed Ġbreathes Ġbreathing Ġbreaths Ġbred Ġbreed Ġbreeding Ġbrethren Ġbri Ġbribe Ġbridal Ġbride Ġbridegroom Ġbrief Ġbriefly Ġbright Ġbrine Ġbring Ġbringing Ġbrings Ġbrittle Ġbro Ġbroad Ġbroils Ġbroke Ġbroken Ġbrook Ġbrother Ġbrotherhood Ġbrothers Ġbrought Ġbrow Ġbrown Ġbrows Ġbru Ġbu Ġbuck Ġbuckle Ġbud Ġbudge Ġbuild Ġbuilt Ġbul Ġbulk Ġbur Ġburden Ġburial Ġburied Ġburn Ġburning Ġburns Ġburnt Ġburst Ġburthen Ġbury Ġbus Ġbush Ġbusied Ġbusiness Ġbust Ġbustle Ġbusy Ġbut Ġbutcher Ġbutchers Ġbutt Ġbutter Ġbuy Ġbuzz Ġbuzzard Ġby Ġc Ġca Ġcab Ġcabin Ġcaitiff Ġcal Ġcalamity Ġcalf Ġcall Ġcalled Ġcalling Ġcalls Ġcalm Ġcalumny Ġcam Ġcame Ġcamest Ġcan Ġcand Ġcandle Ġcanker Ġcannib Ġcannot Ġcanop Ġcanopy Ġcanst Ġcap Ġcapable Ġcaparison Ġcapital Ġcaps Ġcapt Ġcaptain Ġcaptive Ġcar Ġcard Ġcare Ġcareful Ġcareless Ġcares Ġcarried Ġcarries Ġcarrion Ġcarry Ġcas Ġcase Ġcast Ġcastle Ġcat Ġcatch Ġcaught Ġcaus Ġcause Ġcaused Ġcauses Ġcave Ġcease Ġced Ġcele Ġcell Ġcens Ġcensure Ġcent Ġcentre Ġcere Ġceremon Ġceremonious Ġceremony Ġcertain Ġcertainly Ġch Ġcha Ġchaf Ġchafed Ġchaff Ġchain Ġchains Ġchair Ġchall Ġchallenge Ġchamber Ġchamberlain Ġchamp Ġchampion Ġchan Ġchance Ġchances Ġchange Ġchanged Ġchangeling Ġchanges Ġchanging Ġchap Ġchar Ġcharac Ġcharacter Ġcharge Ġcharged Ġcharges Ġcharitable Ġcharity Ġcharm Ġcharms Ġcharters Ġchase Ġchast Ġchaste Ġchastisement Ġchastity Ġchat Ġche Ġcheap Ġchee Ġcheek Ġcheeks Ġcheer Ġcheerful Ġcheerfully Ġcheerly Ġcheers Ġcheque Ġcher Ġcherish Ġchest Ġchi Ġchid Ġchide Ġchides Ġchief Ġchiefest Ġchild Ġchildish Ġchildren Ġchival Ġchivalry Ġcho Ġchoice Ġchoke Ġcholer Ġcholeric Ġchoose Ġchop Ġchose Ġchosen Ġchron Ġchurch Ġchurchyard Ġcir Ġcirc Ġcircum Ġcircumst Ġcircumstance Ġcircumstances Ġcitizens Ġcity Ġciv Ġcivil Ġcl Ġclaim Ġclam Ġclamorous Ġclamour Ġclap Ġcle Ġclean Ġclear Ġcleft Ġcler Ġclergy Ġclim Ġclimate Ġclimb Ġclo Ġcloak Ġclock Ġclose Ġclosed Ġclosely Ġclothe Ġclothes Ġcloud Ġclouded Ġclouds Ġcloudy Ġco Ġcoal Ġcoals Ġcoast Ġcoat Ġcoats Ġcock Ġcoff Ġcoffers Ġcoffin Ġcol Ġcold Ġcolder Ġcoldly Ġcoll Ġcolour Ġcolours Ġcom Ġcomb Ġcombat Ġcome Ġcomes Ġcomest Ġcomfort Ġcomfortable Ġcomforts Ġcoming Ġcomm Ġcommand Ġcommanded Ġcommanding Ġcommandment Ġcommands Ġcommend Ġcommends Ġcommission Ġcommit Ġcommitted Ġcommodity Ġcommon Ġcommons Ġcommonweal Ġcommonwealth Ġcomp Ġcompan Ġcompanion Ġcompany Ġcompare Ġcompass Ġcompassion Ġcompell Ġcompl Ġcomplain Ġcomplaint Ġcomple Ġcomplete Ġcomplex Ġcomplexion Ġcomplexions Ġcomplices Ġcomposition Ġcompound Ġcon Ġconc Ġconce Ġconceal Ġconceit Ġconceive Ġconcerns Ġconcl Ġconclud Ġconclude Ġconcluded Ġconclusion Ġcond Ġcondemn Ġcondemned Ġcondition Ġconditions Ġcondu Ġconduct Ġconf Ġconfe Ġconfeder Ġconfederate Ġconfer Ġconference Ġconfess Ġconfession Ġconfessor Ġconfidence Ġconfined Ġconfines Ġconfirm Ġconfound Ġconfusion Ġconj Ġconjure Ġconqu Ġconquer Ġconqueror Ġconquest Ġcons Ġconscience Ġconsent Ġconsented Ġconsequ Ġconsequence Ġconserves Ġconsider Ġconsidered Ġconsort Ġconsorted Ġconspir Ġconspiracy Ġconstable Ġconstant Ġconsul Ġconsuls Ġconsume Ġconsumed Ġcont Ġcontem Ġcontempt Ġcontent Ġcontented Ġcontents Ġcontin Ġcontinue Ġcontr Ġcontract Ġcontrad Ġcontrary Ġcontri Ġcontro Ġcontrol Ġcontroversy Ġconvent Ġconver Ġconvers Ġconvey Ġcook Ġcool Ġcop Ġcor Ġcord Ġcordial Ġcords Ġcorn Ġcorners Ġcoronation Ġcorre Ġcorrection Ġcorrupt Ġcorruption Ġcorse Ġcost Ġcou Ġcould Ġcouldst Ġcoun Ġcounc Ġcouncil Ġcouncils Ġcounsel Ġcounsell Ġcounsellor Ġcounsels Ġcount Ġcounted Ġcountenance Ġcounter Ġcounterfeit Ġcountermand Ġcounterpo Ġcountry Ġcountryman Ġcountrymen Ġcounty Ġcouple Ġcour Ġcourage Ġcourse Ġcourses Ġcourt Ġcourteous Ġcourtesy Ġcourtier Ġcourts Ġcousin Ġcousins Ġcover Ġcovert Ġcoward Ġcowardice Ġcowardly Ġcoz Ġcozen Ġcr Ġcra Ġcrab Ġcrack Ġcracking Ġcrad Ġcraft Ġcram Ġcrave Ġcraves Ġcre Ġcreat Ġcreate Ġcreated Ġcreation Ġcreature Ġcreatures Ġcred Ġcredit Ġcrept Ġcrest Ġcrew Ġcried Ġcries Ġcrim Ġcrimes Ġcriminal Ġcro Ġcrook Ġcropp Ġcross Ġcrow Ġcrown Ġcrowned Ġcrowns Ġcrows Ġcru Ġcruel Ġcrush Ġcrutch Ġcry Ġcrying Ġcuck Ġcuckold Ġcunning Ġcup Ġcur Ġcurbs Ġcure Ġcurious Ġcurrent Ġcurs Ġcurse Ġcursed Ġcurses Ġcurst Ġcurt Ġcurtain Ġcushi Ġcustom Ġcut Ġd Ġdag Ġdagger Ġdaily Ġdaint Ġdainty Ġdam Ġdame Ġdamn Ġdamnable Ġdamned Ġdan Ġdance Ġdances Ġdancing Ġdanger Ġdangerous Ġdangers Ġdare Ġdared Ġdares Ġdarest Ġdaring Ġdark Ġdarken Ġdarkly Ġdarkness Ġdash Ġdastard Ġdate Ġdaughter Ġdaughters Ġday Ġdaylight Ġdays Ġde Ġdead Ġdeadly Ġdeaf Ġdeal Ġdealing Ġdear Ġdeare Ġdearer Ġdearest Ġdearly Ġdearth Ġdeath Ġdeaths Ġdeb Ġdebase Ġdebt Ġdec Ġdecay Ġdece Ġdeceased Ġdeceit Ġdeceive Ġdeceived Ġdeck Ġdecl Ġdecree Ġdecrees Ġded Ġdeed Ġdeeds Ġdeep Ġdeeper Ġdeeply Ġdeer Ġdef Ġdefect Ġdefence Ġdefend Ġdeform Ġdeformity Ġdefy Ġdeg Ġdegenerate Ġdegree Ġdegrees Ġdel Ġdelay Ġdeli Ġdelicate Ġdelight Ġdelights Ġdeliver Ġdeliverance Ġdelivery Ġdem Ġdemand Ġdemands Ġden Ġdenial Ġdenied Ġdeny Ġdep Ġdepart Ġdeparture Ġdepend Ġdepose Ġdeposed Ġdepth Ġdeputy Ġder Ġderived Ġdes Ġdesc Ġdescend Ġdescent Ġdeser Ġdesert Ġdeserts Ġdeserve Ġdeserved Ġdeserves Ġdesign Ġdesigns Ġdesire Ġdesired Ġdesires Ġdesp Ġdespair Ġdesperate Ġdesperately Ġdespised Ġdespite Ġdest Ġdestiny Ġdestroy Ġdestruction Ġdet Ġdeter Ġdeterm Ġdetermine Ġdetermined Ġdetest Ġdetestable Ġdetested Ġdev Ġdevice Ġdevil Ġdevilish Ġdevils Ġdevise Ġdevotion Ġdevour Ġdew Ġdi Ġdiadem Ġdid Ġdidst Ġdie Ġdied Ġdies Ġdiest Ġdiet Ġdiffe Ġdifferen Ġdifference Ġdig Ġdigest Ġdign Ġdignity Ġdil Ġdiligence Ġdim Ġdimm Ġdin Ġdine Ġdined Ġdinner Ġdire Ġdirect Ġdirection Ġdirectly Ġdireful Ġdis Ġdisc Ġdischarge Ġdischarged Ġdiscipl Ġdiscontent Ġdiscontented Ġdiscords Ġdiscourse Ġdiscover Ġdiscovery Ġdiscred Ġdiscreet Ġdiscretion Ġdisd Ġdisdain Ġdisease Ġdiseases Ġdisgra Ġdisgrace Ġdisgraced Ġdisgu Ġdisguise Ġdisguised Ġdish Ġdishes Ġdishon Ġdishonour Ġdisin Ġdisinherit Ġdisinherited Ġdisl Ġdislike Ġdisloyal Ġdism Ġdismal Ġdismiss Ġdiso Ġdisobed Ġdisorder Ġdisp Ġdispatch Ġdisper Ġdisperse Ġdispersed Ġdisple Ġdispleased Ġdispleasure Ġdisposed Ġdisposition Ġdispro Ġdiss Ġdissem Ġdissemble Ġdissembling Ġdist Ġdistemper Ġdisting Ġdistinguish Ġdistra Ġdistress Ġdistressed Ġdisturb Ġdiv Ġdivers Ġdivide Ġdivided Ġdivine Ġdivines Ġdivision Ġdivor Ġdivorce Ġdo Ġdoct Ġdoes Ġdog Ġdogs Ġdoing Ġdoings Ġdoit Ġdol Ġdole Ġdoleful Ġdom Ġdone Ġdoom Ġdooms Ġdoor Ġdoors Ġdost Ġdot Ġdoth Ġdou Ġdouble Ġdoublet Ġdoubt Ġdoubted Ġdoubtful Ġdove Ġdoves Ġdow Ġdower Ġdown Ġdownfall Ġdownright Ġdowry Ġdozen Ġdr Ġdra Ġdrag Ġdragon Ġdram Ġdraw Ġdrawn Ġdraws Ġdre Ġdread Ġdreadful Ġdream Ġdreams Ġdreamt Ġdress Ġdrew Ġdri Ġdried Ġdrift Ġdrink Ġdrinking Ġdrinks Ġdriven Ġdro Ġdroop Ġdrooping Ġdrop Ġdropp Ġdrops Ġdrown Ġdrowning Ġdrows Ġdrowsy Ġdru Ġdrum Ġdrums Ġdrunk Ġdrunkard Ġdrunken Ġdry Ġdu Ġducats Ġdue Ġdug Ġduke Ġduked Ġdukedom Ġdukes Ġdull Ġdumb Ġdun Ġdur Ġdurst Ġdust Ġduteous Ġduty Ġdwell Ġdwelling Ġdwells Ġdying Ġe Ġeach Ġeag Ġeager Ġeagle Ġear Ġearl Ġearldom Ġearly Ġearn Ġearnest Ġears Ġearth Ġearthly Ġeas Ġease Ġeasily Ġeast Ġeasy Ġeat Ġeaten Ġeating Ġebb Ġed Ġedge Ġedict Ġeff Ġeffect Ġeffects Ġeffeminate Ġeg Ġegg Ġeight Ġeither Ġel Ġeld Ġelder Ġelders Ġeldest Ġele Ġelection Ġelements Ġeleven Ġelo Ġeloqu Ġeloquence Ġelse Ġelsewhere Ġem Ġemb Ġembass Ġembra Ġembrace Ġembraced Ġembracements Ġemploy Ġempt Ġempty Ġemulation Ġen Ġenc Ġencounter Ġencourage Ġend Ġendea Ġended Ġendow Ġends Ġendure Ġendured Ġenem Ġenemies Ġenemy Ġenforce Ġenforced Ġenforcement Ġenfranch Ġeng Ġengross Ġenjoin Ġenjoy Ġenjoys Ġenmity Ġenough Ġenrich Ġenroll Ġensue Ġent Ġenter Ġenterpr Ġenterprise Ġentertain Ġentertainment Ġentire Ġentrails Ġentrance Ġentreat Ġentreated Ġentreaties Ġentreaty Ġenvious Ġenvy Ġequ Ġequal Ġer Ġere Ġerrand Ġerror Ġes Ġescap Ġescape Ġest Ġestate Ġesteem Ġestim Ġestimation Ġeter Ġeternal Ġev Ġeven Ġevent Ġevents Ġever Ġeverlast Ġeverlasting Ġevery Ġevident Ġevil Ġevils Ġew Ġex Ġexact Ġexam Ġexample Ġexc Ġexceed Ġexcell Ġexcellent Ġexcept Ġexchange Ġexclaim Ġexclaims Ġexcuse Ġexec Ġexecut Ġexecute Ġexecuted Ġexecution Ġexecutioner Ġexerc Ġexercise Ġexha Ġexile Ġexp Ġexpect Ġexped Ġexpedition Ġexperience Ġexpost Ġexpress Ġexpressly Ġext Ġexternal Ġextrem Ġextreme Ġextremes Ġextremest Ġextremity Ġey Ġeye Ġeyes Ġf Ġfa Ġfabric Ġface Ġfaced Ġfaces Ġfact Ġfaction Ġfactious Ġfail Ġfails Ġfain Ġfaint Ġfaintly Ġfair Ġfaire Ġfairer Ġfairest Ġfairies Ġfairly Ġfaith Ġfaithful Ġfal Ġfalcon Ġfall Ġfallen Ġfalling Ġfalls Ġfalse Ġfalsehood Ġfalsely Ġfam Ġfame Ġfamiliar Ġfamish Ġfamous Ġfan Ġfancy Ġfant Ġfantast Ġfantastical Ġfar Ġfardel Ġfare Ġfares Ġfarewell Ġfarm Ġfart Ġfarther Ġfarthest Ġfashi Ġfashion Ġfashions Ġfast Ġfasting Ġfat Ġfatal Ġfate Ġfather Ġfathers Ġfathom Ġfault Ġfaults Ġfavour Ġfavourable Ġfavours Ġfawn Ġfe Ġfear Ġfearful Ġfearing Ġfearless Ġfears Ġfeast Ġfeasting Ġfeasts Ġfeat Ġfeather Ġfed Ġfee Ġfeeble Ġfeed Ġfeeding Ġfeel Ġfeeling Ġfees Ġfeet Ġfell Ġfellow Ġfellows Ġfelt Ġfem Ġfemale Ġfen Ġfence Ġfester Ġfestival Ġfet Ġfetch Ġfever Ġfew Ġfi Ġfickle Ġfie Ġfield Ġfiend Ġfiends Ġfier Ġfierce Ġfiery Ġfif Ġfift Ġfifteen Ġfifty Ġfig Ġfight Ġfighting Ġfights Ġfigure Ġfil Ġfile Ġfill Ġfills Ġfilthy Ġfin Ġfind Ġfinds Ġfine Ġfinger Ġfingers Ġfire Ġfires Ġfirm Ġfirmly Ġfirst Ġfish Ġfit Ġfits Ġfitted Ġfitter Ġfitting Ġfive Ġfix Ġfl Ġflag Ġflame Ġflat Ġflatt Ġflatter Ġflatterer Ġflatterers Ġflattering Ġfle Ġfled Ġfleet Ġflesh Ġfliers Ġflies Ġflight Ġflint Ġflinty Ġflock Ġflood Ġfloods Ġflour Ġflourish Ġflow Ġflower Ġflowers Ġfly Ġfo Ġfoaming Ġfoe Ġfoes Ġfoil Ġfold Ġfolks Ġfoll Ġfollies Ġfollow Ġfollowers Ġfollowing Ġfollows Ġfolly Ġfond Ġfondly Ġfood Ġfool Ġfooling Ġfoolish Ġfools Ġfoot Ġfooting Ġfootman Ġfor Ġforb Ġforbear Ġforbid Ġforce Ġforced Ġforces Ġfore Ġforefather Ġforehead Ġforeign Ġforerun Ġforest Ġforetell Ġforfeit Ġforg Ġforget Ġforgive Ġforgiveness Ġforgot Ġforlorn Ġform Ġformer Ġforms Ġforn Ġfors Ġforsake Ġforso Ġforsook Ġforsooth Ġforsw Ġforswear Ġforsworn Ġfort Ġforth Ġforthwith Ġfortnight Ġfortunate Ġfortune Ġfortunes Ġforty Ġforward Ġfought Ġfoul Ġfouler Ġfound Ġfount Ġfour Ġfourteen Ġfourth Ġfowl Ġfox Ġfra Ġfrail Ġframe Ġframed Ġfrank Ġfrant Ġfrantic Ġfray Ġfre Ġfree Ġfreed Ġfreedom Ġfreely Ġfres Ġfresh Ġfresher Ġfreshest Ġfret Ġfretting Ġfri Ġfriar Ġfriend Ġfriendly Ġfriends Ġfriendship Ġfright Ġfrighted Ġfro Ġfrom Ġfront Ġfrost Ġfrow Ġfroward Ġfrown Ġfrowning Ġfrowns Ġfrozen Ġfru Ġfruit Ġfruitful Ġfruits Ġfulf Ġfull Ġfully Ġfun Ġfunction Ġfur Ġfurn Ġfurnish Ġfurther Ġfury Ġfut Ġfuture Ġg Ġga Ġgage Ġgain Ġgains Ġgainsay Ġgait Ġgall Ġgallant Ġgam Ġgame Ġgamut Ġgaol Ġgaoler Ġgap Ġgape Ġgar Ġgarden Ġgarland Ġgarlic Ġgarments Ġgate Ġgates Ġgather Ġgaunt Ġgave Ġgay Ġgaz Ġgaze Ġgear Ġgeld Ġgener Ġgeneral Ġgent Ġgentle Ġgentleman Ġgentlemen Ġgentler Ġgentlewoman Ġgently Ġgentry Ġget Ġgetting Ġghost Ġghostly Ġgi Ġgiant Ġgid Ġgiddy Ġgift Ġgifts Ġgild Ġgilt Ġginger Ġgir Ġgirl Ġgirls Ġgive Ġgiven Ġgives Ġgiving Ġgl Ġglad Ġgladly Ġglass Ġglasses Ġgle Ġglister Ġglories Ġglorious Ġglory Ġglove Ġgloves Ġgn Ġgnaw Ġgo Ġgod Ġgodd Ġgoddess Ġgods Ġgoes Ġgoest Ġgoing Ġgold Ġgolden Ġgone Ġgood Ġgoodly Ġgoodman Ġgoodness Ġgoods Ġgoose Ġgorge Ġgoss Ġgossips Ġgot Ġgotten Ġgovern Ġgovernment Ġgovernor Ġgown Ġgr Ġgra Ġgrace Ġgraced Ġgraces Ġgracious Ġgraft Ġgrain Ġgrand Ġgrandam Ġgrandfather Ġgrandsire Ġgrant Ġgranted Ġgrass Ġgrat Ġgratis Ġgrave Ġgraves Ġgre Ġgreat Ġgreater Ġgreatest Ġgreatly Ġgreatness Ġgreen Ġgreet Ġgreeting Ġgreetings Ġgreets Ġgrew Ġgrey Ġgreyh Ġgri Ġgrie Ġgrief Ġgriefs Ġgriev Ġgrieve Ġgrieved Ġgrieves Ġgrievous Ġgrim Ġgro Ġgroan Ġgroans Ġgroom Ġgross Ġground Ġgrove Ġgrow Ġgrowing Ġgrown Ġgrows Ġgrowth Ġgru Ġgrub Ġgrum Ġgu Ġguard Ġguess Ġguest Ġguests Ġguilt Ġguiltless Ġguilty Ġgulf Ġgust Ġh Ġha Ġhab Ġhabit Ġhad Ġhadst Ġhag Ġhail Ġhair Ġhalf Ġhall Ġhalt Ġhand Ġhandle Ġhands Ġhandsome Ġhang Ġhanged Ġhanging Ġhangman Ġhangs Ġhap Ġhaply Ġhapp Ġhappier Ġhappily Ġhappiness Ġhappy Ġhar Ġharbour Ġhard Ġharder Ġhardly Ġhardy Ġhare Ġhark Ġharl Ġharlot Ġharm Ġharmless Ġharmony Ġharms Ġharsh Ġharvest Ġhas Ġhast Ġhaste Ġhasty Ġhat Ġhatch Ġhatches Ġhate Ġhated Ġhateful Ġhath Ġhatred Ġhaught Ġhaughty Ġhaunt Ġhave Ġhaven Ġhaving Ġhaw Ġhaz Ġhazard Ġhazel Ġhe Ġhea Ġhead Ġheads Ġheadstrong Ġheal Ġhealth Ġheap Ġhear Ġheard Ġhearing Ġhears Ġheart Ġhearth Ġheartily Ġhearts Ġheat Ġheav Ġheaven Ġheavenly Ġheavens Ġheavier Ġheavily Ġheaviness Ġheavy Ġhedge Ġheed Ġheel Ġheels Ġheigh Ġheight Ġheinous Ġheir Ġheirs Ġhel Ġheld Ġhell Ġhelm Ġhelmets Ġhelms Ġhelp Ġhelping Ġhelps Ġhen Ġhence Ġhenceforth Ġher Ġhera Ġherald Ġherbs Ġherd Ġherds Ġhere Ġhereafter Ġherein Ġhers Ġherself Ġhew Ġhid Ġhide Ġhideous Ġhie Ġhig Ġhigh Ġhigher Ġhighest Ġhighness Ġhighway Ġhill Ġhills Ġhilt Ġhim Ġhimself Ġhind Ġhinder Ġhint Ġhire Ġhis Ġhist Ġhistory Ġhit Ġhither Ġho Ġhoar Ġhol Ġhold Ġholding Ġholds Ġhole Ġholid Ġhollow Ġholp Ġholy Ġhom Ġhomage Ġhome Ġhomely Ġhomicide Ġhon Ġhonest Ġhonesty Ġhoney Ġhonour Ġhonourable Ġhonours Ġhood Ġhook Ġhop Ġhope Ġhoped Ġhopeful Ġhopeless Ġhopes Ġhor Ġhorn Ġhorrible Ġhorror Ġhorse Ġhorses Ġhost Ġhostess Ġhot Ġhounds Ġhour Ġhourly Ġhours Ġhouse Ġhousehold Ġhouses Ġhow Ġhowl Ġhum Ġhuman Ġhumane Ġhumble Ġhumbly Ġhumility Ġhumour Ġhundred Ġhung Ġhunger Ġhungry Ġhunt Ġhur Ġhurl Ġhurried Ġhurt Ġhus Ġhusband Ġhusbands Ġhush Ġi Ġibat Ġice Ġid Ġidle Ġidly Ġif Ġign Ġignoble Ġignor Ġignorance Ġignorant Ġill Ġim Ġimag Ġimage Ġimagination Ġimagine Ġimm Ġimmediate Ġimmediately Ġimmortal Ġimp Ġimpart Ġimpatience Ġimpatient Ġimpeach Ġimpediment Ġimper Ġimperial Ġimport Ġimportune Ġimpose Ġimposs Ġimpossible Ġimpression Ġimprison Ġimprisonment Ġimpud Ġin Ġinc Ġincapable Ġincen Ġincense Ġincensed Ġinch Ġincl Ġinclination Ġinclined Ġinconstant Ġincrease Ġincur Ġind Ġindeed Ġindiffe Ġindifferent Ġindirect Ġinf Ġinfamy Ġinfancy Ġinfant Ġinfect Ġinfected Ġinfection Ġinfer Ġinferior Ġinfinite Ġinfirm Ġinfirmity Ġinflu Ġinform Ġinfring Ġinfringe Ġing Ġinhabit Ġinherit Ġinheritance Ġinj Ġinjured Ġinjuries Ġinjurious Ġinjury Ġinjustice Ġink Ġinno Ġinnocence Ġinnocency Ġinnocent Ġinnocents Ġinqu Ġinquire Ġins Ġinsinu Ġinsinuate Ġinsol Ġinsolence Ġinst Ġinstance Ġinstant Ġinstantly Ġinstead Ġinstru Ġinstruct Ġinstruction Ġinstrument Ġinstruments Ġinsulting Ġint Ġinteg Ġintegrity Ġintell Ġintelligence Ġintend Ġintended Ġintends Ġintent Ġintents Ġinter Ġintercept Ġintercession Ġinterchange Ġinterest Ġinterrupt Ġinto Ġinv Ġinve Ġinvent Ġinvention Ġinveterate Ġinward Ġir Ġire Ġiron Ġis Ġisland Ġisle Ġissu Ġissue Ġissued Ġissues Ġit Ġits Ġitself Ġj Ġjade Ġjar Ġjealous Ġjealousies Ġjest Ġjew Ġjewel Ġjewels Ġjoc Ġjocund Ġjoin Ġjoint Ġjoints Ġjointure Ġjoll Ġjot Ġjour Ġjourney Ġjoy Ġjoyful Ġjoys Ġjud Ġjudge Ġjudgment Ġjump Ġjust Ġjustice Ġjustify Ġjustly Ġk Ġke Ġkeen Ġkeep Ġkeeper Ġkeeping Ġkeeps Ġkenn Ġkennel Ġkept Ġkern Ġkey Ġkeys Ġkill Ġkilled Ġkin Ġkind Ġkindly Ġkindness Ġkindred Ġking Ġkingdom Ġkingly Ġkings Ġkins Ġkinsman Ġkinsmen Ġkiss Ġkisses Ġkissing Ġkites Ġkn Ġknave Ġknavery Ġknaves Ġknee Ġkneel Ġknees Ġknell Ġknew Ġknife Ġknight Ġknighthood Ġknightly Ġknit Ġknock Ġknocks Ġknot Ġknow Ġknowest Ġknowing Ġknowledge Ġknown Ġknows Ġl Ġlab Ġlabour Ġlace Ġlack Ġlacks Ġlad Ġladies Ġlads Ġlady Ġladyship Ġlaid Ġlain Ġlam Ġlamb Ġlambs Ġlame Ġlament Ġlamentable Ġlamentation Ġlamentations Ġlamp Ġlan Ġlance Ġland Ġlanded Ġlands Ġlane Ġlangu Ġlanguage Ġlap Ġlar Ġlarge Ġlark Ġlass Ġlast Ġlasting Ġlate Ġlately Ġlatest Ġlau Ġlaugh Ġlaughter Ġlaw Ġlawful Ġlaws Ġlay Ġlaz Ġlazy Ġle Ġlea Ġlead Ġleaden Ġleader Ġleads Ġleague Ġlean Ġleanness Ġleap Ġlearn Ġlearned Ġlearning Ġleast Ġleave Ġleaves Ġleaving Ġlecher Ġlect Ġlecture Ġled Ġleft Ġleg Ġlegs Ġleisure Ġlen Ġlend Ġlends Ġleng Ġlength Ġlengthen Ġlengthens Ġlenity Ġlent Ġless Ġlesser Ġlesson Ġlest Ġlet Ġlets Ġletter Ġletters Ġlevel Ġlevied Ġlevy Ġlewd Ġli Ġliar Ġliars Ġliber Ġliberal Ġliberties Ġliberty Ġlick Ġlie Ġlief Ġliege Ġlies Ġliest Ġlieutenant Ġlife Ġlift Ġlight Ġlightly Ġlightness Ġlightning Ġlights Ġlike Ġlikeli Ġlikelihood Ġlikely Ġliken Ġlikeness Ġlikes Ġlikewise Ġliking Ġlim Ġlimb Ġlimbs Ġlimit Ġlimits Ġlin Ġline Ġlinea Ġlineal Ġlineaments Ġlinen Ġlinger Ġlink Ġlion Ġlions Ġlip Ġlips Ġliqu Ġlist Ġlists Ġlittle Ġlive Ġlived Ġlively Ġlivery Ġlives Ġlivest Ġliving Ġlo Ġload Ġloath Ġloathed Ġloathsome Ġlock Ġlocks Ġlod Ġlodge Ġlodged Ġlodging Ġloins Ġlong Ġlonger Ġlongest Ġlonging Ġlongs Ġlook Ġlooked Ġlooker Ġlooking Ġlooks Ġloose Ġlord Ġlords Ġlordship Ġlose Ġloss Ġlost Ġloud Ġlouder Ġlour Ġlove Ġloved Ġlovely Ġlover Ġlovers Ġloves Ġlovest Ġloving Ġlow Ġlower Ġlowly Ġloyal Ġloyalty Ġluck Ġlun Ġlunatic Ġlung Ġlungs Ġlur Ġlurk Ġlurking Ġlust Ġlustful Ġlusty Ġlute Ġlying Ġm Ġma Ġmad Ġmadam Ġmade Ġmadest Ġmadly Ġmadman Ġmadness Ġmag Ġmagic Ġmagist Ġmagistrate Ġmaid Ġmaiden Ġmaidenhead Ġmaids Ġmain Ġmaintain Ġmaj Ġmajesty Ġmake Ġmakes Ġmaking Ġmal Ġmale Ġmalice Ġmalicious Ġmalign Ġmalignant Ġman Ġmanacles Ġmanage Ġmangled Ġmanhood Ġmanif Ġmanifest Ġmankind Ġmanly Ġmanner Ġmanners Ġmant Ġmantle Ġmany Ġmap Ġmar Ġmarble Ġmarch Ġmariners Ġmark Ġmarket Ġmarks Ġmarquess Ġmarr Ġmarriage Ġmarried Ġmarry Ġmarrying Ġmars Ġmarshal Ġmart Ġmarvel Ġmarvell Ġmarvellous Ġmas Ġmask Ġmasqu Ġmass Ġmast Ġmaster Ġmasters Ġmat Ġmatch Ġmates Ġmathematic Ġmathematics Ġmatter Ġmatters Ġmay Ġmayor Ġmayst Ġme Ġmeal Ġmean Ġmeaner Ġmeaning Ġmeans Ġmeant Ġmeasure Ġmeat Ġmed Ġmeddle Ġmedic Ġmedicine Ġmeditation Ġmeed Ġmeet Ġmeeting Ġmelanch Ġmelancholy Ġmellow Ġmelt Ġmemb Ġmembers Ġmemory Ġmen Ġmend Ġmer Ġmerc Ġmerchant Ġmerciful Ġmercy Ġmere Ġmerely Ġmerit Ġmerri Ġmerrily Ġmerrim Ġmerriment Ġmerry Ġmess Ġmessage Ġmessenger Ġmet Ġmetal Ġmete Ġmethinks Ġmethought Ġmew Ġmid Ġmiddle Ġmidnight Ġmidst Ġmidwife Ġmight Ġmightily Ġmightst Ġmighty Ġmil Ġmild Ġmildly Ġmildness Ġmile Ġmiles Ġmilk Ġmill Ġmillions Ġmin Ġmind Ġminded Ġminds Ġmine Ġming Ġminister Ġministers Ġminstrel Ġminstrels Ġminute Ġminutes Ġmir Ġmirror Ġmirth Ġmis Ġmiscar Ġmischance Ġmischief Ġmiser Ġmiserable Ġmiseries Ġmisery Ġmisfortune Ġmiss Ġmist Ġmistake Ġmistaking Ġmistook Ġmistress Ġmistrust Ġmo Ġmoan Ġmoans Ġmock Ġmockery Ġmocking Ġmod Ġmodel Ġmodest Ġmodesty Ġmoe Ġmoiety Ġmolehill Ġmom Ġmoment Ġmomentary Ġmon Ġmonarch Ġmoney Ġmonster Ġmonstrous Ġmonth Ġmonths Ġmonument Ġmood Ġmoody Ġmoon Ġmor Ġmoral Ġmore Ġmorn Ġmorning Ġmorrow Ġmorsel Ġmortal Ġmost Ġmot Ġmother Ġmothers Ġmotion Ġmould Ġmount Ġmountain Ġmounting Ġmour Ġmourn Ġmourning Ġmouse Ġmouth Ġmouths Ġmove Ġmoveables Ġmoved Ġmoves Ġmoving Ġmow Ġmuch Ġmuff Ġmult Ġmultitude Ġmum Ġmur Ġmurde Ġmurder Ġmurdered Ġmurderer Ġmurdering Ġmurderous Ġmurders Ġmuse Ġmusic Ġmusician Ġmusicians Ġmust Ġmustard Ġmuster Ġmusty Ġmut Ġmute Ġmutinous Ġmutiny Ġmy Ġmyself Ġmystery Ġn Ġnail Ġnails Ġnaked Ġname Ġnamed Ġnames Ġnap Ġnapkin Ġnar Ġnarrow Ġnat Ġnative Ġnatural Ġnature Ġnatures Ġnaught Ġnay Ġne Ġnear Ġnearer Ġnearest Ġneat Ġnecess Ġnecessary Ġnecessities Ġnecessity Ġneck Ġneed Ġneedful Ġneedle Ġneedless Ġneeds Ġneedy Ġnegl Ġnegle Ġneglect Ġneighb Ġneighbour Ġneighbours Ġneither Ġnerves Ġnest Ġnet Ġnettle Ġnever Ġnew Ġnewly Ġnews Ġnext Ġnice Ġniece Ġnigh Ġnight Ġnighting Ġnightingale Ġnightly Ġnights Ġnimble Ġnine Ġninet Ġnineteen Ġno Ġnob Ġnobility Ġnobl Ġnoble Ġnobleman Ġnobleness Ġnobler Ġnobles Ġnobly Ġnod Ġnoise Ġnon Ġnone Ġnoon Ġnor Ġnort Ġnorth Ġnorthern Ġnose Ġnoses Ġnot Ġnote Ġnoted Ġnotes Ġnothing Ġnotice Ġnotorious Ġnotwith Ġnotwithstanding Ġnought Ġnourish Ġnow Ġnumb Ġnumber Ġnumbers Ġnuns Ġnupt Ġnuptial Ġnurse Ġnursed Ġnymph Ġo Ġoak Ġoath Ġoaths Ġob Ġobdur Ġobdurate Ġobed Ġobedience Ġobedient Ġobey Ġobject Ġoblivion Ġobs Ġobscured Ġobsequ Ġobsequies Ġobst Ġobt Ġobtain Ġocc Ġoccasion Ġoccup Ġoccupation Ġoce Ġodd Ġodds Ġof Ġoff Ġoffence Ġoffences Ġoffend Ġoffended Ġoffenders Ġoffer Ġoffic Ġoffice Ġofficer Ġofficers Ġoffices Ġoft Ġoften Ġold Ġom Ġominous Ġomit Ġon Ġonce Ġone Ġones Ġonly Ġope Ġopen Ġopening Ġopinion Ġopp Ġoppos Ġopposed Ġopposite Ġoppression Ġor Ġoracle Ġorator Ġorchard Ġord Ġordain Ġorder Ġordering Ġorderly Ġordinance Ġorn Ġornaments Ġorphan Ġorphans Ġost Ġother Ġothers Ġotherwise Ġought Ġour Ġours Ġourself Ġourselves Ġout Ġoutrage Ġoutst Ġoutward Ġover Ġoverheard Ġoverthrow Ġow Ġowe Ġowes Ġown Ġox Ġp Ġpace Ġpack Ġpage Ġpaid Ġpain Ġpainful Ġpains Ġpaint Ġpainted Ġpainting Ġpair Ġpal Ġpalace Ġpale Ġpalm Ġpals Ġpant Ġpaper Ġpar Ġparadise Ġparasite Ġparch Ġpardon Ġpardons Ġparent Ġparents Ġpark Ġparliament Ġparlous Ġpart Ġpartake Ġparted Ġpartial Ġparticular Ġparties Ġparting Ġpartly Ġpartner Ġparts Ġparty Ġpass Ġpassage Ġpasses Ġpassing Ġpassion Ġpast Ġpastime Ġpat Ġpate Ġpath Ġpatience Ġpatient Ġpatiently Ġpatricians Ġpatron Ġpattern Ġpause Ġpawn Ġpay Ġpays Ġpe Ġpeace Ġpeaceful Ġpear Ġpearl Ġpeasant Ġpeck Ġped Ġpedant Ġpedlar Ġpee Ġpeer Ġpeers Ġpeevish Ġpen Ġpenit Ġpenitence Ġpenitent Ġpenny Ġpens Ġpent Ġpenury Ġpeople Ġper Ġperceive Ġperd Ġperem Ġperemptory Ġperf Ġperfect Ġperfection Ġperforce Ġperform Ġperhaps Ġperil Ġperiod Ġperish Ġperj Ġperjured Ġperjury Ġpermit Ġpernicious Ġperpet Ġperpetual Ġpers Ġperson Ġpersons Ġpersu Ġpersuade Ġpersuaded Ġperused Ġpest Ġpestilence Ġpet Ġpetition Ġpetitions Ġpetty Ġphe Ġphi Ġphiloso Ġphilosophy Ġphysic Ġphysician Ġphysicians Ġpi Ġpick Ġpict Ġpicture Ġpie Ġpiece Ġpieces Ġpier Ġpierce Ġpiercing Ġpikes Ġpil Ġpiled Ġpilgrim Ġpilgrimage Ġpill Ġpilot Ġpin Ġpinch Ġpine Ġpines Ġpir Ġpit Ġpitch Ġpiteous Ġpith Ġpitied Ġpitiful Ġpity Ġpl Ġplace Ġplaced Ġplaces Ġplague Ġplain Ġplainly Ġplaints Ġplan Ġplanet Ġplant Ġplants Ġplate Ġplay Ġplays Ġple Ġplead Ġpleas Ġpleasant Ġplease Ġpleased Ġpleaseth Ġpleasing Ġpleasure Ġpleasures Ġplebe Ġplebeians Ġpledge Ġplent Ġplot Ġplotted Ġpluck Ġplucked Ġplucks Ġpo Ġpock Ġpocket Ġpoint Ġpoints Ġpoison Ġpoisonous Ġpol Ġpolicy Ġpoll Ġpomp Ġpoo Ġpoor Ġpoorest Ġpopular Ġpor Ġport Ġporter Ġportion Ġports Ġposs Ġpossess Ġpossessed Ġpossession Ġpossible Ġpost Ġposterity Ġposterns Ġposts Ġpot Ġpotion Ġpound Ġpounds Ġpour Ġpoverty Ġpow Ġpowder Ġpower Ġpowerful Ġpowers Ġpox Ġpr Ġpra Ġpractise Ġpraise Ġpraised Ġpraises Ġprate Ġprating Ġpray Ġprayer Ġprayers Ġprays Ġpre Ġprec Ġpreced Ġprecedent Ġprecious Ġprecise Ġprefer Ġpregnant Ġpreparation Ġprepare Ġprepared Ġprerog Ġprerogative Ġpres Ġprescri Ġpresence Ġpresent Ġpresently Ġpreserve Ġpreserved Ġpress Ġpresses Ġpresum Ġpresume Ġpret Ġprett Ġprettiest Ġpretty Ġprevail Ġprevails Ġprevent Ġprevented Ġprey Ġpri Ġprice Ġprick Ġpricks Ġpride Ġpriest Ġprime Ġprin Ġprince Ġprincely Ġprinces Ġprincess Ġprint Ġprison Ġprisoner Ġprisoners Ġprithee Ġpriv Ġprivate Ġprivately Ġprivile Ġprivilege Ġprivy Ġprize Ġpro Ġproceed Ġproceedings Ġprocess Ġproclaim Ġproclam Ġproclamation Ġprocure Ġprodig Ġprodigal Ġprodigy Ġproduce Ġprof Ġprofan Ġprofane Ġprofess Ġprofession Ġproffer Ġprofit Ġprofits Ġprofound Ġprog Ġprom Ġpromise Ġpromised Ġprompt Ġpronounce Ġpronounced Ġproof Ġproofs Ġprop Ġproper Ġprophe Ġprophecies Ġprophecy Ġprophes Ġprophesy Ġprophet Ġproport Ġproportion Ġprosper Ġprosperity Ġprosperous Ġprot Ġprotect Ġprotector Ġprotest Ġproud Ġproudest Ġprov Ġprove Ġproved Ġprover Ġprovide Ġprovided Ġprovo Ġprovoked Ġprovost Ġprunes Ġpry Ġpu Ġpubl Ġpublic Ġpublicly Ġpuff Ġpuiss Ġpuissant Ġpul Ġpull Ġpun Ġpunish Ġpunishment Ġpup Ġpupil Ġpuppet Ġpur Ġpurcha Ġpurchase Ġpure Ġpurge Ġpurged Ġpurple Ġpurpose Ġpurposes Ġpurse Ġpurses Ġpursu Ġpursue Ġpursued Ġpursues Ġpursuit Ġpush Ġput Ġputs Ġputting Ġqu Ġquaint Ġquake Ġqual Ġqualify Ġqualities Ġquality Ġquar Ġquarre Ġquarrel Ġquarter Ġqueen Ġqueens Ġquench Ġquest Ġquestion Ġquick Ġquicken Ġquickly Ġquiet Ġquit Ġquite Ġquoth Ġr Ġra Ġrabble Ġrace Ġrack Ġrage Ġrages Ġragged Ġraging Ġrail Ġraiment Ġrain Ġraise Ġraised Ġran Ġranc Ġrancour Ġrank Ġrans Ġransom Ġrap Ġrapier Ġrare Ġrarest Ġras Ġrascal Ġrascals Ġrash Ġrate Ġrates Ġrather Ġrats Ġraven Ġraw Ġraze Ġre Ġreach Ġread Ġreadiness Ġready Ġrealm Ġreap Ġrear Ġreason Ġreasonable Ġreasons Ġreb Ġrebel Ġrebellion Ġrebels Ġrebuke Ġrec Ġrece Ġreceipt Ġreceive Ġreceived Ġreceives Ġreck Ġreckless Ġreckon Ġreckoning Ġrecom Ġrecompense Ġreconci Ġreconcile Ġreconciled Ġrecord Ġrecount Ġrecover Ġrecreant Ġred Ġredeem Ġredempt Ġredemption Ġredress Ġref Ġrefuge Ġrefuse Ġreg Ġregal Ġregard Ġregiment Ġregion Ġregreet Ġreign Ġreigns Ġrein Ġrej Ġrejo Ġrejoice Ġrel Ġrelation Ġrelease Ġrelieve Ġrelig Ġrelish Ġrem Ġremain Ġremains Ġremed Ġremedies Ġremedy Ġremem Ġrememb Ġremember Ġremembrance Ġremiss Ġremorse Ġremote Ġremove Ġremoved Ġrend Ġrender Ġrenown Ġrenowned Ġrent Ġrep Ġrepaid Ġrepair Ġrepe Ġrepeal Ġrepent Ġrepetition Ġreplied Ġreply Ġreport Ġreported Ġrepose Ġrepossess Ġreprieve Ġreproof Ġreputation Ġrequ Ġrequest Ġrequire Ġrequired Ġrequires Ġrequital Ġrequite Ġres Ġrescue Ġresem Ġresemblance Ġreserved Ġresidence Ġresign Ġresist Ġresisted Ġresol Ġresolute Ġresolution Ġresolve Ġresolved Ġresort Ġrespect Ġrespected Ġrespects Ġrest Ġresteth Ġrestore Ġrestored Ġrestra Ġrestrain Ġrestraint Ġrests Ġret Ġretire Ġretired Ġreturn Ġreturned Ġreturns Ġrevel Ġrevell Ġreven Ġrevenge Ġrevenged Ġrevengeful Ġrevenges Ġrevenue Ġrevere Ġreverence Ġreverend Ġrevers Ġrevive Ġrevol Ġrevolt Ġreward Ġrewards Ġrhe Ġrheum Ġri Ġrich Ġriches Ġrid Ġridd Ġride Ġrig Ġright Ġrightly Ġrights Ġrigour Ġring Ġrings Ġrip Ġripe Ġripen Ġrise Ġrising Ġrites Ġrivers Ġro Ġroad Ġroar Ġroaring Ġrob Ġrobb Ġrobbers Ġrobes Ġrock Ġrocks Ġrod Ġrode Ġrogue Ġrogues Ġrood Ġroof Ġroom Ġroot Ġrope Ġrose Ġroses Ġrot Ġrotten Ġrough Ġround Ġroundly Ġrouse Ġroyal Ġroyally Ġroyalties Ġroyalty Ġru Ġrub Ġrude Ġrue Ġruin Ġrule Ġruled Ġrum Ġrumour Ġrun Ġruns Ġrush Ġrushes Ġrust Ġruth Ġruthless Ġs Ġsa Ġsac Ġsack Ġsacrament Ġsacred Ġsacrif Ġsacrifice Ġsad Ġsadly Ġsadness Ġsaf Ġsafe Ġsafeguard Ġsafely Ġsafer Ġsafety Ġsaid Ġsail Ġsailors Ġsails Ġsaint Ġsaints Ġsake Ġsal Ġsalt Ġsalute Ġsame Ġsan Ġsanct Ġsanctuary Ġsand Ġsands Ġsap Ġsat Ġsatisf Ġsatisfaction Ġsatisfied Ġsatisfy Ġsau Ġsaucy Ġsav Ġsavage Ġsave Ġsaved Ġsaw Ġsay Ġsayest Ġsaying Ġsays Ġsc Ġscandal Ġscape Ġscar Ġscarce Ġscarcely Ġscare Ġscarlet Ġscars Ġscatter Ġscene Ġscept Ġsceptre Ġsch Ġscholar Ġschool Ġschoolmaster Ġscold Ġscolding Ġscope Ġscore Ġscorn Ġscorns Ġscour Ġscourge Ġscouts Ġscra Ġscratch Ġscru Ġse Ġsea Ġseal Ġsear Ġsearch Ġseas Ġseason Ġseat Ġseated Ġsec Ġsecond Ġsecret Ġsecrets Ġsecure Ġsed Ġsee Ġseeing Ġseek Ġseeking Ġseeks Ġseem Ġseemeth Ġseeming Ġseems Ġseen Ġsees Ġseest Ġseiz Ġseize Ġseized Ġseldom Ġself Ġselfsame Ġsell Ġsem Ġsen Ġsenate Ġsenators Ġsend Ġsending Ġsends Ġsenis Ġsens Ġsense Ġsenseless Ġsenses Ġsensible Ġsent Ġsentence Ġsentenced Ġsepar Ġseparated Ġsepul Ġsepulch Ġsepulchre Ġsequ Ġser Ġserious Ġserp Ġserpent Ġserv Ġservant Ġservants Ġserve Ġserved Ġserves Ġservice Ġservices Ġsess Ġsession Ġset Ġsets Ġsettled Ġseven Ġsevent Ġsever Ġseveral Ġsevere Ġseverity Ġsex Ġsh Ġsha Ġshad Ġshade Ġshadow Ġshadows Ġshake Ġshall Ġshallow Ġshalt Ġsham Ġshame Ġshamed Ġshameless Ġshape Ġshapes Ġshar Ġshare Ġsharp Ġshe Ġshed Ġsheep Ġsheets Ġshel Ġshelter Ġshepher Ġshepherd Ġshepherds Ġshi Ġshield Ġshine Ġshines Ġship Ġships Ġsho Ġshock Ġshoes Ġshook Ġshop Ġshore Ġshores Ġshort Ġshorten Ġshortly Ġshot Ġshould Ġshoulder Ġshoulders Ġshouldst Ġshout Ġshouts Ġshow Ġshower Ġshowers Ġshown Ġshows Ġshr Ġshrew Ġshrewd Ġshri Ġshriek Ġshrift Ġshrink Ġshroud Ġshru Ġshun Ġshunn Ġshut Ġsick Ġsickly Ġsickness Ġside Ġsides Ġsiege Ġsigh Ġsighs Ġsight Ġsights Ġsign Ġsignal Ġsignify Ġsignories Ġsigns Ġsil Ġsilence Ġsilent Ġsilk Ġsilken Ġsilly Ġsilver Ġsim Ġsimple Ġsin Ġsince Ġsine Ġsinew Ġsing Ġsingle Ġsings Ġsingular Ġsink Ġsins Ġsir Ġsire Ġsirrah Ġsirs Ġsister Ġsisterhood Ġsit Ġsith Ġsits Ġsitting Ġsix Ġsixt Ġsixteen Ġsk Ġskill Ġskin Ġskulls Ġsky Ġsl Ġslack Ġslain Ġslander Ġslanderous Ġslanders Ġslaughter Ġslave Ġslaves Ġslay Ġsle Ġsleep Ġsleeping Ġsleeps Ġsleepy Ġslender Ġslept Ġslew Ġslide Ġslight Ġslily Ġslip Ġslipp Ġslow Ġsly Ġsm Ġsmall Ġsmallest Ġsmell Ġsmelt Ġsmil Ġsmile Ġsmiled Ġsmiles Ġsmiling Ġsmo Ġsmoking Ġsmooth Ġsmother Ġsn Ġsnow Ġso Ġsoar Ġsober Ġsoci Ġsociety Ġsoft Ġsoften Ġsoil Ġsolace Ġsold Ġsoldier Ġsoldiers Ġsole Ġsolely Ġsolemn Ġsolemnity Ġsolic Ġsolicit Ġsome Ġsomebod Ġsomebody Ġsomet Ġsomething Ġsometime Ġsometimes Ġsomewhat Ġson Ġsong Ġsongs Ġsons Ġsoon Ġsooner Ġsoonest Ġsooth Ġsore Ġsorrow Ġsorrows Ġsorry Ġsort Ġsought Ġsoul Ġsouls Ġsound Ġsounded Ġsoundly Ġsounds Ġsour Ġsouth Ġsovere Ġsovereign Ġsovereignty Ġsow Ġsp Ġspace Ġspake Ġspar Ġspare Ġspark Ġsparkling Ġspe Ġspeak Ġspeaking Ġspeaks Ġspear Ġspeci Ġspecial Ġspect Ġspectacle Ġsped Ġspeech Ġspeeches Ġspeechless Ġspeed Ġspeedily Ġspeedy Ġspell Ġspend Ġspent Ġspices Ġspider Ġspiders Ġspilt Ġspir Ġspirit Ġspirits Ġspit Ġspite Ġspl Ġsple Ġspleen Ġsplit Ġspo Ġspoil Ġspoils Ġspoke Ġspoken Ġsport Ġspot Ġspotted Ġspr Ġspread Ġspring Ġsprings Ġsprites Ġspur Ġspurn Ġspurs Ġspy Ġsqu Ġst Ġstab Ġstabb Ġstabbed Ġstaff Ġstag Ġstage Ġstain Ġstale Ġstall Ġstamp Ġstand Ġstanding Ġstands Ġstar Ġstark Ġstars Ġstart Ġstarts Ġstarve Ġstat Ġstate Ġstatue Ġstatutes Ġstay Ġstays Ġste Ġstead Ġsteal Ġsteed Ġsteeds Ġsteel Ġsteep Ġstem Ġstep Ġsteps Ġstern Ġsteter Ġsteterat Ġstew Ġsteward Ġstick Ġstiff Ġstill Ġsting Ġstink Ġstinking Ġstint Ġstir Ġstirring Ġstirru Ġstirs Ġsto Ġstock Ġstocks Ġstol Ġstole Ġstolen Ġstomach Ġstone Ġstones Ġstood Ġstoop Ġstooping Ġstop Ġstopp Ġstops Ġstor Ġstore Ġstorm Ġstorms Ġstory Ġstout Ġstra Ġstraight Ġstrain Ġstrait Ġstran Ġstrang Ġstrange Ġstrangely Ġstranger Ġstrat Ġstratagems Ġstraw Ġstray Ġstre Ġstreak Ġstream Ġstreet Ġstreets Ġstreng Ġstrength Ġstrengthen Ġstret Ġstretch Ġstrew Ġstri Ġstrict Ġstride Ġstrife Ġstrike Ġstring Ġstripes Ġstrive Ġstro Ġstroke Ġstrokes Ġstrong Ġstronger Ġstrongly Ġstru Ġstruck Ġstrumpet Ġstu Ġstubborn Ġstud Ġstudied Ġstudies Ġstudy Ġstuff Ġstumble Ġstumbled Ġsty Ġsu Ġsub Ġsubd Ġsubdue Ġsubdued Ġsubject Ġsubjects Ġsubmission Ġsuborn Ġsubsc Ġsubscribe Ġsubst Ġsubstance Ġsubstit Ġsubstitute Ġsubtle Ġsuburbs Ġsucc Ġsucceed Ġsuccess Ġsuccession Ġsuccor Ġsuch Ġsuck Ġsudden Ġsuddenly Ġsue Ġsued Ġsues Ġsuff Ġsuffer Ġsufferance Ġsuffering Ġsuffic Ġsuffice Ġsufficient Ġsugar Ġsugg Ġsuit Ġsuitor Ġsuitors Ġsuits Ġsull Ġsullen Ġsulp Ġsulphur Ġsum Ġsumm Ġsummer Ġsummers Ġsummon Ġsun Ġsunder Ġsung Ġsuns Ġsunshine Ġsup Ġsuper Ġsuperfl Ġsupp Ġsupper Ġsupple Ġsuppli Ġsuppliant Ġsupply Ġsupport Ġsuppose Ġsupposed Ġsupreme Ġsur Ġsure Ġsurely Ġsuret Ġsurfeit Ġsurly Ġsurm Ġsurn Ġsurname Ġsurp Ġsurpr Ġsurprised Ġsurvey Ġsus Ġsuspect Ġsuspicion Ġsw Ġswain Ġswallow Ġsway Ġswear Ġswearing Ġswears Ġsweat Ġsweet Ġsweeter Ġsweetest Ġsweetly Ġsweets Ġswell Ġswelling Ġswift Ġswifter Ġswiftly Ġswim Ġswine Ġswoon Ġsword Ġswords Ġswore Ġsworn Ġsy Ġsyll Ġsymp Ġt Ġta Ġtable Ġtack Ġtail Ġtailor Ġtainted Ġtake Ġtaken Ġtakes Ġtakest Ġtaking Ġtale Ġtales Ġtalk Ġtalked Ġtalking Ġtall Ġtame Ġtamed Ġtap Ġtapster Ġtard Ġtardy Ġtarry Ġtask Ġtaste Ġtatter Ġtaught Ġtaunt Ġtaunts Ġtax Ġtea Ġteach Ġtear Ġtears Ġtedious Ġteeming Ġteeth Ġtell Ġtelling Ġtells Ġtellus Ġtem Ġtemp Ġtemper Ġtemperate Ġtempest Ġtemple Ġtemples Ġtempor Ġtempt Ġtempted Ġten Ġtend Ġtender Ġtenderly Ġtenderness Ġtending Ġtent Ġtents Ġter Ġterm Ġterms Ġterr Ġterrible Ġterritories Ġterror Ġtest Ġtestim Ġtestimony Ġth Ġthan Ġthank Ġthankful Ġthanks Ġthat Ġthe Ġthee Ġtheir Ġtheirs Ġthem Ġtheme Ġthemselves Ġthen Ġthence Ġthere Ġthereby Ġtherefore Ġtherein Ġthereof Ġthereto Ġthese Ġthey Ġthick Ġthie Ġthief Ġthieves Ġthin Ġthine Ġthing Ġthings Ġthink Ġthinking Ġthinks Ġthir Ġthird Ġthirst Ġthirsty Ġthirty Ġthis Ġthither Ġthorn Ġthorns Ġthorny Ġthose Ġthou Ġthough Ġthought Ġthoughts Ġthousand Ġthousands Ġthr Ġthra Ġthread Ġthreat Ġthreaten Ġthreatening Ġthreats Ġthree Ġthreef Ġthreefold Ġthrees Ġthres Ġthrew Ġthri Ġthrice Ġthrive Ġthro Ġthroat Ġthroats Ġthrone Ġthrong Ġthrough Ġthroughly Ġthrow Ġthrown Ġthrust Ġthumb Ġthunder Ġthus Ġthw Ġthy Ġthyself Ġtide Ġtides Ġtidings Ġtie Ġtied Ġtig Ġtiger Ġtil Ġtill Ġtim Ġtime Ġtimeless Ġtimes Ġtimorous Ġtink Ġtinker Ġtire Ġtired Ġtit Ġtitle Ġtitles Ġto Ġtoad Ġtoads Ġtoe Ġtogether Ġtoil Ġtoken Ġtold Ġtomb Ġtomorrow Ġton Ġtong Ġtongue Ġtongueless Ġtongues Ġtonight Ġtoo Ġtook Ġtooth Ġtop Ġtops Ġtor Ġtorch Ġtorches Ġtorment Ġtorments Ġtorn Ġtort Ġtorture Ġtoss Ġtou Ġtouch Ġtoucheth Ġtoward Ġtowards Ġtower Ġtown Ġtowns Ġtoy Ġtoys Ġtr Ġtra Ġtrade Ġtrades Ġtraffic Ġtraged Ġtragic Ġtrain Ġtraitor Ġtraitors Ġtrans Ġtransg Ġtransport Ġtransported Ġtravell Ġtre Ġtreacher Ġtreacherous Ġtreachery Ġtread Ġtreason Ġtreasons Ġtreasure Ġtreat Ġtreaty Ġtreble Ġtree Ġtrees Ġtrem Ġtremble Ġtrembles Ġtrembling Ġtren Ġtrenches Ġtres Ġtrespass Ġtri Ġtrial Ġtrib Ġtribune Ġtribunes Ġtribute Ġtrick Ġtricks Ġtried Ġtrif Ġtrifles Ġtrim Ġtriump Ġtriumph Ġtriumphant Ġtriumphs Ġtro Ġtrod Ġtroop Ġtroops Ġtroth Ġtrou Ġtroubl Ġtrouble Ġtroubled Ġtroublous Ġtrow Ġtru Ġtrudge Ġtrue Ġtruer Ġtruly Ġtrump Ġtrumpet Ġtrumpets Ġtrunk Ġtrust Ġtrusty Ġtruth Ġtry Ġtum Ġtumble Ġtumbling Ġtumult Ġtune Ġtunes Ġtur Ġturn Ġturned Ġturning Ġturns Ġturtle Ġtut Ġtutor Ġtw Ġtwain Ġtwelve Ġtwenty Ġtwice Ġtwo Ġty Ġtyran Ġtyrann Ġtyrannous Ġtyranny Ġtyrant Ġu Ġug Ġugly Ġun Ġunacc Ġunaccustom Ġunavoided Ġunaw Ġunawares Ġunb Ġunborn Ġunc Ġuncertain Ġuncle Ġuncles Ġund Ġunder Ġundergo Ġunderne Ġunderneath Ġunderstand Ġunderstanding Ġundert Ġundertake Ġundo Ġundone Ġune Ġuneven Ġunf Ġunfe Ġunfeigned Ġunfit Ġunfold Ġung Ġungentle Ġungra Ġunhappy Ġunity Ġunivers Ġunjust Ġunjustly Ġunk Ġunkind Ġunkindness Ġunknown Ġunl Ġunlawful Ġunless Ġunlike Ġunlo Ġunlook Ġunluck Ġunluckily Ġunm Ġunman Ġunnat Ġunnatural Ġunp Ġunple Ġunpleasing Ġunpro Ġunprovided Ġunre Ġunrest Ġunrevere Ġunruly Ġuns Ġunse Ġunseen Ġunst Ġunt Ġunthrift Ġuntil Ġuntimely Ġunto Ġunusual Ġunw Ġunwill Ġunwilling Ġunworthy Ġup Ġupon Ġupper Ġupright Ġur Ġurge Ġurged Ġurging Ġus Ġusage Ġuse Ġused Ġusing Ġusure Ġusurer Ġusurp Ġusurping Ġut Ġutmost Ġutter Ġutterance Ġv Ġvain Ġval Ġvaliant Ġvalour Ġvalue Ġvan Ġvanish Ġvanity Ġvanqu Ġvantage Ġvap Ġvar Ġvarlet Ġvass Ġvassal Ġvast Ġvault Ġve Ġvehe Ġveil Ġveins Ġvel Ġvelvet Ġven Ġvenge Ġvengeance Ġvenom Ġvent Ġventure Ġver Ġverge Ġverity Ġvery Ġvessel Ġvest Ġvex Ġvexation Ġvi Ġvial Ġvice Ġvices Ġvict Ġvictorious Ġvictory Ġvie Ġview Ġvig Ġvigour Ġvile Ġvill Ġvillain Ġvillains Ġvillany Ġvine Ġvineyard Ġvio Ġviol Ġviolate Ġviolence Ġviolent Ġviolet Ġvirg Ġvirgin Ġvirt Ġvirtue Ġvirtues Ġvirtuous Ġvis Ġvisage Ġvisit Ġvisitation Ġvisiting Ġvisor Ġvo Ġvoice Ġvoices Ġvol Ġvolume Ġvouch Ġvow Ġvows Ġvul Ġvulgar Ġw Ġwa Ġwag Ġwager Ġwagon Ġwail Ġwait Ġwaits Ġwake Ġwaked Ġwaken Ġwakes Ġwaking Ġwalk Ġwalks Ġwall Ġwalls Ġwander Ġwandering Ġwaning Ġwant Ġwanting Ġwanton Ġwants Ġwar Ġward Ġware Ġwarlike Ġwarm Ġwarn Ġwarning Ġwarrant Ġwarrants Ġwarri Ġwarriors Ġwars Ġwary Ġwas Ġwash Ġwasp Ġwast Ġwaste Ġwasted Ġwat Ġwatch Ġwatchful Ġwater Ġwaters Ġwatery Ġwave Ġwaves Ġwax Ġway Ġways Ġwayward Ġwe Ġweak Ġweakness Ġweal Ġwealth Ġwealthy Ġweap Ġweapon Ġweapons Ġwear Ġwearing Ġwears Ġweary Ġweather Ġweb Ġwed Ġwedded Ġwedding Ġweed Ġweeds Ġweek Ġweep Ġweeping Ġweeps Ġweigh Ġweight Ġweighty Ġwel Ġwelcom Ġwelcome Ġwelcomes Ġwelkin Ġwell Ġwench Ġwenches Ġwent Ġwept Ġwere Ġwert Ġwest Ġwester Ġwestern Ġwet Ġwh Ġwhat Ġwhate Ġwhatsoever Ġwhe Ġwheel Ġwheels Ġwhen Ġwhence Ġwhere Ġwherefore Ġwherein Ġwhereof Ġwhereon Ġwheres Ġwhet Ġwhether Ġwhi Ġwhich Ġwhile Ġwhiles Ġwhilst Ġwhip Ġwhipped Ġwhipt Ġwhisper Ġwhispering Ġwhist Ġwhistle Ġwhit Ġwhite Ġwhither Ġwho Ġwhole Ġwholesome Ġwhom Ġwhore Ġwhoreson Ġwhose Ġwhy Ġwicked Ġwid Ġwide Ġwidow Ġwidows Ġwife Ġwild Ġwildly Ġwilful Ġwill Ġwilling Ġwillingly Ġwills Ġwilt Ġwin Ġwind Ġwinding Ġwindow Ġwindows Ġwinds Ġwine Ġwing Ġwinged Ġwings Ġwink Ġwinter Ġwinters Ġwipe Ġwis Ġwisdom Ġwise Ġwisely Ġwisest Ġwish Ġwishes Ġwishing Ġwit Ġwitch Ġwitchcraft Ġwith Ġwithal Ġwithdraw Ġwither Ġwithin Ġwithout Ġwitness Ġwitnesses Ġwits Ġwives Ġwo Ġwoe Ġwoeful Ġwoes Ġwoful Ġwol Ġwolf Ġwolves Ġwom Ġwoman Ġwomanish Ġwomb Ġwomen Ġwon Ġwond Ġwonder Ġwonderful Ġwondering Ġwonders Ġwondrous Ġwont Ġwoo Ġwood Ġwooers Ġwooing Ġwor Ġword Ġwords Ġwore Ġwork Ġworld Ġworldly Ġworm Ġworms Ġworn Ġworse Ġworser Ġworshi Ġworship Ġworshipful Ġworships Ġworst Ġworth Ġworthi Ġworthier Ġworthiest Ġworthily Ġworthy Ġwot Ġwould Ġwouldst Ġwound Ġwounded Ġwounds Ġwr Ġwra Ġwrangling Ġwrath Ġwre Ġwreck Ġwret Ġwretch Ġwretched Ġwretchedness Ġwring Ġwrink Ġwrinkled Ġwrit Ġwrite Ġwriting Ġwritten Ġwrong Ġwronged Ġwrongfully Ġwrongs Ġwrought Ġy Ġyare Ġye Ġyea Ġyear Ġyears Ġyellow Ġyes Ġyester Ġyesternight Ġyet Ġyew Ġyield Ġyielded Ġyielding Ġyields Ġyoke Ġyon Ġyond Ġyonder Ġyou Ġyoung Ġyounger Ġyoungest Ġyour Ġyours Ġyourself Ġyourselves Ġyouth Ġyouthful Ġz Ġzeal ĠĠ ġ Ģ ģ Ĥ ĥ Ħ ħ Ĩ ĩ Ī ī Ĭ ĭ Į į İ ı Ĳ ĳ Ĵ ĵ Ķ ķ ĸ Ĺ ĺ Ļ ļ Ľ ľ Ŀ ŀ Ł ł Ń\n"
     ]
    }
   ],
   "source": [
    "print('Number of unique tokens in the dataset =', vocab_size)\n",
    "print('\\nWhich are following : \\n', ' '.join(sorted(vocab.keys())))"
   ]
  },
  {
   "cell_type": "code",
   "execution_count": null,
   "id": "88f589cc",
   "metadata": {},
   "outputs": [],
   "source": []
  },
  {
   "cell_type": "code",
   "execution_count": 10,
   "id": "b09cf7c8",
   "metadata": {},
   "outputs": [],
   "source": [
    "# chars = sorted(list(set(text.split())))\n",
    "# vocab_size = len(chars)\n",
    "\n",
    "# print('Number of unique characters in the dataset =',vocab_size)\n",
    "# print('\\nWhich are following : \\n',' '.join(chars))"
   ]
  },
  {
   "cell_type": "code",
   "execution_count": null,
   "id": "363a1034",
   "metadata": {},
   "outputs": [],
   "source": []
  },
  {
   "cell_type": "markdown",
   "id": "05abb920",
   "metadata": {},
   "source": [
    "### 2.2 Building Tokenizer  (Custom Encoder, Decoder)"
   ]
  },
  {
   "cell_type": "code",
   "execution_count": null,
   "id": "7573b8ec",
   "metadata": {},
   "outputs": [],
   "source": []
  },
  {
   "cell_type": "code",
   "execution_count": 11,
   "id": "177a1265",
   "metadata": {},
   "outputs": [],
   "source": [
    "# Encode the text\n",
    "encoded_text = tokenizer.encode(text).ids"
   ]
  },
  {
   "cell_type": "code",
   "execution_count": 12,
   "id": "4d84ca6d",
   "metadata": {
    "scrolled": true
   },
   "outputs": [
    {
     "data": {
      "text/plain": [
       "312505"
      ]
     },
     "execution_count": 12,
     "metadata": {},
     "output_type": "execute_result"
    }
   ],
   "source": [
    "len(encoded_text)"
   ]
  },
  {
   "cell_type": "markdown",
   "id": "44f3b240",
   "metadata": {},
   "source": [
    "### 2.3 Encoding The Dataset "
   ]
  },
  {
   "cell_type": "code",
   "execution_count": 13,
   "id": "bd5b2939",
   "metadata": {},
   "outputs": [],
   "source": [
    "import tensorflow as tf"
   ]
  },
  {
   "cell_type": "code",
   "execution_count": 14,
   "id": "29f2fede",
   "metadata": {},
   "outputs": [
    {
     "name": "stdout",
     "output_type": "stream",
     "text": [
      "(312505,) <dtype: 'int64'>\n"
     ]
    }
   ],
   "source": [
    "data = tf.convert_to_tensor(encoded_text, dtype=tf.int64)\n",
    "print(data.shape, data.dtype)"
   ]
  },
  {
   "cell_type": "code",
   "execution_count": 15,
   "id": "3e479314",
   "metadata": {},
   "outputs": [
    {
     "name": "stdout",
     "output_type": "stream",
     "text": [
      "tf.Tensor(\n",
      "[ 675 1200   29  202 2346  335 2751  806 2306   15  678  321  620   17\n",
      "  202  202 1235   29  202 2542   15  620   17  202  202  675 1200   29\n",
      "  202  569  422  399 4196 1502  291  968  531  291 7922   34  202  202\n",
      " 1235   29  202 3666 5591   17 4196   17  202  202  675 1200   29  202\n",
      "  675   15  292  508 3996 1421  328 3757 1945  291  271 1196   17  202\n",
      "  202 1235   29  202  671  508  670   15  335  508  670   17  202  202\n",
      "  675 1200   29  202  948  534 1318  364   15  300  335  459  359 3148\n",
      "  463  416], shape=(100,), dtype=int64)\n"
     ]
    }
   ],
   "source": [
    "print(data[:100])"
   ]
  },
  {
   "cell_type": "markdown",
   "id": "cf4a07ec",
   "metadata": {},
   "source": [
    "### 2.4 Splitting the dataset (Train,Validate) "
   ]
  },
  {
   "cell_type": "code",
   "execution_count": 16,
   "id": "390ed53a",
   "metadata": {},
   "outputs": [],
   "source": [
    "limit = int(0.9 * len(data))\n",
    "\n",
    "train_data = data[:limit]\n",
    "val_data = data[limit:]"
   ]
  },
  {
   "cell_type": "code",
   "execution_count": 17,
   "id": "49b3e8b3",
   "metadata": {},
   "outputs": [
    {
     "name": "stdout",
     "output_type": "stream",
     "text": [
      "tf.Tensor(\n",
      "[ 675 1200   29  202 2346  335 2751  806 2306   15  678  321  620   17\n",
      "  202  202 1235   29  202 2542   15  620   17  202  202  675 1200   29\n",
      "  202  569  422  399 4196 1502  291  968  531  291 7922   34  202  202\n",
      " 1235   29  202 3666 5591   17 4196   17  202  202  675 1200   29  202\n",
      "  675   15  292  508 3996 1421  328 3757 1945  291  271 1196   17  202\n",
      "  202 1235   29  202  671  508  670   15  335  508  670   17  202  202\n",
      "  675 1200   29  202  948  534 1318  364   15  300  335  459  359 3148\n",
      "  463  416], shape=(100,), dtype=int64)\n"
     ]
    }
   ],
   "source": [
    "print(train_data[:100])"
   ]
  },
  {
   "cell_type": "markdown",
   "id": "c145874a",
   "metadata": {},
   "source": [
    "### 2.5 Chunking Dataset in Blocks (x,y) (To Train Transformer) "
   ]
  },
  {
   "cell_type": "markdown",
   "id": "89faacd3",
   "metadata": {},
   "source": [
    "#### Concept "
   ]
  },
  {
   "cell_type": "code",
   "execution_count": 18,
   "id": "e865aaf6",
   "metadata": {},
   "outputs": [
    {
     "data": {
      "text/plain": [
       "<tf.Tensor: shape=(9,), dtype=int64, numpy=array([ 675, 1200,   29,  202, 2346,  335, 2751,  806, 2306], dtype=int64)>"
      ]
     },
     "execution_count": 18,
     "metadata": {},
     "output_type": "execute_result"
    }
   ],
   "source": [
    "block_size = 8\n",
    "train_data[:block_size+1]"
   ]
  },
  {
   "cell_type": "code",
   "execution_count": 19,
   "id": "b41fd336",
   "metadata": {},
   "outputs": [
    {
     "name": "stdout",
     "output_type": "stream",
     "text": [
      "for input:  [675]   target is:  1200\n",
      "for input:  [675, 1200]   target is:  29\n",
      "for input:  [675, 1200, 29]   target is:  202\n",
      "for input:  [675, 1200, 29, 202]   target is:  2346\n",
      "for input:  [675, 1200, 29, 202, 2346]   target is:  335\n",
      "for input:  [675, 1200, 29, 202, 2346, 335]   target is:  2751\n",
      "for input:  [675, 1200, 29, 202, 2346, 335, 2751]   target is:  806\n",
      "for input:  [675, 1200, 29, 202, 2346, 335, 2751, 806]   target is:  2306\n"
     ]
    }
   ],
   "source": [
    "x = train_data[:block_size]\n",
    "y = train_data[1:block_size+1]\n",
    "\n",
    "for token in range(block_size):\n",
    "    context = x[:token+1]\n",
    "    target = y[token]\n",
    "    print('for input: ',context.numpy().tolist(),'  target is: ',target.numpy().tolist())"
   ]
  },
  {
   "cell_type": "markdown",
   "id": "c1313353",
   "metadata": {},
   "source": [
    "#### Implementation "
   ]
  },
  {
   "cell_type": "code",
   "execution_count": 20,
   "id": "c1cbec8a",
   "metadata": {},
   "outputs": [
    {
     "name": "stdout",
     "output_type": "stream",
     "text": [
      "inputs:\n",
      "(4, 8)\n",
      "tf.Tensor(\n",
      "[[ 202  202 1030 1782   29  202 3406  665]\n",
      " [ 415   17  295 1632  415   15 2013   15]\n",
      " [6996   34  202   37 3420  928  422 7580]\n",
      " [  29  202   50 1169   15 1169   15 2183]], shape=(4, 8), dtype=int64)\n",
      "targets:\n",
      "(4, 8)\n",
      "tf.Tensor(\n",
      "[[ 202 1030 1782   29  202 3406  665  865]\n",
      " [  17  295 1632  415   15 2013   15  202]\n",
      " [  34  202   37 3420  928  422 7580   15]\n",
      " [ 202   50 1169   15 1169   15 2183 3399]], shape=(4, 8), dtype=int64)\n"
     ]
    }
   ],
   "source": [
    "batch_size = 4 #Number of independent input sequences to process in parallel for GPU\n",
    "block_size = 8 #Maximum context length to make predictions\n",
    "\n",
    "def get_batch(split):\n",
    "    #generate small batches of input x & target y\n",
    "    data = train_data if split == 'train' else val_data\n",
    "    randPos = tf.dtypes.cast(tf.random.uniform((batch_size,), minval=0, maxval=(len(data)-block_size)), dtype=tf.int32)\n",
    "    #print(randPos) # random positions in the whole datasets to grab block size chunks\n",
    "    xbatch = tf.stack([data[i:i+block_size] for i in randPos])\n",
    "    ybatch = tf.stack([data[i+1:i+block_size+1] for i in randPos])\n",
    "    \n",
    "    return xbatch, ybatch\n",
    "\n",
    "xbatch, ybatch = get_batch('train')\n",
    "\n",
    "print('inputs:')\n",
    "print(xbatch.shape)\n",
    "print(xbatch)\n",
    "\n",
    "print('targets:')\n",
    "print(ybatch.shape)\n",
    "print(ybatch)"
   ]
  },
  {
   "cell_type": "code",
   "execution_count": 21,
   "id": "aa34eb73",
   "metadata": {},
   "outputs": [
    {
     "name": "stdout",
     "output_type": "stream",
     "text": [
      "for input:  [202]   target is:  202\n",
      "for input:  [202, 202]   target is:  1030\n",
      "for input:  [202, 202, 1030]   target is:  1782\n",
      "for input:  [202, 202, 1030, 1782]   target is:  29\n",
      "for input:  [202, 202, 1030, 1782, 29]   target is:  202\n",
      "for input:  [202, 202, 1030, 1782, 29, 202]   target is:  3406\n",
      "for input:  [202, 202, 1030, 1782, 29, 202, 3406]   target is:  665\n",
      "for input:  [202, 202, 1030, 1782, 29, 202, 3406, 665]   target is:  865\n",
      "for input:  [415]   target is:  17\n",
      "for input:  [415, 17]   target is:  295\n",
      "for input:  [415, 17, 295]   target is:  1632\n",
      "for input:  [415, 17, 295, 1632]   target is:  415\n",
      "for input:  [415, 17, 295, 1632, 415]   target is:  15\n",
      "for input:  [415, 17, 295, 1632, 415, 15]   target is:  2013\n",
      "for input:  [415, 17, 295, 1632, 415, 15, 2013]   target is:  15\n",
      "for input:  [415, 17, 295, 1632, 415, 15, 2013, 15]   target is:  202\n",
      "for input:  [6996]   target is:  34\n",
      "for input:  [6996, 34]   target is:  202\n",
      "for input:  [6996, 34, 202]   target is:  37\n",
      "for input:  [6996, 34, 202, 37]   target is:  3420\n",
      "for input:  [6996, 34, 202, 37, 3420]   target is:  928\n",
      "for input:  [6996, 34, 202, 37, 3420, 928]   target is:  422\n",
      "for input:  [6996, 34, 202, 37, 3420, 928, 422]   target is:  7580\n",
      "for input:  [6996, 34, 202, 37, 3420, 928, 422, 7580]   target is:  15\n",
      "for input:  [29]   target is:  202\n",
      "for input:  [29, 202]   target is:  50\n",
      "for input:  [29, 202, 50]   target is:  1169\n",
      "for input:  [29, 202, 50, 1169]   target is:  15\n",
      "for input:  [29, 202, 50, 1169, 15]   target is:  1169\n",
      "for input:  [29, 202, 50, 1169, 15, 1169]   target is:  15\n",
      "for input:  [29, 202, 50, 1169, 15, 1169, 15]   target is:  2183\n",
      "for input:  [29, 202, 50, 1169, 15, 1169, 15, 2183]   target is:  3399\n"
     ]
    }
   ],
   "source": [
    "for row in range(batch_size):\n",
    "    for token in range(block_size):\n",
    "        context = xbatch[row, :token+1]\n",
    "        target = ybatch[row, token]\n",
    "        print('for input: ',context.numpy().tolist(),'  target is: ',target.numpy().tolist())"
   ]
  },
  {
   "cell_type": "markdown",
   "id": "aab1cedf",
   "metadata": {},
   "source": [
    "## 3 Bigram Language Model "
   ]
  },
  {
   "cell_type": "markdown",
   "id": "f5f1d2c8",
   "metadata": {},
   "source": [
    "### 3.1 Model Architecture  "
   ]
  },
  {
   "cell_type": "code",
   "execution_count": 22,
   "id": "a3eab5a4",
   "metadata": {
    "scrolled": false
   },
   "outputs": [],
   "source": [
    "import tensorflow as tf\n",
    "\n",
    "class BigramLanguageModel(tf.keras.Model):\n",
    "\n",
    "    def __init__(self, vocab_size):\n",
    "        super(BigramLanguageModel, self).__init__()\n",
    "        self.token_embedding_table = tf.keras.layers.Embedding(vocab_size, vocab_size)\n",
    "\n",
    "    def call(self, idx, targets=None, training=False):\n",
    "        logits = self.token_embedding_table(idx)  # (B, T, C)\n",
    "\n",
    "        if targets is None:\n",
    "            loss = None\n",
    "        else:\n",
    "            B, T, C = logits.shape\n",
    "            logits = tf.reshape(logits, (B*T, C))\n",
    "            targets = tf.reshape(targets, (B*T,))\n",
    "            loss = tf.reduce_mean(\n",
    "                tf.nn.sparse_softmax_cross_entropy_with_logits(logits=logits, labels=targets)\n",
    "            )\n",
    "\n",
    "        return logits, loss\n",
    "\n",
    "    def generate(self, idx, max_new_tokens):\n",
    "        for _ in range(max_new_tokens):\n",
    "            logits, _ = self(idx)\n",
    "            logits = logits[:, -1, :]  # (B, C)\n",
    "            probs = tf.nn.softmax(logits, axis=-1)  # (B, C)\n",
    "            idx_next = tf.random.categorical(tf.math.log(probs), 1)  # (B, 1)\n",
    "            idx = tf.concat([idx, idx_next], axis=1)  # (B, T+1)\n",
    "        return idx\n"
   ]
  },
  {
   "cell_type": "markdown",
   "id": "267e7a14",
   "metadata": {},
   "source": [
    "### 3.2 Model Initialization  "
   ]
  },
  {
   "cell_type": "code",
   "execution_count": 23,
   "id": "2251f6bf",
   "metadata": {},
   "outputs": [
    {
     "name": "stdout",
     "output_type": "stream",
     "text": [
      "(32, 9787)\n",
      "tf.Tensor(9.19186, shape=(), dtype=float32)\n"
     ]
    }
   ],
   "source": [
    "model = BigramLanguageModel(vocab_size)\n",
    "\n",
    "\n",
    "logits, loss = model(xbatch, ybatch)\n",
    "print(logits.shape)\n",
    "print(loss)"
   ]
  },
  {
   "cell_type": "markdown",
   "id": "fa38b3fe",
   "metadata": {},
   "source": [
    "#### Untrained Model Results "
   ]
  },
  {
   "cell_type": "code",
   "execution_count": 24,
   "id": "ddb5842a",
   "metadata": {},
   "outputs": [],
   "source": [
    "data = model.generate(idx=tf.zeros((1, 1), dtype=tf.int64), max_new_tokens=100).numpy()[0].tolist()\n",
    "decoded_text = tokenizer.decode(data)"
   ]
  },
  {
   "cell_type": "code",
   "execution_count": 25,
   "id": "fd11f331",
   "metadata": {},
   "outputs": [
    {
     "data": {
      "text/plain": [
       "'ozapable Haarden GreenSpseeessed noon ignawful trembles smileial Was car entreaties crad sepulark VI little smallest wasted nap wit unseen PrBelikefatherkind innocency slipZABETHStri B remediesBehold occup horseshi alter w masqu poundsians draws heigh bids please rates Then hon intentsMasterAumerleBel tong tink remedthough drinks horncl just Bret specialward whole greyh perish Amazon requiredothe cheque sideence� freedomBeing Overdone abilityerbyLAdis turning shieldable run suollow sessisomeTrue shQUEEN dryBAGOnow kinsmen'"
      ]
     },
     "execution_count": 25,
     "metadata": {},
     "output_type": "execute_result"
    }
   ],
   "source": [
    "decoded_text\n",
    "\n",
    "#Total Garbage"
   ]
  },
  {
   "cell_type": "code",
   "execution_count": null,
   "id": "616a17af",
   "metadata": {
    "scrolled": true
   },
   "outputs": [],
   "source": []
  },
  {
   "cell_type": "markdown",
   "id": "553509ee",
   "metadata": {},
   "source": [
    "### 3.3 Model Training "
   ]
  },
  {
   "cell_type": "code",
   "execution_count": 26,
   "id": "81b247ed",
   "metadata": {},
   "outputs": [],
   "source": [
    "optimizer = tf.keras.optimizers.Adam(learning_rate=1e-3)"
   ]
  },
  {
   "cell_type": "code",
   "execution_count": 27,
   "id": "17778fbb",
   "metadata": {},
   "outputs": [
    {
     "name": "stdout",
     "output_type": "stream",
     "text": [
      "Loss =  6.9134645\n"
     ]
    }
   ],
   "source": [
    "batch_size = 4\n",
    "num_steps = 10000\n",
    "\n",
    "for step in range(num_steps):\n",
    "    # Sample a batch of data\n",
    "    xbatch, ybatch = get_batch('train')  # Assuming you have a function get_batch\n",
    "\n",
    "    # Evaluate the loss\n",
    "    with tf.GradientTape() as tape:\n",
    "        logits, loss = model(xbatch, ybatch)\n",
    "\n",
    "    # Compute gradients and update weights\n",
    "    gradients = tape.gradient(loss, model.trainable_variables)\n",
    "    optimizer.apply_gradients(zip(gradients, model.trainable_variables))\n",
    "\n",
    "print('Loss = ',loss.numpy())\n"
   ]
  },
  {
   "cell_type": "code",
   "execution_count": 28,
   "id": "44ace0e2",
   "metadata": {},
   "outputs": [],
   "source": [
    "#Somewhat stuctured results\n",
    "\n",
    "#print(''.join(decode(model.generate(idx=tf.zeros((1, 1), dtype=tf.int64), max_new_tokens=500).numpy()[0].tolist())))"
   ]
  },
  {
   "cell_type": "code",
   "execution_count": 29,
   "id": "d8e63c33",
   "metadata": {},
   "outputs": [],
   "source": [
    "data = model.generate(idx=tf.zeros((1, 1), dtype=tf.int64), max_new_tokens=100).numpy()[0].tolist()\n",
    "decoded_text = tokenizer.decode(data)"
   ]
  },
  {
   "cell_type": "code",
   "execution_count": 30,
   "id": "0c8e202a",
   "metadata": {},
   "outputs": [
    {
     "data": {
      "text/plain": [
       "'etru bo tonLEY purposes effeminateayed soundifter Milong knowingContressed dust notwithopegraELAND Hastoint membTheseouches immortalasonable soilVERpes deck wishesomachConfessurstoPetruchioForgiveshi turns my boy whoresonGaThough confer deserve amb1 unjustlyURcent budge Cle judgment store forms squthw imag spices swords supplyNurse condemnedfound labour turned tiedushaching characousepoorhest� orchardSupp mad tiger Gremio crab Pompeyappare bigger every removetw Tewksbury victory enjoys afternoonWIC stabb myselfusualdist promisedcy revive speechless'"
      ]
     },
     "execution_count": 30,
     "metadata": {},
     "output_type": "execute_result"
    }
   ],
   "source": [
    "decoded_text"
   ]
  }
 ],
 "metadata": {
  "kernelspec": {
   "display_name": "Python 3.8 (tensorflow-gpu)",
   "language": "python",
   "name": "tensorflow-gpu"
  },
  "language_info": {
   "codemirror_mode": {
    "name": "ipython",
    "version": 3
   },
   "file_extension": ".py",
   "mimetype": "text/x-python",
   "name": "python",
   "nbconvert_exporter": "python",
   "pygments_lexer": "ipython3",
   "version": "3.8.18"
  }
 },
 "nbformat": 4,
 "nbformat_minor": 5
}
